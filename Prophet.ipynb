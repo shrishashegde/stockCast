{
  "nbformat": 4,
  "nbformat_minor": 0,
  "metadata": {
    "colab": {
      "provenance": []
    },
    "kernelspec": {
      "name": "python3",
      "display_name": "Python 3"
    },
    "language_info": {
      "name": "python"
    },
    "widgets": {
      "application/vnd.jupyter.widget-state+json": {
        "89e9bb0c06a146bca3f5b433338d42d0": {
          "model_module": "@jupyter-widgets/controls",
          "model_name": "HBoxModel",
          "model_module_version": "1.5.0",
          "state": {
            "_dom_classes": [],
            "_model_module": "@jupyter-widgets/controls",
            "_model_module_version": "1.5.0",
            "_model_name": "HBoxModel",
            "_view_count": null,
            "_view_module": "@jupyter-widgets/controls",
            "_view_module_version": "1.5.0",
            "_view_name": "HBoxView",
            "box_style": "",
            "children": [
              "IPY_MODEL_57f35a21056246d4ae472a4ca8a22721",
              "IPY_MODEL_de9867d1bafd460ca39a00d6b39d7597",
              "IPY_MODEL_bb641646b8cf4270a72fbdff955a9fda"
            ],
            "layout": "IPY_MODEL_ddc2821e974d4fd28feda89c1d20aea5"
          }
        },
        "57f35a21056246d4ae472a4ca8a22721": {
          "model_module": "@jupyter-widgets/controls",
          "model_name": "HTMLModel",
          "model_module_version": "1.5.0",
          "state": {
            "_dom_classes": [],
            "_model_module": "@jupyter-widgets/controls",
            "_model_module_version": "1.5.0",
            "_model_name": "HTMLModel",
            "_view_count": null,
            "_view_module": "@jupyter-widgets/controls",
            "_view_module_version": "1.5.0",
            "_view_name": "HTMLView",
            "description": "",
            "description_tooltip": null,
            "layout": "IPY_MODEL_cdde3b106bc94018982da26f8e903008",
            "placeholder": "​",
            "style": "IPY_MODEL_b49f344e6f09443e8cfb65d4e7a33370",
            "value": "100%"
          }
        },
        "de9867d1bafd460ca39a00d6b39d7597": {
          "model_module": "@jupyter-widgets/controls",
          "model_name": "FloatProgressModel",
          "model_module_version": "1.5.0",
          "state": {
            "_dom_classes": [],
            "_model_module": "@jupyter-widgets/controls",
            "_model_module_version": "1.5.0",
            "_model_name": "FloatProgressModel",
            "_view_count": null,
            "_view_module": "@jupyter-widgets/controls",
            "_view_module_version": "1.5.0",
            "_view_name": "ProgressView",
            "bar_style": "success",
            "description": "",
            "description_tooltip": null,
            "layout": "IPY_MODEL_63b3afd913be46c197cee6d2fec219a1",
            "max": 2,
            "min": 0,
            "orientation": "horizontal",
            "style": "IPY_MODEL_2a7f6bb2905d4442abe05f2aba23dd1e",
            "value": 2
          }
        },
        "bb641646b8cf4270a72fbdff955a9fda": {
          "model_module": "@jupyter-widgets/controls",
          "model_name": "HTMLModel",
          "model_module_version": "1.5.0",
          "state": {
            "_dom_classes": [],
            "_model_module": "@jupyter-widgets/controls",
            "_model_module_version": "1.5.0",
            "_model_name": "HTMLModel",
            "_view_count": null,
            "_view_module": "@jupyter-widgets/controls",
            "_view_module_version": "1.5.0",
            "_view_name": "HTMLView",
            "description": "",
            "description_tooltip": null,
            "layout": "IPY_MODEL_9a2b0ecd65f145fdb12c0101afa13ae6",
            "placeholder": "​",
            "style": "IPY_MODEL_2a69513385954c4f914f28898aa2faee",
            "value": " 2/2 [00:03&lt;00:00,  1.54s/it]"
          }
        },
        "ddc2821e974d4fd28feda89c1d20aea5": {
          "model_module": "@jupyter-widgets/base",
          "model_name": "LayoutModel",
          "model_module_version": "1.2.0",
          "state": {
            "_model_module": "@jupyter-widgets/base",
            "_model_module_version": "1.2.0",
            "_model_name": "LayoutModel",
            "_view_count": null,
            "_view_module": "@jupyter-widgets/base",
            "_view_module_version": "1.2.0",
            "_view_name": "LayoutView",
            "align_content": null,
            "align_items": null,
            "align_self": null,
            "border": null,
            "bottom": null,
            "display": null,
            "flex": null,
            "flex_flow": null,
            "grid_area": null,
            "grid_auto_columns": null,
            "grid_auto_flow": null,
            "grid_auto_rows": null,
            "grid_column": null,
            "grid_gap": null,
            "grid_row": null,
            "grid_template_areas": null,
            "grid_template_columns": null,
            "grid_template_rows": null,
            "height": null,
            "justify_content": null,
            "justify_items": null,
            "left": null,
            "margin": null,
            "max_height": null,
            "max_width": null,
            "min_height": null,
            "min_width": null,
            "object_fit": null,
            "object_position": null,
            "order": null,
            "overflow": null,
            "overflow_x": null,
            "overflow_y": null,
            "padding": null,
            "right": null,
            "top": null,
            "visibility": null,
            "width": null
          }
        },
        "cdde3b106bc94018982da26f8e903008": {
          "model_module": "@jupyter-widgets/base",
          "model_name": "LayoutModel",
          "model_module_version": "1.2.0",
          "state": {
            "_model_module": "@jupyter-widgets/base",
            "_model_module_version": "1.2.0",
            "_model_name": "LayoutModel",
            "_view_count": null,
            "_view_module": "@jupyter-widgets/base",
            "_view_module_version": "1.2.0",
            "_view_name": "LayoutView",
            "align_content": null,
            "align_items": null,
            "align_self": null,
            "border": null,
            "bottom": null,
            "display": null,
            "flex": null,
            "flex_flow": null,
            "grid_area": null,
            "grid_auto_columns": null,
            "grid_auto_flow": null,
            "grid_auto_rows": null,
            "grid_column": null,
            "grid_gap": null,
            "grid_row": null,
            "grid_template_areas": null,
            "grid_template_columns": null,
            "grid_template_rows": null,
            "height": null,
            "justify_content": null,
            "justify_items": null,
            "left": null,
            "margin": null,
            "max_height": null,
            "max_width": null,
            "min_height": null,
            "min_width": null,
            "object_fit": null,
            "object_position": null,
            "order": null,
            "overflow": null,
            "overflow_x": null,
            "overflow_y": null,
            "padding": null,
            "right": null,
            "top": null,
            "visibility": null,
            "width": null
          }
        },
        "b49f344e6f09443e8cfb65d4e7a33370": {
          "model_module": "@jupyter-widgets/controls",
          "model_name": "DescriptionStyleModel",
          "model_module_version": "1.5.0",
          "state": {
            "_model_module": "@jupyter-widgets/controls",
            "_model_module_version": "1.5.0",
            "_model_name": "DescriptionStyleModel",
            "_view_count": null,
            "_view_module": "@jupyter-widgets/base",
            "_view_module_version": "1.2.0",
            "_view_name": "StyleView",
            "description_width": ""
          }
        },
        "63b3afd913be46c197cee6d2fec219a1": {
          "model_module": "@jupyter-widgets/base",
          "model_name": "LayoutModel",
          "model_module_version": "1.2.0",
          "state": {
            "_model_module": "@jupyter-widgets/base",
            "_model_module_version": "1.2.0",
            "_model_name": "LayoutModel",
            "_view_count": null,
            "_view_module": "@jupyter-widgets/base",
            "_view_module_version": "1.2.0",
            "_view_name": "LayoutView",
            "align_content": null,
            "align_items": null,
            "align_self": null,
            "border": null,
            "bottom": null,
            "display": null,
            "flex": null,
            "flex_flow": null,
            "grid_area": null,
            "grid_auto_columns": null,
            "grid_auto_flow": null,
            "grid_auto_rows": null,
            "grid_column": null,
            "grid_gap": null,
            "grid_row": null,
            "grid_template_areas": null,
            "grid_template_columns": null,
            "grid_template_rows": null,
            "height": null,
            "justify_content": null,
            "justify_items": null,
            "left": null,
            "margin": null,
            "max_height": null,
            "max_width": null,
            "min_height": null,
            "min_width": null,
            "object_fit": null,
            "object_position": null,
            "order": null,
            "overflow": null,
            "overflow_x": null,
            "overflow_y": null,
            "padding": null,
            "right": null,
            "top": null,
            "visibility": null,
            "width": null
          }
        },
        "2a7f6bb2905d4442abe05f2aba23dd1e": {
          "model_module": "@jupyter-widgets/controls",
          "model_name": "ProgressStyleModel",
          "model_module_version": "1.5.0",
          "state": {
            "_model_module": "@jupyter-widgets/controls",
            "_model_module_version": "1.5.0",
            "_model_name": "ProgressStyleModel",
            "_view_count": null,
            "_view_module": "@jupyter-widgets/base",
            "_view_module_version": "1.2.0",
            "_view_name": "StyleView",
            "bar_color": null,
            "description_width": ""
          }
        },
        "9a2b0ecd65f145fdb12c0101afa13ae6": {
          "model_module": "@jupyter-widgets/base",
          "model_name": "LayoutModel",
          "model_module_version": "1.2.0",
          "state": {
            "_model_module": "@jupyter-widgets/base",
            "_model_module_version": "1.2.0",
            "_model_name": "LayoutModel",
            "_view_count": null,
            "_view_module": "@jupyter-widgets/base",
            "_view_module_version": "1.2.0",
            "_view_name": "LayoutView",
            "align_content": null,
            "align_items": null,
            "align_self": null,
            "border": null,
            "bottom": null,
            "display": null,
            "flex": null,
            "flex_flow": null,
            "grid_area": null,
            "grid_auto_columns": null,
            "grid_auto_flow": null,
            "grid_auto_rows": null,
            "grid_column": null,
            "grid_gap": null,
            "grid_row": null,
            "grid_template_areas": null,
            "grid_template_columns": null,
            "grid_template_rows": null,
            "height": null,
            "justify_content": null,
            "justify_items": null,
            "left": null,
            "margin": null,
            "max_height": null,
            "max_width": null,
            "min_height": null,
            "min_width": null,
            "object_fit": null,
            "object_position": null,
            "order": null,
            "overflow": null,
            "overflow_x": null,
            "overflow_y": null,
            "padding": null,
            "right": null,
            "top": null,
            "visibility": null,
            "width": null
          }
        },
        "2a69513385954c4f914f28898aa2faee": {
          "model_module": "@jupyter-widgets/controls",
          "model_name": "DescriptionStyleModel",
          "model_module_version": "1.5.0",
          "state": {
            "_model_module": "@jupyter-widgets/controls",
            "_model_module_version": "1.5.0",
            "_model_name": "DescriptionStyleModel",
            "_view_count": null,
            "_view_module": "@jupyter-widgets/base",
            "_view_module_version": "1.2.0",
            "_view_name": "StyleView",
            "description_width": ""
          }
        }
      }
    }
  },
  "cells": [
    {
      "cell_type": "code",
      "source": [
        "!pip install yfinance\n",
        "!pip install prophet"
      ],
      "metadata": {
        "colab": {
          "base_uri": "https://localhost:8080/"
        },
        "id": "XYIHxRC9hs1d",
        "outputId": "b5835ada-d123-4108-9ce3-dcd11fedcdc9"
      },
      "execution_count": 1,
      "outputs": [
        {
          "output_type": "stream",
          "name": "stdout",
          "text": [
            "Looking in indexes: https://pypi.org/simple, https://us-python.pkg.dev/colab-wheels/public/simple/\n",
            "Requirement already satisfied: yfinance in /usr/local/lib/python3.10/dist-packages (0.2.18)\n",
            "Requirement already satisfied: pandas>=1.3.0 in /usr/local/lib/python3.10/dist-packages (from yfinance) (1.5.3)\n",
            "Requirement already satisfied: numpy>=1.16.5 in /usr/local/lib/python3.10/dist-packages (from yfinance) (1.22.4)\n",
            "Requirement already satisfied: requests>=2.26 in /usr/local/lib/python3.10/dist-packages (from yfinance) (2.27.1)\n",
            "Requirement already satisfied: multitasking>=0.0.7 in /usr/local/lib/python3.10/dist-packages (from yfinance) (0.0.11)\n",
            "Requirement already satisfied: lxml>=4.9.1 in /usr/local/lib/python3.10/dist-packages (from yfinance) (4.9.2)\n",
            "Requirement already satisfied: appdirs>=1.4.4 in /usr/local/lib/python3.10/dist-packages (from yfinance) (1.4.4)\n",
            "Requirement already satisfied: pytz>=2022.5 in /usr/local/lib/python3.10/dist-packages (from yfinance) (2022.7.1)\n",
            "Requirement already satisfied: frozendict>=2.3.4 in /usr/local/lib/python3.10/dist-packages (from yfinance) (2.3.7)\n",
            "Requirement already satisfied: cryptography>=3.3.2 in /usr/local/lib/python3.10/dist-packages (from yfinance) (40.0.2)\n",
            "Requirement already satisfied: beautifulsoup4>=4.11.1 in /usr/local/lib/python3.10/dist-packages (from yfinance) (4.11.2)\n",
            "Requirement already satisfied: html5lib>=1.1 in /usr/local/lib/python3.10/dist-packages (from yfinance) (1.1)\n",
            "Requirement already satisfied: soupsieve>1.2 in /usr/local/lib/python3.10/dist-packages (from beautifulsoup4>=4.11.1->yfinance) (2.4.1)\n",
            "Requirement already satisfied: cffi>=1.12 in /usr/local/lib/python3.10/dist-packages (from cryptography>=3.3.2->yfinance) (1.15.1)\n",
            "Requirement already satisfied: six>=1.9 in /usr/local/lib/python3.10/dist-packages (from html5lib>=1.1->yfinance) (1.16.0)\n",
            "Requirement already satisfied: webencodings in /usr/local/lib/python3.10/dist-packages (from html5lib>=1.1->yfinance) (0.5.1)\n",
            "Requirement already satisfied: python-dateutil>=2.8.1 in /usr/local/lib/python3.10/dist-packages (from pandas>=1.3.0->yfinance) (2.8.2)\n",
            "Requirement already satisfied: urllib3<1.27,>=1.21.1 in /usr/local/lib/python3.10/dist-packages (from requests>=2.26->yfinance) (1.26.15)\n",
            "Requirement already satisfied: certifi>=2017.4.17 in /usr/local/lib/python3.10/dist-packages (from requests>=2.26->yfinance) (2022.12.7)\n",
            "Requirement already satisfied: charset-normalizer~=2.0.0 in /usr/local/lib/python3.10/dist-packages (from requests>=2.26->yfinance) (2.0.12)\n",
            "Requirement already satisfied: idna<4,>=2.5 in /usr/local/lib/python3.10/dist-packages (from requests>=2.26->yfinance) (3.4)\n",
            "Requirement already satisfied: pycparser in /usr/local/lib/python3.10/dist-packages (from cffi>=1.12->cryptography>=3.3.2->yfinance) (2.21)\n",
            "Looking in indexes: https://pypi.org/simple, https://us-python.pkg.dev/colab-wheels/public/simple/\n",
            "Requirement already satisfied: prophet in /usr/local/lib/python3.10/dist-packages (1.1.2)\n",
            "Requirement already satisfied: cmdstanpy>=1.0.4 in /usr/local/lib/python3.10/dist-packages (from prophet) (1.1.0)\n",
            "Requirement already satisfied: numpy>=1.15.4 in /usr/local/lib/python3.10/dist-packages (from prophet) (1.22.4)\n",
            "Requirement already satisfied: matplotlib>=2.0.0 in /usr/local/lib/python3.10/dist-packages (from prophet) (3.7.1)\n",
            "Requirement already satisfied: pandas>=1.0.4 in /usr/local/lib/python3.10/dist-packages (from prophet) (1.5.3)\n",
            "Requirement already satisfied: LunarCalendar>=0.0.9 in /usr/local/lib/python3.10/dist-packages (from prophet) (0.0.9)\n",
            "Requirement already satisfied: convertdate>=2.1.2 in /usr/local/lib/python3.10/dist-packages (from prophet) (2.4.0)\n",
            "Requirement already satisfied: holidays>=0.14.2 in /usr/local/lib/python3.10/dist-packages (from prophet) (0.23)\n",
            "Requirement already satisfied: python-dateutil>=2.8.0 in /usr/local/lib/python3.10/dist-packages (from prophet) (2.8.2)\n",
            "Requirement already satisfied: tqdm>=4.36.1 in /usr/local/lib/python3.10/dist-packages (from prophet) (4.65.0)\n",
            "Requirement already satisfied: pymeeus<=1,>=0.3.13 in /usr/local/lib/python3.10/dist-packages (from convertdate>=2.1.2->prophet) (0.5.12)\n",
            "Requirement already satisfied: hijri-converter in /usr/local/lib/python3.10/dist-packages (from holidays>=0.14.2->prophet) (2.3.1)\n",
            "Requirement already satisfied: korean-lunar-calendar in /usr/local/lib/python3.10/dist-packages (from holidays>=0.14.2->prophet) (0.3.1)\n",
            "Requirement already satisfied: ephem>=3.7.5.3 in /usr/local/lib/python3.10/dist-packages (from LunarCalendar>=0.0.9->prophet) (4.1.4)\n",
            "Requirement already satisfied: pytz in /usr/local/lib/python3.10/dist-packages (from LunarCalendar>=0.0.9->prophet) (2022.7.1)\n",
            "Requirement already satisfied: contourpy>=1.0.1 in /usr/local/lib/python3.10/dist-packages (from matplotlib>=2.0.0->prophet) (1.0.7)\n",
            "Requirement already satisfied: cycler>=0.10 in /usr/local/lib/python3.10/dist-packages (from matplotlib>=2.0.0->prophet) (0.11.0)\n",
            "Requirement already satisfied: fonttools>=4.22.0 in /usr/local/lib/python3.10/dist-packages (from matplotlib>=2.0.0->prophet) (4.39.3)\n",
            "Requirement already satisfied: kiwisolver>=1.0.1 in /usr/local/lib/python3.10/dist-packages (from matplotlib>=2.0.0->prophet) (1.4.4)\n",
            "Requirement already satisfied: packaging>=20.0 in /usr/local/lib/python3.10/dist-packages (from matplotlib>=2.0.0->prophet) (23.1)\n",
            "Requirement already satisfied: pillow>=6.2.0 in /usr/local/lib/python3.10/dist-packages (from matplotlib>=2.0.0->prophet) (8.4.0)\n",
            "Requirement already satisfied: pyparsing>=2.3.1 in /usr/local/lib/python3.10/dist-packages (from matplotlib>=2.0.0->prophet) (3.0.9)\n",
            "Requirement already satisfied: six>=1.5 in /usr/local/lib/python3.10/dist-packages (from python-dateutil>=2.8.0->prophet) (1.16.0)\n"
          ]
        }
      ]
    },
    {
      "cell_type": "markdown",
      "source": [
        "Lets start with a basic prophet model with predicting stock price for 9 companies and add on any new features as needed"
      ],
      "metadata": {
        "id": "6VqdWzbdlyMY"
      }
    },
    {
      "cell_type": "code",
      "execution_count": 2,
      "metadata": {
        "colab": {
          "base_uri": "https://localhost:8080/"
        },
        "id": "4DOfFCbGf3EY",
        "outputId": "d2189ff9-9a8c-4dab-b44a-86b9515373ca"
      },
      "outputs": [
        {
          "output_type": "stream",
          "name": "stdout",
          "text": [
            "\r[*********************100%***********************]  1 of 1 completed\n"
          ]
        },
        {
          "output_type": "stream",
          "name": "stderr",
          "text": [
            "INFO:prophet:Disabling daily seasonality. Run prophet with daily_seasonality=True to override this.\n",
            "DEBUG:cmdstanpy:input tempfile: /tmp/tmpakaf4i8w/943pikdj.json\n",
            "DEBUG:cmdstanpy:input tempfile: /tmp/tmpakaf4i8w/rrb4819o.json\n",
            "DEBUG:cmdstanpy:idx 0\n",
            "DEBUG:cmdstanpy:running CmdStan, num_threads: None\n",
            "DEBUG:cmdstanpy:CmdStan args: ['/usr/local/lib/python3.10/dist-packages/prophet/stan_model/prophet_model.bin', 'random', 'seed=87095', 'data', 'file=/tmp/tmpakaf4i8w/943pikdj.json', 'init=/tmp/tmpakaf4i8w/rrb4819o.json', 'output', 'file=/tmp/tmpakaf4i8w/prophet_modelzcjjoq33/prophet_model-20230515194441.csv', 'method=optimize', 'algorithm=lbfgs', 'iter=10000']\n",
            "19:44:41 - cmdstanpy - INFO - Chain [1] start processing\n",
            "INFO:cmdstanpy:Chain [1] start processing\n",
            "19:44:42 - cmdstanpy - INFO - Chain [1] done processing\n",
            "INFO:cmdstanpy:Chain [1] done processing\n"
          ]
        },
        {
          "output_type": "stream",
          "name": "stdout",
          "text": [
            "\r[*********************100%***********************]  1 of 1 completed"
          ]
        },
        {
          "output_type": "stream",
          "name": "stderr",
          "text": [
            "INFO:prophet:Disabling daily seasonality. Run prophet with daily_seasonality=True to override this.\n",
            "DEBUG:cmdstanpy:input tempfile: /tmp/tmpakaf4i8w/uzpq68mn.json\n",
            "DEBUG:cmdstanpy:input tempfile: /tmp/tmpakaf4i8w/v10t1swa.json\n",
            "DEBUG:cmdstanpy:idx 0\n",
            "DEBUG:cmdstanpy:running CmdStan, num_threads: None\n",
            "DEBUG:cmdstanpy:CmdStan args: ['/usr/local/lib/python3.10/dist-packages/prophet/stan_model/prophet_model.bin', 'random', 'seed=45663', 'data', 'file=/tmp/tmpakaf4i8w/uzpq68mn.json', 'init=/tmp/tmpakaf4i8w/v10t1swa.json', 'output', 'file=/tmp/tmpakaf4i8w/prophet_modeldu6ax29i/prophet_model-20230515194442.csv', 'method=optimize', 'algorithm=lbfgs', 'iter=10000']\n",
            "19:44:42 - cmdstanpy - INFO - Chain [1] start processing\n",
            "INFO:cmdstanpy:Chain [1] start processing\n"
          ]
        },
        {
          "output_type": "stream",
          "name": "stdout",
          "text": [
            "\n"
          ]
        },
        {
          "output_type": "stream",
          "name": "stderr",
          "text": [
            "19:44:43 - cmdstanpy - INFO - Chain [1] done processing\n",
            "INFO:cmdstanpy:Chain [1] done processing\n"
          ]
        },
        {
          "output_type": "stream",
          "name": "stdout",
          "text": [
            "\r[*********************100%***********************]  1 of 1 completed"
          ]
        },
        {
          "output_type": "stream",
          "name": "stderr",
          "text": [
            "INFO:prophet:Disabling daily seasonality. Run prophet with daily_seasonality=True to override this.\n",
            "DEBUG:cmdstanpy:input tempfile: /tmp/tmpakaf4i8w/f73196x1.json\n",
            "DEBUG:cmdstanpy:input tempfile: /tmp/tmpakaf4i8w/lakr_94i.json\n",
            "DEBUG:cmdstanpy:idx 0\n",
            "DEBUG:cmdstanpy:running CmdStan, num_threads: None\n",
            "DEBUG:cmdstanpy:CmdStan args: ['/usr/local/lib/python3.10/dist-packages/prophet/stan_model/prophet_model.bin', 'random', 'seed=74027', 'data', 'file=/tmp/tmpakaf4i8w/f73196x1.json', 'init=/tmp/tmpakaf4i8w/lakr_94i.json', 'output', 'file=/tmp/tmpakaf4i8w/prophet_modelykwrxg06/prophet_model-20230515194444.csv', 'method=optimize', 'algorithm=lbfgs', 'iter=10000']\n"
          ]
        },
        {
          "output_type": "stream",
          "name": "stdout",
          "text": [
            "\n"
          ]
        },
        {
          "output_type": "stream",
          "name": "stderr",
          "text": [
            "19:44:44 - cmdstanpy - INFO - Chain [1] start processing\n",
            "INFO:cmdstanpy:Chain [1] start processing\n",
            "19:44:45 - cmdstanpy - INFO - Chain [1] done processing\n",
            "INFO:cmdstanpy:Chain [1] done processing\n"
          ]
        },
        {
          "output_type": "stream",
          "name": "stdout",
          "text": [
            "\r[*********************100%***********************]  1 of 1 completed"
          ]
        },
        {
          "output_type": "stream",
          "name": "stderr",
          "text": [
            "INFO:prophet:Disabling daily seasonality. Run prophet with daily_seasonality=True to override this.\n",
            "DEBUG:cmdstanpy:input tempfile: /tmp/tmpakaf4i8w/dq_zntl5.json\n",
            "DEBUG:cmdstanpy:input tempfile: /tmp/tmpakaf4i8w/_2x4ay8m.json\n",
            "DEBUG:cmdstanpy:idx 0\n",
            "DEBUG:cmdstanpy:running CmdStan, num_threads: None\n",
            "DEBUG:cmdstanpy:CmdStan args: ['/usr/local/lib/python3.10/dist-packages/prophet/stan_model/prophet_model.bin', 'random', 'seed=61740', 'data', 'file=/tmp/tmpakaf4i8w/dq_zntl5.json', 'init=/tmp/tmpakaf4i8w/_2x4ay8m.json', 'output', 'file=/tmp/tmpakaf4i8w/prophet_modelkfstd36m/prophet_model-20230515194446.csv', 'method=optimize', 'algorithm=lbfgs', 'iter=10000']\n",
            "19:44:46 - cmdstanpy - INFO - Chain [1] start processing\n",
            "INFO:cmdstanpy:Chain [1] start processing\n"
          ]
        },
        {
          "output_type": "stream",
          "name": "stdout",
          "text": [
            "\n"
          ]
        },
        {
          "output_type": "stream",
          "name": "stderr",
          "text": [
            "19:44:46 - cmdstanpy - INFO - Chain [1] done processing\n",
            "INFO:cmdstanpy:Chain [1] done processing\n"
          ]
        },
        {
          "output_type": "stream",
          "name": "stdout",
          "text": [
            "\r[*********************100%***********************]  1 of 1 completed"
          ]
        },
        {
          "output_type": "stream",
          "name": "stderr",
          "text": [
            "INFO:prophet:Disabling daily seasonality. Run prophet with daily_seasonality=True to override this.\n",
            "DEBUG:cmdstanpy:input tempfile: /tmp/tmpakaf4i8w/3js9o0ei.json\n"
          ]
        },
        {
          "output_type": "stream",
          "name": "stdout",
          "text": [
            "\n"
          ]
        },
        {
          "output_type": "stream",
          "name": "stderr",
          "text": [
            "DEBUG:cmdstanpy:input tempfile: /tmp/tmpakaf4i8w/tbs5xhk0.json\n",
            "DEBUG:cmdstanpy:idx 0\n",
            "DEBUG:cmdstanpy:running CmdStan, num_threads: None\n",
            "DEBUG:cmdstanpy:CmdStan args: ['/usr/local/lib/python3.10/dist-packages/prophet/stan_model/prophet_model.bin', 'random', 'seed=25095', 'data', 'file=/tmp/tmpakaf4i8w/3js9o0ei.json', 'init=/tmp/tmpakaf4i8w/tbs5xhk0.json', 'output', 'file=/tmp/tmpakaf4i8w/prophet_modelyyokc44a/prophet_model-20230515194448.csv', 'method=optimize', 'algorithm=lbfgs', 'iter=10000']\n",
            "19:44:48 - cmdstanpy - INFO - Chain [1] start processing\n",
            "INFO:cmdstanpy:Chain [1] start processing\n",
            "19:44:48 - cmdstanpy - INFO - Chain [1] done processing\n",
            "INFO:cmdstanpy:Chain [1] done processing\n"
          ]
        },
        {
          "output_type": "stream",
          "name": "stdout",
          "text": [
            "\r[*********************100%***********************]  1 of 1 completed"
          ]
        },
        {
          "output_type": "stream",
          "name": "stderr",
          "text": [
            "INFO:prophet:Disabling daily seasonality. Run prophet with daily_seasonality=True to override this.\n",
            "DEBUG:cmdstanpy:input tempfile: /tmp/tmpakaf4i8w/ave6rsed.json\n"
          ]
        },
        {
          "output_type": "stream",
          "name": "stdout",
          "text": [
            "\n"
          ]
        },
        {
          "output_type": "stream",
          "name": "stderr",
          "text": [
            "DEBUG:cmdstanpy:input tempfile: /tmp/tmpakaf4i8w/93xtygz_.json\n",
            "DEBUG:cmdstanpy:idx 0\n",
            "DEBUG:cmdstanpy:running CmdStan, num_threads: None\n",
            "DEBUG:cmdstanpy:CmdStan args: ['/usr/local/lib/python3.10/dist-packages/prophet/stan_model/prophet_model.bin', 'random', 'seed=85805', 'data', 'file=/tmp/tmpakaf4i8w/ave6rsed.json', 'init=/tmp/tmpakaf4i8w/93xtygz_.json', 'output', 'file=/tmp/tmpakaf4i8w/prophet_modelufaufjw4/prophet_model-20230515194450.csv', 'method=optimize', 'algorithm=lbfgs', 'iter=10000']\n",
            "19:44:50 - cmdstanpy - INFO - Chain [1] start processing\n",
            "INFO:cmdstanpy:Chain [1] start processing\n",
            "19:44:51 - cmdstanpy - INFO - Chain [1] done processing\n",
            "INFO:cmdstanpy:Chain [1] done processing\n"
          ]
        },
        {
          "output_type": "stream",
          "name": "stdout",
          "text": [
            "\r[*********************100%***********************]  1 of 1 completed"
          ]
        },
        {
          "output_type": "stream",
          "name": "stderr",
          "text": [
            "INFO:prophet:Disabling daily seasonality. Run prophet with daily_seasonality=True to override this.\n",
            "DEBUG:cmdstanpy:input tempfile: /tmp/tmpakaf4i8w/bcrobmp6.json\n",
            "DEBUG:cmdstanpy:input tempfile: /tmp/tmpakaf4i8w/zl265nnu.json\n",
            "DEBUG:cmdstanpy:idx 0\n",
            "DEBUG:cmdstanpy:running CmdStan, num_threads: None\n",
            "DEBUG:cmdstanpy:CmdStan args: ['/usr/local/lib/python3.10/dist-packages/prophet/stan_model/prophet_model.bin', 'random', 'seed=12628', 'data', 'file=/tmp/tmpakaf4i8w/bcrobmp6.json', 'init=/tmp/tmpakaf4i8w/zl265nnu.json', 'output', 'file=/tmp/tmpakaf4i8w/prophet_modelxgubt7hl/prophet_model-20230515194453.csv', 'method=optimize', 'algorithm=lbfgs', 'iter=10000']\n",
            "19:44:53 - cmdstanpy - INFO - Chain [1] start processing\n",
            "INFO:cmdstanpy:Chain [1] start processing\n"
          ]
        },
        {
          "output_type": "stream",
          "name": "stdout",
          "text": [
            "\n"
          ]
        },
        {
          "output_type": "stream",
          "name": "stderr",
          "text": [
            "19:44:53 - cmdstanpy - INFO - Chain [1] done processing\n",
            "INFO:cmdstanpy:Chain [1] done processing\n"
          ]
        },
        {
          "output_type": "stream",
          "name": "stdout",
          "text": [
            "\r[*********************100%***********************]  1 of 1 completed"
          ]
        },
        {
          "output_type": "stream",
          "name": "stderr",
          "text": [
            "INFO:prophet:Disabling daily seasonality. Run prophet with daily_seasonality=True to override this.\n",
            "DEBUG:cmdstanpy:input tempfile: /tmp/tmpakaf4i8w/or0vdmgo.json\n",
            "DEBUG:cmdstanpy:input tempfile: /tmp/tmpakaf4i8w/j62ah06o.json\n",
            "DEBUG:cmdstanpy:idx 0\n",
            "DEBUG:cmdstanpy:running CmdStan, num_threads: None\n",
            "DEBUG:cmdstanpy:CmdStan args: ['/usr/local/lib/python3.10/dist-packages/prophet/stan_model/prophet_model.bin', 'random', 'seed=91090', 'data', 'file=/tmp/tmpakaf4i8w/or0vdmgo.json', 'init=/tmp/tmpakaf4i8w/j62ah06o.json', 'output', 'file=/tmp/tmpakaf4i8w/prophet_modelaxk4zgtb/prophet_model-20230515194455.csv', 'method=optimize', 'algorithm=lbfgs', 'iter=10000']\n",
            "19:44:55 - cmdstanpy - INFO - Chain [1] start processing\n",
            "INFO:cmdstanpy:Chain [1] start processing\n"
          ]
        },
        {
          "output_type": "stream",
          "name": "stdout",
          "text": [
            "\n"
          ]
        },
        {
          "output_type": "stream",
          "name": "stderr",
          "text": [
            "19:44:55 - cmdstanpy - INFO - Chain [1] done processing\n",
            "INFO:cmdstanpy:Chain [1] done processing\n"
          ]
        },
        {
          "output_type": "stream",
          "name": "stdout",
          "text": [
            "\r[*********************100%***********************]  1 of 1 completed"
          ]
        },
        {
          "output_type": "stream",
          "name": "stderr",
          "text": [
            "INFO:prophet:Disabling daily seasonality. Run prophet with daily_seasonality=True to override this.\n",
            "DEBUG:cmdstanpy:input tempfile: /tmp/tmpakaf4i8w/3j1u_1f3.json\n"
          ]
        },
        {
          "output_type": "stream",
          "name": "stdout",
          "text": [
            "\n"
          ]
        },
        {
          "output_type": "stream",
          "name": "stderr",
          "text": [
            "DEBUG:cmdstanpy:input tempfile: /tmp/tmpakaf4i8w/omtcv3xe.json\n",
            "DEBUG:cmdstanpy:idx 0\n",
            "DEBUG:cmdstanpy:running CmdStan, num_threads: None\n",
            "DEBUG:cmdstanpy:CmdStan args: ['/usr/local/lib/python3.10/dist-packages/prophet/stan_model/prophet_model.bin', 'random', 'seed=13397', 'data', 'file=/tmp/tmpakaf4i8w/3j1u_1f3.json', 'init=/tmp/tmpakaf4i8w/omtcv3xe.json', 'output', 'file=/tmp/tmpakaf4i8w/prophet_modeltgosggi5/prophet_model-20230515194457.csv', 'method=optimize', 'algorithm=lbfgs', 'iter=10000']\n",
            "19:44:57 - cmdstanpy - INFO - Chain [1] start processing\n",
            "INFO:cmdstanpy:Chain [1] start processing\n",
            "19:44:58 - cmdstanpy - INFO - Chain [1] done processing\n",
            "INFO:cmdstanpy:Chain [1] done processing\n"
          ]
        },
        {
          "output_type": "stream",
          "name": "stdout",
          "text": [
            "[            ds        yhat  yhat_lower  yhat_upper\n",
            "755 2023-05-16  159.183673  152.424665  166.243058\n",
            "756 2023-05-17  158.905910  151.826739  166.055194\n",
            "757 2023-05-18  158.422187  151.342757  165.323745\n",
            "758 2023-05-19  158.137341  151.469378  165.367389\n",
            "759 2023-05-22  158.138703  151.379735  164.939326\n",
            "760 2023-05-23  157.864059  150.797244  164.798864\n",
            "761 2023-05-24  157.856771  150.916740  164.910795\n",
            "762 2023-05-25  157.639525  150.503014  164.402767\n",
            "763 2023-05-26  157.612385  150.602892  164.605989\n",
            "764 2023-05-29  158.294267  151.610493  164.766259,             ds        yhat  yhat_lower  yhat_upper\n",
            "755 2023-05-16  101.173167   96.439267  105.977704\n",
            "756 2023-05-17  101.402623   96.510077  106.314583\n",
            "757 2023-05-18  101.444591   96.795144  106.666100\n",
            "758 2023-05-19  101.339092   96.541822  106.305418\n",
            "759 2023-05-22  101.305373   96.377349  105.725049\n",
            "760 2023-05-23  101.113279   96.452212  106.065843\n",
            "761 2023-05-24  101.437069   96.573997  106.145318\n",
            "762 2023-05-25  101.569821   97.103184  106.303382\n",
            "763 2023-05-26  101.550394   96.882058  106.379839\n",
            "764 2023-05-29  101.737221   97.065262  106.319394,             ds        yhat  yhat_lower  yhat_upper\n",
            "755 2023-05-16  290.058522  280.163640  301.029620\n",
            "756 2023-05-17  290.629526  280.307138  300.761193\n",
            "757 2023-05-18  290.529629  280.412782  300.566116\n",
            "758 2023-05-19  290.504094  280.593088  300.491322\n",
            "759 2023-05-22  290.437809  280.380444  301.383732\n",
            "760 2023-05-23  290.022064  280.096075  300.270208\n",
            "761 2023-05-24  290.873969  281.304387  301.432243\n",
            "762 2023-05-25  291.055428  281.218689  301.617721\n",
            "763 2023-05-26  291.307540  281.560351  301.311640\n",
            "764 2023-05-29  292.018779  281.585672  301.963122,             ds       yhat  yhat_lower  yhat_upper\n",
            "755 2023-05-16  85.313442   75.121121   95.840342\n",
            "756 2023-05-17  84.991771   74.525640   94.529668\n",
            "757 2023-05-18  84.452053   74.046227   93.956935\n",
            "758 2023-05-19  83.622003   73.852687   93.835131\n",
            "759 2023-05-22  83.270440   73.538207   93.248382\n",
            "760 2023-05-23  82.976071   72.229435   93.311281\n",
            "761 2023-05-24  83.170691   73.217006   93.642686\n",
            "762 2023-05-25  83.133015   73.336244   93.944530\n",
            "763 2023-05-26  82.783641   71.607541   93.414338\n",
            "764 2023-05-29  83.686825   73.477513   93.845814,             ds           yhat     yhat_lower     yhat_upper\n",
            "755 2023-05-16  484890.794604  471948.289454  498722.938148\n",
            "756 2023-05-17  485083.334768  472402.731032  498312.957983\n",
            "757 2023-05-18  485200.829748  471789.202915  498163.003963\n",
            "758 2023-05-19  486660.570765  474124.794046  500261.146155\n",
            "759 2023-05-22  488390.197726  476457.007620  501650.155247\n",
            "760 2023-05-23  489296.026695  476397.319410  502115.575627\n",
            "761 2023-05-24  489789.032471  477363.593468  502888.255449\n",
            "762 2023-05-25  490072.086117  477330.978237  502677.602477\n",
            "763 2023-05-26  491554.901437  478140.853951  504538.638941\n",
            "764 2023-05-29  492473.702480  478414.158132  505450.142248,             ds        yhat  yhat_lower  yhat_upper\n",
            "755 2023-05-16  136.353460  131.485655  141.594822\n",
            "756 2023-05-17  136.682988  131.306385  141.480647\n",
            "757 2023-05-18  137.038628  131.919464  142.412848\n",
            "758 2023-05-19  137.701993  132.846651  142.840839\n",
            "759 2023-05-22  139.457147  134.082912  144.092516\n",
            "760 2023-05-23  140.123625  134.873128  145.695489\n",
            "761 2023-05-24  140.664035  135.239571  145.697730\n",
            "762 2023-05-25  141.170795  136.052438  146.012973\n",
            "763 2023-05-26  141.919034  136.691433  147.147025\n",
            "764 2023-05-29  143.488512  138.358357  148.555058,             ds        yhat  yhat_lower  yhat_upper\n",
            "755 2023-05-16  161.530831  157.816476  165.167495\n",
            "756 2023-05-17  161.748464  158.162376  165.814464\n",
            "757 2023-05-18  161.759983  157.898356  165.770942\n",
            "758 2023-05-19  161.983258  158.365726  165.971980\n",
            "759 2023-05-22  161.916069  158.129400  165.661208\n",
            "760 2023-05-23  161.971603  158.099495  165.906302\n",
            "761 2023-05-24  162.095893  158.094205  165.813382\n",
            "762 2023-05-25  161.990762  158.185308  165.784567\n",
            "763 2023-05-26  162.075532  158.135029  165.992009\n",
            "764 2023-05-29  161.485127  157.314657  165.389663,             ds        yhat  yhat_lower  yhat_upper\n",
            "755 2023-05-16  230.247621  221.741345  239.693190\n",
            "756 2023-05-17  230.540234  221.165567  239.505379\n",
            "757 2023-05-18  230.832302  222.256353  240.119982\n",
            "758 2023-05-19  231.447991  222.405355  240.351456\n",
            "759 2023-05-22  233.043732  223.666696  242.927592\n",
            "760 2023-05-23  233.310944  224.540466  242.509806\n",
            "761 2023-05-24  233.930369  224.653645  243.110208\n",
            "762 2023-05-25  234.496746  225.415326  243.155374\n",
            "763 2023-05-26  235.328140  225.980674  244.575945\n",
            "764 2023-05-29  237.178439  228.018423  245.982165,             ds        yhat  yhat_lower  yhat_upper\n",
            "755 2023-05-16  152.850424  149.359295  156.175278\n",
            "756 2023-05-17  152.795158  149.215467  156.201255\n",
            "757 2023-05-18  152.681943  149.309205  156.147422\n",
            "758 2023-05-19  152.895939  149.545640  156.052882\n",
            "759 2023-05-22  152.781306  149.476357  156.054433\n",
            "760 2023-05-23  152.513245  149.245079  155.883779\n",
            "761 2023-05-24  152.486506  148.987109  155.725678\n",
            "762 2023-05-25  152.390384  148.995243  155.736948\n",
            "763 2023-05-26  152.609088  149.141370  155.857961\n",
            "764 2023-05-29  152.431656  148.965350  155.883843]\n"
          ]
        }
      ],
      "source": [
        "import yfinance as yf\n",
        "from datetime import datetime, timedelta\n",
        "import pandas as pd\n",
        "from prophet import Prophet\n",
        "from prophet.plot import plot_plotly, plot_components_plotly\n",
        "\n",
        "def get_historical_data(ticker, start_date, end_date):\n",
        "    stock_data = yf.download(ticker, start=start_date, end=end_date)\n",
        "    return stock_data\n",
        "\n",
        "def train_prophet_model(data):\n",
        "    data = data.reset_index()[['Date', 'Close']].rename({'Date': 'ds', 'Close': 'y'}, axis=1)\n",
        "    model = Prophet()\n",
        "    model.fit(data)\n",
        "    future = model.make_future_dataframe(periods=10, freq='B')\n",
        "    forecast = model.predict(future)\n",
        "    return forecast[['ds', 'yhat', 'yhat_lower', 'yhat_upper']].tail(10)\n",
        "\n",
        "def run_prophet(ticker):\n",
        "    try:\n",
        "        data = get_historical_data(ticker, datetime.now() - timedelta(days=365*3), datetime.now())\n",
        "        forecast = train_prophet_model(data)\n",
        "        return forecast\n",
        "    except Exception as e:\n",
        "        print(f\"Error occurred while fetching data for {ticker}: {str(e)}\")\n",
        "        return None\n",
        "\n",
        "tickers = ['AAPL', 'GOOGL', 'MSFT', 'AMZN', 'BRK-A', 'JPM', 'JNJ', 'V', 'PG']\n",
        "\n",
        "forecasts = []\n",
        "for ticker in tickers:\n",
        "    forecasts.append(run_prophet(ticker))\n",
        "\n",
        "df = pd.concat(forecasts)\n",
        "df['ticker'] = tickers * 10\n",
        "\n",
        "# visualization code\n",
        "#fig = plot_plotly(df, xaxis='ds', yaxis='yhat', color='ticker')\n",
        "print(forecasts)"
      ]
    },
    {
      "cell_type": "code",
      "source": [
        "import yfinance as yf\n",
        "from datetime import datetime, timedelta\n",
        "import pandas as pd\n",
        "from prophet import Prophet\n",
        "from prophet.plot import plot_plotly, plot_components_plotly\n",
        "import threading\n",
        "\n",
        "def get_historical_data(ticker, start_date, end_date):\n",
        "    stock_data = yf.download(ticker, start=start_date, end=end_date)\n",
        "    return stock_data\n",
        "\n",
        "def train_prophet_model(data, periods):\n",
        "    data = data.reset_index()[['Date', 'Close']].rename({'Date': 'ds', 'Close': 'y'}, axis=1)\n",
        "    model = Prophet()\n",
        "    model.fit(data)\n",
        "    future = model.make_future_dataframe(periods=periods, freq='B')\n",
        "    forecast = model.predict(future)\n",
        "    return forecast[['ds', 'yhat', 'yhat_lower', 'yhat_upper']].tail(periods)\n",
        "\n",
        "def run_prophet(ticker, periods):\n",
        "    try:\n",
        "        data = get_historical_data(ticker, datetime.now() - timedelta(days=365*3), datetime.now())\n",
        "        forecast = train_prophet_model(data, periods)\n",
        "        return forecast\n",
        "    except Exception as e:\n",
        "        print(f\"Error occurred while fetching data for {ticker}: {str(e)}\")\n",
        "        return None\n",
        "\n",
        "tickers = ['AAPL', 'GOOGL', 'MSFT', 'AMZN', 'BRK-A', 'JPM', 'JNJ', 'V', 'PG']\n",
        "periods = 10\n",
        "\n",
        "forecasts = []\n",
        "for ticker in tickers:\n",
        "    forecasts.append(run_prophet(ticker, periods))\n",
        "\n",
        "df = pd.concat(forecasts)\n",
        "df['ticker'] = tickers * periods\n",
        "\n",
        "print(forecasts)\n"
      ],
      "metadata": {
        "colab": {
          "base_uri": "https://localhost:8080/"
        },
        "id": "JwNUbGBja8zU",
        "outputId": "986d24cd-1bda-408d-e566-3f6db0d387c6"
      },
      "execution_count": 3,
      "outputs": [
        {
          "output_type": "stream",
          "name": "stdout",
          "text": [
            "\r[*********************100%***********************]  1 of 1 completed"
          ]
        },
        {
          "output_type": "stream",
          "name": "stderr",
          "text": [
            "INFO:prophet:Disabling daily seasonality. Run prophet with daily_seasonality=True to override this.\n"
          ]
        },
        {
          "output_type": "stream",
          "name": "stdout",
          "text": [
            "\n"
          ]
        },
        {
          "output_type": "stream",
          "name": "stderr",
          "text": [
            "DEBUG:cmdstanpy:input tempfile: /tmp/tmpakaf4i8w/ccluasgg.json\n",
            "DEBUG:cmdstanpy:input tempfile: /tmp/tmpakaf4i8w/b18_6lx1.json\n",
            "DEBUG:cmdstanpy:idx 0\n",
            "DEBUG:cmdstanpy:running CmdStan, num_threads: None\n",
            "DEBUG:cmdstanpy:CmdStan args: ['/usr/local/lib/python3.10/dist-packages/prophet/stan_model/prophet_model.bin', 'random', 'seed=26520', 'data', 'file=/tmp/tmpakaf4i8w/ccluasgg.json', 'init=/tmp/tmpakaf4i8w/b18_6lx1.json', 'output', 'file=/tmp/tmpakaf4i8w/prophet_modelw61fy813/prophet_model-20230515194459.csv', 'method=optimize', 'algorithm=lbfgs', 'iter=10000']\n",
            "19:44:59 - cmdstanpy - INFO - Chain [1] start processing\n",
            "INFO:cmdstanpy:Chain [1] start processing\n",
            "19:44:59 - cmdstanpy - INFO - Chain [1] done processing\n",
            "INFO:cmdstanpy:Chain [1] done processing\n"
          ]
        },
        {
          "output_type": "stream",
          "name": "stdout",
          "text": [
            "\r[*********************100%***********************]  1 of 1 completed"
          ]
        },
        {
          "output_type": "stream",
          "name": "stderr",
          "text": [
            "INFO:prophet:Disabling daily seasonality. Run prophet with daily_seasonality=True to override this.\n",
            "DEBUG:cmdstanpy:input tempfile: /tmp/tmpakaf4i8w/mt4an0rc.json\n",
            "DEBUG:cmdstanpy:input tempfile: /tmp/tmpakaf4i8w/rxq969u3.json\n",
            "DEBUG:cmdstanpy:idx 0\n",
            "DEBUG:cmdstanpy:running CmdStan, num_threads: None\n",
            "DEBUG:cmdstanpy:CmdStan args: ['/usr/local/lib/python3.10/dist-packages/prophet/stan_model/prophet_model.bin', 'random', 'seed=5990', 'data', 'file=/tmp/tmpakaf4i8w/mt4an0rc.json', 'init=/tmp/tmpakaf4i8w/rxq969u3.json', 'output', 'file=/tmp/tmpakaf4i8w/prophet_modeltifd5pfl/prophet_model-20230515194500.csv', 'method=optimize', 'algorithm=lbfgs', 'iter=10000']\n",
            "19:45:00 - cmdstanpy - INFO - Chain [1] start processing\n",
            "INFO:cmdstanpy:Chain [1] start processing\n"
          ]
        },
        {
          "output_type": "stream",
          "name": "stdout",
          "text": [
            "\n"
          ]
        },
        {
          "output_type": "stream",
          "name": "stderr",
          "text": [
            "19:45:00 - cmdstanpy - INFO - Chain [1] done processing\n",
            "INFO:cmdstanpy:Chain [1] done processing\n"
          ]
        },
        {
          "output_type": "stream",
          "name": "stdout",
          "text": [
            "\r[*********************100%***********************]  1 of 1 completed"
          ]
        },
        {
          "output_type": "stream",
          "name": "stderr",
          "text": [
            "INFO:prophet:Disabling daily seasonality. Run prophet with daily_seasonality=True to override this.\n",
            "DEBUG:cmdstanpy:input tempfile: /tmp/tmpakaf4i8w/ewfpw2lx.json\n",
            "DEBUG:cmdstanpy:input tempfile: /tmp/tmpakaf4i8w/15nihc78.json\n",
            "DEBUG:cmdstanpy:idx 0\n",
            "DEBUG:cmdstanpy:running CmdStan, num_threads: None\n",
            "DEBUG:cmdstanpy:CmdStan args: ['/usr/local/lib/python3.10/dist-packages/prophet/stan_model/prophet_model.bin', 'random', 'seed=52483', 'data', 'file=/tmp/tmpakaf4i8w/ewfpw2lx.json', 'init=/tmp/tmpakaf4i8w/15nihc78.json', 'output', 'file=/tmp/tmpakaf4i8w/prophet_model32h92qzf/prophet_model-20230515194501.csv', 'method=optimize', 'algorithm=lbfgs', 'iter=10000']\n",
            "19:45:01 - cmdstanpy - INFO - Chain [1] start processing\n",
            "INFO:cmdstanpy:Chain [1] start processing\n"
          ]
        },
        {
          "output_type": "stream",
          "name": "stdout",
          "text": [
            "\n"
          ]
        },
        {
          "output_type": "stream",
          "name": "stderr",
          "text": [
            "19:45:02 - cmdstanpy - INFO - Chain [1] done processing\n",
            "INFO:cmdstanpy:Chain [1] done processing\n"
          ]
        },
        {
          "output_type": "stream",
          "name": "stdout",
          "text": [
            "\r[*********************100%***********************]  1 of 1 completed"
          ]
        },
        {
          "output_type": "stream",
          "name": "stderr",
          "text": [
            "INFO:prophet:Disabling daily seasonality. Run prophet with daily_seasonality=True to override this.\n",
            "DEBUG:cmdstanpy:input tempfile: /tmp/tmpakaf4i8w/re1i59xf.json\n",
            "DEBUG:cmdstanpy:input tempfile: /tmp/tmpakaf4i8w/bw813enb.json\n",
            "DEBUG:cmdstanpy:idx 0\n",
            "DEBUG:cmdstanpy:running CmdStan, num_threads: None\n",
            "DEBUG:cmdstanpy:CmdStan args: ['/usr/local/lib/python3.10/dist-packages/prophet/stan_model/prophet_model.bin', 'random', 'seed=21671', 'data', 'file=/tmp/tmpakaf4i8w/re1i59xf.json', 'init=/tmp/tmpakaf4i8w/bw813enb.json', 'output', 'file=/tmp/tmpakaf4i8w/prophet_modele6ngkrii/prophet_model-20230515194502.csv', 'method=optimize', 'algorithm=lbfgs', 'iter=10000']\n",
            "19:45:02 - cmdstanpy - INFO - Chain [1] start processing\n",
            "INFO:cmdstanpy:Chain [1] start processing\n"
          ]
        },
        {
          "output_type": "stream",
          "name": "stdout",
          "text": [
            "\n"
          ]
        },
        {
          "output_type": "stream",
          "name": "stderr",
          "text": [
            "19:45:02 - cmdstanpy - INFO - Chain [1] done processing\n",
            "INFO:cmdstanpy:Chain [1] done processing\n"
          ]
        },
        {
          "output_type": "stream",
          "name": "stdout",
          "text": [
            "\r[*********************100%***********************]  1 of 1 completed"
          ]
        },
        {
          "output_type": "stream",
          "name": "stderr",
          "text": [
            "INFO:prophet:Disabling daily seasonality. Run prophet with daily_seasonality=True to override this.\n",
            "DEBUG:cmdstanpy:input tempfile: /tmp/tmpakaf4i8w/oio320lv.json\n"
          ]
        },
        {
          "output_type": "stream",
          "name": "stdout",
          "text": [
            "\n"
          ]
        },
        {
          "output_type": "stream",
          "name": "stderr",
          "text": [
            "DEBUG:cmdstanpy:input tempfile: /tmp/tmpakaf4i8w/4z8pe8sa.json\n",
            "DEBUG:cmdstanpy:idx 0\n",
            "DEBUG:cmdstanpy:running CmdStan, num_threads: None\n",
            "DEBUG:cmdstanpy:CmdStan args: ['/usr/local/lib/python3.10/dist-packages/prophet/stan_model/prophet_model.bin', 'random', 'seed=48481', 'data', 'file=/tmp/tmpakaf4i8w/oio320lv.json', 'init=/tmp/tmpakaf4i8w/4z8pe8sa.json', 'output', 'file=/tmp/tmpakaf4i8w/prophet_modelsocqb3q2/prophet_model-20230515194504.csv', 'method=optimize', 'algorithm=lbfgs', 'iter=10000']\n",
            "19:45:04 - cmdstanpy - INFO - Chain [1] start processing\n",
            "INFO:cmdstanpy:Chain [1] start processing\n",
            "19:45:05 - cmdstanpy - INFO - Chain [1] done processing\n",
            "INFO:cmdstanpy:Chain [1] done processing\n"
          ]
        },
        {
          "output_type": "stream",
          "name": "stdout",
          "text": [
            "\r[*********************100%***********************]  1 of 1 completed"
          ]
        },
        {
          "output_type": "stream",
          "name": "stderr",
          "text": [
            "INFO:prophet:Disabling daily seasonality. Run prophet with daily_seasonality=True to override this.\n",
            "DEBUG:cmdstanpy:input tempfile: /tmp/tmpakaf4i8w/g4xhlg23.json\n"
          ]
        },
        {
          "output_type": "stream",
          "name": "stdout",
          "text": [
            "\n"
          ]
        },
        {
          "output_type": "stream",
          "name": "stderr",
          "text": [
            "DEBUG:cmdstanpy:input tempfile: /tmp/tmpakaf4i8w/rzoimmgy.json\n",
            "DEBUG:cmdstanpy:idx 0\n",
            "DEBUG:cmdstanpy:running CmdStan, num_threads: None\n",
            "DEBUG:cmdstanpy:CmdStan args: ['/usr/local/lib/python3.10/dist-packages/prophet/stan_model/prophet_model.bin', 'random', 'seed=67542', 'data', 'file=/tmp/tmpakaf4i8w/g4xhlg23.json', 'init=/tmp/tmpakaf4i8w/rzoimmgy.json', 'output', 'file=/tmp/tmpakaf4i8w/prophet_modell83za5xb/prophet_model-20230515194507.csv', 'method=optimize', 'algorithm=lbfgs', 'iter=10000']\n",
            "19:45:07 - cmdstanpy - INFO - Chain [1] start processing\n",
            "INFO:cmdstanpy:Chain [1] start processing\n",
            "19:45:07 - cmdstanpy - INFO - Chain [1] done processing\n",
            "INFO:cmdstanpy:Chain [1] done processing\n"
          ]
        },
        {
          "output_type": "stream",
          "name": "stdout",
          "text": [
            "\r[*********************100%***********************]  1 of 1 completed"
          ]
        },
        {
          "output_type": "stream",
          "name": "stderr",
          "text": [
            "INFO:prophet:Disabling daily seasonality. Run prophet with daily_seasonality=True to override this.\n"
          ]
        },
        {
          "output_type": "stream",
          "name": "stdout",
          "text": [
            "\n"
          ]
        },
        {
          "output_type": "stream",
          "name": "stderr",
          "text": [
            "DEBUG:cmdstanpy:input tempfile: /tmp/tmpakaf4i8w/p9chj3xn.json\n",
            "DEBUG:cmdstanpy:input tempfile: /tmp/tmpakaf4i8w/dx9x5rkv.json\n",
            "DEBUG:cmdstanpy:idx 0\n",
            "DEBUG:cmdstanpy:running CmdStan, num_threads: None\n",
            "DEBUG:cmdstanpy:CmdStan args: ['/usr/local/lib/python3.10/dist-packages/prophet/stan_model/prophet_model.bin', 'random', 'seed=68920', 'data', 'file=/tmp/tmpakaf4i8w/p9chj3xn.json', 'init=/tmp/tmpakaf4i8w/dx9x5rkv.json', 'output', 'file=/tmp/tmpakaf4i8w/prophet_modelj21x3v4y/prophet_model-20230515194508.csv', 'method=optimize', 'algorithm=lbfgs', 'iter=10000']\n",
            "19:45:08 - cmdstanpy - INFO - Chain [1] start processing\n",
            "INFO:cmdstanpy:Chain [1] start processing\n",
            "19:45:09 - cmdstanpy - INFO - Chain [1] done processing\n",
            "INFO:cmdstanpy:Chain [1] done processing\n"
          ]
        },
        {
          "output_type": "stream",
          "name": "stdout",
          "text": [
            "\r[*********************100%***********************]  1 of 1 completed"
          ]
        },
        {
          "output_type": "stream",
          "name": "stderr",
          "text": [
            "INFO:prophet:Disabling daily seasonality. Run prophet with daily_seasonality=True to override this.\n",
            "DEBUG:cmdstanpy:input tempfile: /tmp/tmpakaf4i8w/b2d_cylw.json\n"
          ]
        },
        {
          "output_type": "stream",
          "name": "stdout",
          "text": [
            "\n"
          ]
        },
        {
          "output_type": "stream",
          "name": "stderr",
          "text": [
            "DEBUG:cmdstanpy:input tempfile: /tmp/tmpakaf4i8w/vcg03dt0.json\n",
            "DEBUG:cmdstanpy:idx 0\n",
            "DEBUG:cmdstanpy:running CmdStan, num_threads: None\n",
            "DEBUG:cmdstanpy:CmdStan args: ['/usr/local/lib/python3.10/dist-packages/prophet/stan_model/prophet_model.bin', 'random', 'seed=32307', 'data', 'file=/tmp/tmpakaf4i8w/b2d_cylw.json', 'init=/tmp/tmpakaf4i8w/vcg03dt0.json', 'output', 'file=/tmp/tmpakaf4i8w/prophet_modeli69oy4ap/prophet_model-20230515194510.csv', 'method=optimize', 'algorithm=lbfgs', 'iter=10000']\n",
            "19:45:10 - cmdstanpy - INFO - Chain [1] start processing\n",
            "INFO:cmdstanpy:Chain [1] start processing\n",
            "19:45:10 - cmdstanpy - INFO - Chain [1] done processing\n",
            "INFO:cmdstanpy:Chain [1] done processing\n"
          ]
        },
        {
          "output_type": "stream",
          "name": "stdout",
          "text": [
            "\r[*********************100%***********************]  1 of 1 completed"
          ]
        },
        {
          "output_type": "stream",
          "name": "stderr",
          "text": [
            "INFO:prophet:Disabling daily seasonality. Run prophet with daily_seasonality=True to override this.\n",
            "DEBUG:cmdstanpy:input tempfile: /tmp/tmpakaf4i8w/xxhzhfzi.json\n"
          ]
        },
        {
          "output_type": "stream",
          "name": "stdout",
          "text": [
            "\n"
          ]
        },
        {
          "output_type": "stream",
          "name": "stderr",
          "text": [
            "DEBUG:cmdstanpy:input tempfile: /tmp/tmpakaf4i8w/ss8tjpls.json\n",
            "DEBUG:cmdstanpy:idx 0\n",
            "DEBUG:cmdstanpy:running CmdStan, num_threads: None\n",
            "DEBUG:cmdstanpy:CmdStan args: ['/usr/local/lib/python3.10/dist-packages/prophet/stan_model/prophet_model.bin', 'random', 'seed=16421', 'data', 'file=/tmp/tmpakaf4i8w/xxhzhfzi.json', 'init=/tmp/tmpakaf4i8w/ss8tjpls.json', 'output', 'file=/tmp/tmpakaf4i8w/prophet_modelqrccjt6a/prophet_model-20230515194512.csv', 'method=optimize', 'algorithm=lbfgs', 'iter=10000']\n",
            "19:45:12 - cmdstanpy - INFO - Chain [1] start processing\n",
            "INFO:cmdstanpy:Chain [1] start processing\n",
            "19:45:12 - cmdstanpy - INFO - Chain [1] done processing\n",
            "INFO:cmdstanpy:Chain [1] done processing\n"
          ]
        },
        {
          "output_type": "stream",
          "name": "stdout",
          "text": [
            "[            ds        yhat  yhat_lower  yhat_upper\n",
            "755 2023-05-16  159.093142  152.304913  165.725591\n",
            "756 2023-05-17  158.794250  152.322068  165.841993\n",
            "757 2023-05-18  158.289825  151.330385  165.108547\n",
            "758 2023-05-19  157.991999  151.120519  164.445839\n",
            "759 2023-05-22  157.910423  150.988928  164.749437\n",
            "760 2023-05-23  157.618971  151.312873  164.020512\n",
            "761 2023-05-24  157.587212  150.680629  164.730952\n",
            "762 2023-05-25  157.346159  150.221978  163.844219\n",
            "763 2023-05-26  157.303183  150.630562  164.504382\n",
            "764 2023-05-29  157.895094  151.295105  164.122042,             ds        yhat  yhat_lower  yhat_upper\n",
            "755 2023-05-16  100.849818   95.873825  105.652443\n",
            "756 2023-05-17  101.072769   96.259539  105.970930\n",
            "757 2023-05-18  101.107396   96.143582  105.946890\n",
            "758 2023-05-19  100.995844   96.330953  106.330700\n",
            "759 2023-05-22  100.944170   96.271533  105.616480\n",
            "760 2023-05-23  100.736023   95.835657  105.837976\n",
            "761 2023-05-24  101.050370   95.905095  105.947858\n",
            "762 2023-05-25  101.172685   96.277476  106.118190\n",
            "763 2023-05-26  101.143986   96.555496  106.034885\n",
            "764 2023-05-29  101.302842   96.320341  106.296022,             ds        yhat  yhat_lower  yhat_upper\n",
            "755 2023-05-16  290.058522  278.870496  299.461242\n",
            "756 2023-05-17  290.629526  279.411896  300.128281\n",
            "757 2023-05-18  290.529629  280.669899  301.504125\n",
            "758 2023-05-19  290.504094  280.573831  300.440167\n",
            "759 2023-05-22  290.437809  280.670749  300.949189\n",
            "760 2023-05-23  290.022064  278.752120  299.314302\n",
            "761 2023-05-24  290.873969  280.301097  300.806114\n",
            "762 2023-05-25  291.055428  280.814740  301.330695\n",
            "763 2023-05-26  291.307540  280.831389  301.796011\n",
            "764 2023-05-29  292.018779  281.363158  302.422843,             ds       yhat  yhat_lower  yhat_upper\n",
            "755 2023-05-16  85.313698   75.361187   95.428690\n",
            "756 2023-05-17  84.999212   74.075094   95.531770\n",
            "757 2023-05-18  84.466941   74.220579   94.888782\n",
            "758 2023-05-19  83.653769   73.492932   94.184396\n",
            "759 2023-05-22  83.319815   72.459513   93.863095\n",
            "760 2023-05-23  83.032687   72.666160   93.926414\n",
            "761 2023-05-24  83.230439   72.694827   93.355051\n",
            "762 2023-05-25  83.195545   73.323041   93.414528\n",
            "763 2023-05-26  82.857845   73.179613   93.159792\n",
            "764 2023-05-29  83.760639   73.561671   94.674065,             ds           yhat     yhat_lower     yhat_upper\n",
            "755 2023-05-16  484546.866986  471205.297317  497581.449352\n",
            "756 2023-05-17  484715.473869  471210.936051  497796.588031\n",
            "757 2023-05-18  484809.056854  471444.974787  496745.681343\n",
            "758 2023-05-19  486240.716267  472719.031996  499362.186909\n",
            "759 2023-05-22  487911.575077  475256.950303  501233.815251\n",
            "760 2023-05-23  488789.760410  476093.096783  502676.135938\n",
            "761 2023-05-24  489262.731911  476756.708365  502137.723733\n",
            "762 2023-05-25  489526.215991  476513.067384  502648.214875\n",
            "763 2023-05-26  490985.630379  477851.312713  504507.360341\n",
            "764 2023-05-29  491860.604038  479550.995425  504531.376524,             ds        yhat  yhat_lower  yhat_upper\n",
            "755 2023-05-16  136.407351  131.438645  141.642836\n",
            "756 2023-05-17  136.737004  131.556162  142.153526\n",
            "757 2023-05-18  137.092764  131.857917  142.084063\n",
            "758 2023-05-19  137.756633  132.869474  143.099580\n",
            "759 2023-05-22  139.511845  134.078419  144.563162\n",
            "760 2023-05-23  140.178871  134.977827  145.714133\n",
            "761 2023-05-24  140.719147  135.212221  145.749400\n",
            "762 2023-05-25  141.225714  135.902326  146.404178\n",
            "763 2023-05-26  141.974095  136.585913  147.184354\n",
            "764 2023-05-29  143.542326  138.279957  148.512649,             ds        yhat  yhat_lower  yhat_upper\n",
            "755 2023-05-16  161.370142  157.799661  165.015052\n",
            "756 2023-05-17  161.581973  157.753383  165.141555\n",
            "757 2023-05-18  161.588502  157.651370  165.679805\n",
            "758 2023-05-19  161.802898  158.228431  165.311348\n",
            "759 2023-05-22  161.728379  157.860264  165.551581\n",
            "760 2023-05-23  161.776682  157.964474  165.391599\n",
            "761 2023-05-24  161.898530  158.276886  165.858598\n",
            "762 2023-05-25  161.792163  158.181973  165.907737\n",
            "763 2023-05-26  161.872138  158.088691  165.376493\n",
            "764 2023-05-29  161.287915  157.668168  165.208132,             ds        yhat  yhat_lower  yhat_upper\n",
            "755 2023-05-16  230.726982  221.937774  239.321134\n",
            "756 2023-05-17  231.035506  222.876278  239.175132\n",
            "757 2023-05-18  231.337520  222.933739  240.588976\n",
            "758 2023-05-19  231.981393  222.770617  241.104626\n",
            "759 2023-05-22  233.616595  224.390290  242.588070\n",
            "760 2023-05-23  233.908964  224.932463  243.217727\n",
            "761 2023-05-24  234.538441  225.747256  243.853139\n",
            "762 2023-05-25  235.108074  225.476510  243.856947\n",
            "763 2023-05-26  235.960255  226.666970  244.335457\n",
            "764 2023-05-29  237.824986  228.117219  246.396812,             ds        yhat  yhat_lower  yhat_upper\n",
            "755 2023-05-16  152.788224  149.313521  156.241008\n",
            "756 2023-05-17  152.728372  149.193573  156.293126\n",
            "757 2023-05-18  152.611607  149.199073  155.976788\n",
            "758 2023-05-19  152.821113  149.546128  156.192790\n",
            "759 2023-05-22  152.693489  149.132350  155.934924\n",
            "760 2023-05-23  152.422634  148.959095  155.787635\n",
            "761 2023-05-24  152.392414  149.300325  155.565848\n",
            "762 2023-05-25  152.294064  148.907289  155.551312\n",
            "763 2023-05-26  152.509789  149.067301  155.849419\n",
            "764 2023-05-29  152.324759  149.325723  155.830469]\n"
          ]
        }
      ]
    },
    {
      "cell_type": "markdown",
      "source": [
        "Above code is works, lets add more flexibility to code by adding periods parameters to decide how long should the prediction be. Lets also add the model evaluation to see the results"
      ],
      "metadata": {
        "id": "GQ7mxvKHmbcI"
      }
    },
    {
      "cell_type": "code",
      "source": [
        "import yfinance as yf\n",
        "from datetime import datetime, timedelta\n",
        "import pandas as pd\n",
        "from prophet import Prophet\n",
        "from prophet.plot import plot_plotly, plot_components_plotly\n",
        "from prophet.diagnostics import cross_validation, performance_metrics\n",
        "\n",
        "def get_historical_data(ticker, start_date, end_date):\n",
        "    stock_data = yf.download(ticker, start=start_date, end=end_date)\n",
        "    return stock_data\n",
        "\n",
        "def train_prophet_model(data, periods):\n",
        "    data = data.reset_index()[['Date', 'Close']].rename({'Date': 'ds', 'Close': 'y'}, axis=1)\n",
        "    model = Prophet()\n",
        "    model.fit(data)\n",
        "    future = model.make_future_dataframe(periods=periods, freq='B')\n",
        "    forecast = model.predict(future)\n",
        "    return model, forecast[['ds', 'yhat', 'yhat_lower', 'yhat_upper']].tail(periods)\n",
        "\n",
        "def run_prophet(ticker, periods):\n",
        "    try:\n",
        "        data = get_historical_data(ticker, datetime.now() - timedelta(days=365*3), datetime.now())\n",
        "        model, forecast = train_prophet_model(data, periods)\n",
        "        return model, forecast\n",
        "    except Exception as e:\n",
        "        print(f\"Error occurred while fetching data for {ticker}: {str(e)}\")\n",
        "        return None\n",
        "\n",
        "tickers = ['AAPL', 'GOOGL', 'MSFT', 'AMZN', 'BRK-A', 'JPM', 'JNJ', 'V', 'PG']\n",
        "periods = 10\n",
        "\n",
        "forecasts = []\n",
        "for ticker in tickers:\n",
        "    model, forecast = run_prophet(ticker, periods)\n",
        "    if model is not None:\n",
        "        forecasts.append(forecast)\n",
        "\n",
        "df = pd.concat(forecasts)\n",
        "df['ticker'] = tickers * periods\n",
        "\n",
        "# Evaluate model performance\n",
        "df_cv = cross_validation(model, initial='730 days', period='180 days', horizon='90 days')\n",
        "df_p = performance_metrics(df_cv)\n",
        "\n",
        "print(df_p)\n"
      ],
      "metadata": {
        "colab": {
          "base_uri": "https://localhost:8080/",
          "height": 1000,
          "referenced_widgets": [
            "89e9bb0c06a146bca3f5b433338d42d0",
            "57f35a21056246d4ae472a4ca8a22721",
            "de9867d1bafd460ca39a00d6b39d7597",
            "bb641646b8cf4270a72fbdff955a9fda",
            "ddc2821e974d4fd28feda89c1d20aea5",
            "cdde3b106bc94018982da26f8e903008",
            "b49f344e6f09443e8cfb65d4e7a33370",
            "63b3afd913be46c197cee6d2fec219a1",
            "2a7f6bb2905d4442abe05f2aba23dd1e",
            "9a2b0ecd65f145fdb12c0101afa13ae6",
            "2a69513385954c4f914f28898aa2faee"
          ]
        },
        "id": "Fs_4ihzKfHXJ",
        "outputId": "a883e35d-c965-4802-e058-606ad94a3f85"
      },
      "execution_count": 4,
      "outputs": [
        {
          "output_type": "stream",
          "name": "stdout",
          "text": [
            "\r[*********************100%***********************]  1 of 1 completed"
          ]
        },
        {
          "output_type": "stream",
          "name": "stderr",
          "text": [
            "INFO:prophet:Disabling daily seasonality. Run prophet with daily_seasonality=True to override this.\n",
            "DEBUG:cmdstanpy:input tempfile: /tmp/tmpakaf4i8w/lkqtk4e5.json\n",
            "DEBUG:cmdstanpy:input tempfile: /tmp/tmpakaf4i8w/9hdqlavq.json\n",
            "DEBUG:cmdstanpy:idx 0\n",
            "DEBUG:cmdstanpy:running CmdStan, num_threads: None\n",
            "DEBUG:cmdstanpy:CmdStan args: ['/usr/local/lib/python3.10/dist-packages/prophet/stan_model/prophet_model.bin', 'random', 'seed=25560', 'data', 'file=/tmp/tmpakaf4i8w/lkqtk4e5.json', 'init=/tmp/tmpakaf4i8w/9hdqlavq.json', 'output', 'file=/tmp/tmpakaf4i8w/prophet_model39c0llvr/prophet_model-20230515194513.csv', 'method=optimize', 'algorithm=lbfgs', 'iter=10000']\n",
            "19:45:13 - cmdstanpy - INFO - Chain [1] start processing\n",
            "INFO:cmdstanpy:Chain [1] start processing\n"
          ]
        },
        {
          "output_type": "stream",
          "name": "stdout",
          "text": [
            "\n"
          ]
        },
        {
          "output_type": "stream",
          "name": "stderr",
          "text": [
            "19:45:14 - cmdstanpy - INFO - Chain [1] done processing\n",
            "INFO:cmdstanpy:Chain [1] done processing\n"
          ]
        },
        {
          "output_type": "stream",
          "name": "stdout",
          "text": [
            "\r[*********************100%***********************]  1 of 1 completed"
          ]
        },
        {
          "output_type": "stream",
          "name": "stderr",
          "text": [
            "INFO:prophet:Disabling daily seasonality. Run prophet with daily_seasonality=True to override this.\n",
            "DEBUG:cmdstanpy:input tempfile: /tmp/tmpakaf4i8w/ilwnvvt5.json\n"
          ]
        },
        {
          "output_type": "stream",
          "name": "stdout",
          "text": [
            "\n"
          ]
        },
        {
          "output_type": "stream",
          "name": "stderr",
          "text": [
            "DEBUG:cmdstanpy:input tempfile: /tmp/tmpakaf4i8w/7_wdv637.json\n",
            "DEBUG:cmdstanpy:idx 0\n",
            "DEBUG:cmdstanpy:running CmdStan, num_threads: None\n",
            "DEBUG:cmdstanpy:CmdStan args: ['/usr/local/lib/python3.10/dist-packages/prophet/stan_model/prophet_model.bin', 'random', 'seed=67542', 'data', 'file=/tmp/tmpakaf4i8w/ilwnvvt5.json', 'init=/tmp/tmpakaf4i8w/7_wdv637.json', 'output', 'file=/tmp/tmpakaf4i8w/prophet_model7gcp2tos/prophet_model-20230515194515.csv', 'method=optimize', 'algorithm=lbfgs', 'iter=10000']\n",
            "19:45:15 - cmdstanpy - INFO - Chain [1] start processing\n",
            "INFO:cmdstanpy:Chain [1] start processing\n",
            "19:45:15 - cmdstanpy - INFO - Chain [1] done processing\n",
            "INFO:cmdstanpy:Chain [1] done processing\n"
          ]
        },
        {
          "output_type": "stream",
          "name": "stdout",
          "text": [
            "\r[*********************100%***********************]  1 of 1 completed"
          ]
        },
        {
          "output_type": "stream",
          "name": "stderr",
          "text": [
            "INFO:prophet:Disabling daily seasonality. Run prophet with daily_seasonality=True to override this.\n",
            "DEBUG:cmdstanpy:input tempfile: /tmp/tmpakaf4i8w/pu56kb03.json\n"
          ]
        },
        {
          "output_type": "stream",
          "name": "stdout",
          "text": [
            "\n"
          ]
        },
        {
          "output_type": "stream",
          "name": "stderr",
          "text": [
            "DEBUG:cmdstanpy:input tempfile: /tmp/tmpakaf4i8w/xy68xd5v.json\n",
            "DEBUG:cmdstanpy:idx 0\n",
            "DEBUG:cmdstanpy:running CmdStan, num_threads: None\n",
            "DEBUG:cmdstanpy:CmdStan args: ['/usr/local/lib/python3.10/dist-packages/prophet/stan_model/prophet_model.bin', 'random', 'seed=23034', 'data', 'file=/tmp/tmpakaf4i8w/pu56kb03.json', 'init=/tmp/tmpakaf4i8w/xy68xd5v.json', 'output', 'file=/tmp/tmpakaf4i8w/prophet_modela_z3hmgy/prophet_model-20230515194517.csv', 'method=optimize', 'algorithm=lbfgs', 'iter=10000']\n",
            "19:45:17 - cmdstanpy - INFO - Chain [1] start processing\n",
            "INFO:cmdstanpy:Chain [1] start processing\n",
            "19:45:18 - cmdstanpy - INFO - Chain [1] done processing\n",
            "INFO:cmdstanpy:Chain [1] done processing\n"
          ]
        },
        {
          "output_type": "stream",
          "name": "stdout",
          "text": [
            "\r[*********************100%***********************]  1 of 1 completed"
          ]
        },
        {
          "output_type": "stream",
          "name": "stderr",
          "text": [
            "INFO:prophet:Disabling daily seasonality. Run prophet with daily_seasonality=True to override this.\n",
            "DEBUG:cmdstanpy:input tempfile: /tmp/tmpakaf4i8w/y1dsgruy.json\n",
            "DEBUG:cmdstanpy:input tempfile: /tmp/tmpakaf4i8w/m9kokkpa.json\n",
            "DEBUG:cmdstanpy:idx 0\n",
            "DEBUG:cmdstanpy:running CmdStan, num_threads: None\n",
            "DEBUG:cmdstanpy:CmdStan args: ['/usr/local/lib/python3.10/dist-packages/prophet/stan_model/prophet_model.bin', 'random', 'seed=30775', 'data', 'file=/tmp/tmpakaf4i8w/y1dsgruy.json', 'init=/tmp/tmpakaf4i8w/m9kokkpa.json', 'output', 'file=/tmp/tmpakaf4i8w/prophet_modelk0kdusz1/prophet_model-20230515194519.csv', 'method=optimize', 'algorithm=lbfgs', 'iter=10000']\n",
            "19:45:19 - cmdstanpy - INFO - Chain [1] start processing\n",
            "INFO:cmdstanpy:Chain [1] start processing\n"
          ]
        },
        {
          "output_type": "stream",
          "name": "stdout",
          "text": [
            "\n"
          ]
        },
        {
          "output_type": "stream",
          "name": "stderr",
          "text": [
            "19:45:20 - cmdstanpy - INFO - Chain [1] done processing\n",
            "INFO:cmdstanpy:Chain [1] done processing\n"
          ]
        },
        {
          "output_type": "stream",
          "name": "stdout",
          "text": [
            "\r[*********************100%***********************]  1 of 1 completed"
          ]
        },
        {
          "output_type": "stream",
          "name": "stderr",
          "text": [
            "INFO:prophet:Disabling daily seasonality. Run prophet with daily_seasonality=True to override this.\n",
            "DEBUG:cmdstanpy:input tempfile: /tmp/tmpakaf4i8w/bl6dt2wd.json\n",
            "DEBUG:cmdstanpy:input tempfile: /tmp/tmpakaf4i8w/_udmqns0.json\n",
            "DEBUG:cmdstanpy:idx 0\n",
            "DEBUG:cmdstanpy:running CmdStan, num_threads: None\n",
            "DEBUG:cmdstanpy:CmdStan args: ['/usr/local/lib/python3.10/dist-packages/prophet/stan_model/prophet_model.bin', 'random', 'seed=3204', 'data', 'file=/tmp/tmpakaf4i8w/bl6dt2wd.json', 'init=/tmp/tmpakaf4i8w/_udmqns0.json', 'output', 'file=/tmp/tmpakaf4i8w/prophet_modelncyy_4y_/prophet_model-20230515194521.csv', 'method=optimize', 'algorithm=lbfgs', 'iter=10000']\n",
            "19:45:21 - cmdstanpy - INFO - Chain [1] start processing\n"
          ]
        },
        {
          "output_type": "stream",
          "name": "stdout",
          "text": [
            "\n"
          ]
        },
        {
          "output_type": "stream",
          "name": "stderr",
          "text": [
            "INFO:cmdstanpy:Chain [1] start processing\n",
            "19:45:22 - cmdstanpy - INFO - Chain [1] done processing\n",
            "INFO:cmdstanpy:Chain [1] done processing\n"
          ]
        },
        {
          "output_type": "stream",
          "name": "stdout",
          "text": [
            "\r[*********************100%***********************]  1 of 1 completed"
          ]
        },
        {
          "output_type": "stream",
          "name": "stderr",
          "text": [
            "INFO:prophet:Disabling daily seasonality. Run prophet with daily_seasonality=True to override this.\n",
            "DEBUG:cmdstanpy:input tempfile: /tmp/tmpakaf4i8w/h3_6t7gq.json\n",
            "DEBUG:cmdstanpy:input tempfile: /tmp/tmpakaf4i8w/evuf2wj6.json\n"
          ]
        },
        {
          "output_type": "stream",
          "name": "stdout",
          "text": [
            "\n"
          ]
        },
        {
          "output_type": "stream",
          "name": "stderr",
          "text": [
            "DEBUG:cmdstanpy:idx 0\n",
            "DEBUG:cmdstanpy:running CmdStan, num_threads: None\n",
            "DEBUG:cmdstanpy:CmdStan args: ['/usr/local/lib/python3.10/dist-packages/prophet/stan_model/prophet_model.bin', 'random', 'seed=87863', 'data', 'file=/tmp/tmpakaf4i8w/h3_6t7gq.json', 'init=/tmp/tmpakaf4i8w/evuf2wj6.json', 'output', 'file=/tmp/tmpakaf4i8w/prophet_model9g6i91nk/prophet_model-20230515194523.csv', 'method=optimize', 'algorithm=lbfgs', 'iter=10000']\n",
            "19:45:23 - cmdstanpy - INFO - Chain [1] start processing\n",
            "INFO:cmdstanpy:Chain [1] start processing\n",
            "19:45:24 - cmdstanpy - INFO - Chain [1] done processing\n",
            "INFO:cmdstanpy:Chain [1] done processing\n"
          ]
        },
        {
          "output_type": "stream",
          "name": "stdout",
          "text": [
            "\r[*********************100%***********************]  1 of 1 completed"
          ]
        },
        {
          "output_type": "stream",
          "name": "stderr",
          "text": [
            "INFO:prophet:Disabling daily seasonality. Run prophet with daily_seasonality=True to override this.\n",
            "DEBUG:cmdstanpy:input tempfile: /tmp/tmpakaf4i8w/icn0xdcv.json\n",
            "DEBUG:cmdstanpy:input tempfile: /tmp/tmpakaf4i8w/35qq3mpw.json\n"
          ]
        },
        {
          "output_type": "stream",
          "name": "stdout",
          "text": [
            "\n"
          ]
        },
        {
          "output_type": "stream",
          "name": "stderr",
          "text": [
            "DEBUG:cmdstanpy:idx 0\n",
            "DEBUG:cmdstanpy:running CmdStan, num_threads: None\n",
            "DEBUG:cmdstanpy:CmdStan args: ['/usr/local/lib/python3.10/dist-packages/prophet/stan_model/prophet_model.bin', 'random', 'seed=7085', 'data', 'file=/tmp/tmpakaf4i8w/icn0xdcv.json', 'init=/tmp/tmpakaf4i8w/35qq3mpw.json', 'output', 'file=/tmp/tmpakaf4i8w/prophet_model1f3ai7qh/prophet_model-20230515194525.csv', 'method=optimize', 'algorithm=lbfgs', 'iter=10000']\n",
            "19:45:25 - cmdstanpy - INFO - Chain [1] start processing\n",
            "INFO:cmdstanpy:Chain [1] start processing\n",
            "19:45:25 - cmdstanpy - INFO - Chain [1] done processing\n",
            "INFO:cmdstanpy:Chain [1] done processing\n"
          ]
        },
        {
          "output_type": "stream",
          "name": "stdout",
          "text": [
            "\r[*********************100%***********************]  1 of 1 completed"
          ]
        },
        {
          "output_type": "stream",
          "name": "stderr",
          "text": [
            "INFO:prophet:Disabling daily seasonality. Run prophet with daily_seasonality=True to override this.\n",
            "DEBUG:cmdstanpy:input tempfile: /tmp/tmpakaf4i8w/goee2dr6.json\n"
          ]
        },
        {
          "output_type": "stream",
          "name": "stdout",
          "text": [
            "\n"
          ]
        },
        {
          "output_type": "stream",
          "name": "stderr",
          "text": [
            "DEBUG:cmdstanpy:input tempfile: /tmp/tmpakaf4i8w/gib6jm_o.json\n",
            "DEBUG:cmdstanpy:idx 0\n",
            "DEBUG:cmdstanpy:running CmdStan, num_threads: None\n",
            "DEBUG:cmdstanpy:CmdStan args: ['/usr/local/lib/python3.10/dist-packages/prophet/stan_model/prophet_model.bin', 'random', 'seed=98075', 'data', 'file=/tmp/tmpakaf4i8w/goee2dr6.json', 'init=/tmp/tmpakaf4i8w/gib6jm_o.json', 'output', 'file=/tmp/tmpakaf4i8w/prophet_modelbn9up6n7/prophet_model-20230515194527.csv', 'method=optimize', 'algorithm=lbfgs', 'iter=10000']\n",
            "19:45:27 - cmdstanpy - INFO - Chain [1] start processing\n",
            "INFO:cmdstanpy:Chain [1] start processing\n",
            "19:45:27 - cmdstanpy - INFO - Chain [1] done processing\n",
            "INFO:cmdstanpy:Chain [1] done processing\n"
          ]
        },
        {
          "output_type": "stream",
          "name": "stdout",
          "text": [
            "\r[*********************100%***********************]  1 of 1 completed"
          ]
        },
        {
          "output_type": "stream",
          "name": "stderr",
          "text": [
            "INFO:prophet:Disabling daily seasonality. Run prophet with daily_seasonality=True to override this.\n",
            "DEBUG:cmdstanpy:input tempfile: /tmp/tmpakaf4i8w/dcyzz5x9.json\n"
          ]
        },
        {
          "output_type": "stream",
          "name": "stdout",
          "text": [
            "\n"
          ]
        },
        {
          "output_type": "stream",
          "name": "stderr",
          "text": [
            "DEBUG:cmdstanpy:input tempfile: /tmp/tmpakaf4i8w/vwiwt_qq.json\n",
            "DEBUG:cmdstanpy:idx 0\n",
            "DEBUG:cmdstanpy:running CmdStan, num_threads: None\n",
            "DEBUG:cmdstanpy:CmdStan args: ['/usr/local/lib/python3.10/dist-packages/prophet/stan_model/prophet_model.bin', 'random', 'seed=84728', 'data', 'file=/tmp/tmpakaf4i8w/dcyzz5x9.json', 'init=/tmp/tmpakaf4i8w/vwiwt_qq.json', 'output', 'file=/tmp/tmpakaf4i8w/prophet_modeln94ke8bx/prophet_model-20230515194528.csv', 'method=optimize', 'algorithm=lbfgs', 'iter=10000']\n",
            "19:45:28 - cmdstanpy - INFO - Chain [1] start processing\n",
            "INFO:cmdstanpy:Chain [1] start processing\n",
            "19:45:29 - cmdstanpy - INFO - Chain [1] done processing\n",
            "INFO:cmdstanpy:Chain [1] done processing\n",
            "INFO:prophet:Making 2 forecasts with cutoffs between 2022-08-18 00:00:00 and 2023-02-14 00:00:00\n"
          ]
        },
        {
          "output_type": "display_data",
          "data": {
            "text/plain": [
              "  0%|          | 0/2 [00:00<?, ?it/s]"
            ],
            "application/vnd.jupyter.widget-view+json": {
              "version_major": 2,
              "version_minor": 0,
              "model_id": "89e9bb0c06a146bca3f5b433338d42d0"
            }
          },
          "metadata": {}
        },
        {
          "output_type": "stream",
          "name": "stderr",
          "text": [
            "DEBUG:cmdstanpy:input tempfile: /tmp/tmpakaf4i8w/8ne9aquf.json\n",
            "DEBUG:cmdstanpy:input tempfile: /tmp/tmpakaf4i8w/rcd24b1d.json\n",
            "DEBUG:cmdstanpy:idx 0\n",
            "DEBUG:cmdstanpy:running CmdStan, num_threads: None\n",
            "DEBUG:cmdstanpy:CmdStan args: ['/usr/local/lib/python3.10/dist-packages/prophet/stan_model/prophet_model.bin', 'random', 'seed=90948', 'data', 'file=/tmp/tmpakaf4i8w/8ne9aquf.json', 'init=/tmp/tmpakaf4i8w/rcd24b1d.json', 'output', 'file=/tmp/tmpakaf4i8w/prophet_modelukvs4lzj/prophet_model-20230515194530.csv', 'method=optimize', 'algorithm=lbfgs', 'iter=10000']\n",
            "19:45:30 - cmdstanpy - INFO - Chain [1] start processing\n",
            "INFO:cmdstanpy:Chain [1] start processing\n",
            "19:45:31 - cmdstanpy - INFO - Chain [1] done processing\n",
            "INFO:cmdstanpy:Chain [1] done processing\n",
            "DEBUG:cmdstanpy:input tempfile: /tmp/tmpakaf4i8w/xfrnabd0.json\n",
            "DEBUG:cmdstanpy:input tempfile: /tmp/tmpakaf4i8w/zl35irbb.json\n",
            "DEBUG:cmdstanpy:idx 0\n",
            "DEBUG:cmdstanpy:running CmdStan, num_threads: None\n",
            "DEBUG:cmdstanpy:CmdStan args: ['/usr/local/lib/python3.10/dist-packages/prophet/stan_model/prophet_model.bin', 'random', 'seed=39416', 'data', 'file=/tmp/tmpakaf4i8w/xfrnabd0.json', 'init=/tmp/tmpakaf4i8w/zl35irbb.json', 'output', 'file=/tmp/tmpakaf4i8w/prophet_modelr9po2m7x/prophet_model-20230515194532.csv', 'method=optimize', 'algorithm=lbfgs', 'iter=10000']\n",
            "19:45:32 - cmdstanpy - INFO - Chain [1] start processing\n",
            "INFO:cmdstanpy:Chain [1] start processing\n",
            "19:45:32 - cmdstanpy - INFO - Chain [1] done processing\n",
            "INFO:cmdstanpy:Chain [1] done processing\n"
          ]
        },
        {
          "output_type": "stream",
          "name": "stdout",
          "text": [
            "   horizon         mse       rmse        mae      mape     mdape     smape  \\\n",
            "0   9 days    5.241439   2.289419   1.778704  0.012462  0.008549  0.012427   \n",
            "1  10 days    4.442720   2.107776   1.556661  0.010938  0.007321  0.010900   \n",
            "2  11 days    4.454297   2.110520   1.559825  0.010998  0.007321  0.010938   \n",
            "3  12 days    4.385934   2.094262   1.551786  0.010884  0.007321  0.010827   \n",
            "4  13 days    6.769602   2.601846   1.814097  0.012937  0.007321  0.012788   \n",
            "..     ...         ...        ...        ...       ...       ...       ...   \n",
            "75 86 days  191.807698  13.849466  12.323509  0.081474  0.088251  0.085790   \n",
            "76 87 days  212.459443  14.575989  13.198402  0.087025  0.112188  0.091797   \n",
            "77 88 days  194.049878  13.930179  12.506500  0.083081  0.088525  0.087478   \n",
            "78 89 days  173.441067  13.169703  11.745721  0.078735  0.064645  0.082713   \n",
            "79 90 days  215.179667  14.669004  13.628718  0.090732  0.092496  0.095648   \n",
            "\n",
            "    coverage  \n",
            "0   0.666667  \n",
            "1   0.708333  \n",
            "2   0.666667  \n",
            "3   0.666667  \n",
            "4   0.666667  \n",
            "..       ...  \n",
            "75  0.291667  \n",
            "76  0.250000  \n",
            "77  0.250000  \n",
            "78  0.250000  \n",
            "79  0.083333  \n",
            "\n",
            "[80 rows x 8 columns]\n"
          ]
        }
      ]
    },
    {
      "cell_type": "code",
      "source": [
        "import yfinance as yf\n",
        "from datetime import datetime, timedelta\n",
        "import pandas as pd\n",
        "import numpy as np\n",
        "from statsmodels.tsa.arima.model import ARIMA\n",
        "from statsmodels.tsa.arima_model import ARIMAResults\n",
        "from sklearn.metrics import mean_squared_error\n",
        "\n",
        "def get_historical_data(ticker, start_date, end_date):\n",
        "    stock_data = yf.download(ticker, start=start_date, end=end_date)\n",
        "    return stock_data\n",
        "\n",
        "def run_arima(ticker, periods, order):\n",
        "    try:\n",
        "        data = get_historical_data(ticker, datetime.now() - timedelta(days=365*3), datetime.now())\n",
        "        data = data['Close']\n",
        "        arima = ARIMA(data, order=order)\n",
        "        model_fit = arima.fit()\n",
        "        forecast = model_fit.forecast(steps=periods)\n",
        "        return model_fit, forecast\n",
        "    except Exception as e:\n",
        "        print(f\"Error occurred while fetching data for {ticker}: {str(e)}\")\n",
        "        return None, None\n",
        "\n",
        "tickers = ['AAPL', 'GOOGL', 'MSFT', 'AMZN', 'BRK-A', 'JPM', 'JNJ', 'V', 'PG']\n",
        "periods = 10\n",
        "order = (1, 1, 1)\n",
        "\n",
        "forecasts = []\n",
        "for ticker in tickers:\n",
        "    model_fit, forecast = run_arima(ticker, periods, order)\n",
        "    if model_fit is not None:\n",
        "        forecast_df = pd.DataFrame({'ds': pd.date_range(datetime.now(), periods=periods, freq='B'), 'yhat': forecast.values})\n",
        "        forecast_df = forecast_df.set_index('ds')\n",
        "        forecast_df.index.freq = 'B'\n",
        "        forecast_df['ticker'] = ticker\n",
        "        forecasts.append(forecast_df)\n",
        "\n",
        "df = pd.concat(forecasts)\n",
        "\n",
        "# Evaluate model performance\n",
        "model_fit, forecast = run_arima(tickers[0], periods, order)\n",
        "train_size = int(len(forecast) * 0.8)\n",
        "train, test = forecast.iloc[0:train_size], forecast.iloc[train_size:]\n",
        "history = [x for x in train]\n",
        "predictions = list()\n",
        "for t in range(len(test)):\n",
        "    model = ARIMA(history, order=order)\n",
        "    model_fit = model.fit()\n",
        "    yhat = model_fit.forecast()[0]\n",
        "    predictions.append(yhat)\n",
        "    history.append(test.iloc[t])\n",
        "error = mean_squared_error(test, predictions)\n",
        "print(f\"Mean squared error: {error}\")\n"
      ],
      "metadata": {
        "colab": {
          "base_uri": "https://localhost:8080/"
        },
        "id": "wn8K47cTsPG0",
        "outputId": "f420877a-577e-4f11-ed7c-6d0d8f7774b1"
      },
      "execution_count": 5,
      "outputs": [
        {
          "output_type": "stream",
          "name": "stdout",
          "text": [
            "\r[*********************100%***********************]  1 of 1 completed\n"
          ]
        },
        {
          "output_type": "stream",
          "name": "stderr",
          "text": [
            "/usr/local/lib/python3.10/dist-packages/statsmodels/tsa/base/tsa_model.py:471: ValueWarning: A date index has been provided, but it has no associated frequency information and so will be ignored when e.g. forecasting.\n",
            "  self._init_dates(dates, freq)\n",
            "/usr/local/lib/python3.10/dist-packages/statsmodels/tsa/base/tsa_model.py:471: ValueWarning: A date index has been provided, but it has no associated frequency information and so will be ignored when e.g. forecasting.\n",
            "  self._init_dates(dates, freq)\n",
            "/usr/local/lib/python3.10/dist-packages/statsmodels/tsa/base/tsa_model.py:471: ValueWarning: A date index has been provided, but it has no associated frequency information and so will be ignored when e.g. forecasting.\n",
            "  self._init_dates(dates, freq)\n",
            "/usr/local/lib/python3.10/dist-packages/statsmodels/tsa/base/tsa_model.py:834: ValueWarning: No supported index is available. Prediction results will be given with an integer index beginning at `start`.\n",
            "  return get_prediction_index(\n"
          ]
        },
        {
          "output_type": "stream",
          "name": "stdout",
          "text": [
            "\r[*********************100%***********************]  1 of 1 completed\n"
          ]
        },
        {
          "output_type": "stream",
          "name": "stderr",
          "text": [
            "/usr/local/lib/python3.10/dist-packages/statsmodels/tsa/base/tsa_model.py:471: ValueWarning: A date index has been provided, but it has no associated frequency information and so will be ignored when e.g. forecasting.\n",
            "  self._init_dates(dates, freq)\n",
            "/usr/local/lib/python3.10/dist-packages/statsmodels/tsa/base/tsa_model.py:471: ValueWarning: A date index has been provided, but it has no associated frequency information and so will be ignored when e.g. forecasting.\n",
            "  self._init_dates(dates, freq)\n",
            "/usr/local/lib/python3.10/dist-packages/statsmodels/tsa/base/tsa_model.py:471: ValueWarning: A date index has been provided, but it has no associated frequency information and so will be ignored when e.g. forecasting.\n",
            "  self._init_dates(dates, freq)\n",
            "/usr/local/lib/python3.10/dist-packages/statsmodels/tsa/statespace/sarimax.py:966: UserWarning: Non-stationary starting autoregressive parameters found. Using zeros as starting parameters.\n",
            "  warn('Non-stationary starting autoregressive parameters'\n",
            "/usr/local/lib/python3.10/dist-packages/statsmodels/tsa/statespace/sarimax.py:978: UserWarning: Non-invertible starting MA parameters found. Using zeros as starting parameters.\n",
            "  warn('Non-invertible starting MA parameters found.'\n",
            "/usr/local/lib/python3.10/dist-packages/statsmodels/tsa/base/tsa_model.py:834: ValueWarning: No supported index is available. Prediction results will be given with an integer index beginning at `start`.\n",
            "  return get_prediction_index(\n"
          ]
        },
        {
          "output_type": "stream",
          "name": "stdout",
          "text": [
            "\r[*********************100%***********************]  1 of 1 completed\n"
          ]
        },
        {
          "output_type": "stream",
          "name": "stderr",
          "text": [
            "/usr/local/lib/python3.10/dist-packages/statsmodels/tsa/base/tsa_model.py:471: ValueWarning: A date index has been provided, but it has no associated frequency information and so will be ignored when e.g. forecasting.\n",
            "  self._init_dates(dates, freq)\n",
            "/usr/local/lib/python3.10/dist-packages/statsmodels/tsa/base/tsa_model.py:471: ValueWarning: A date index has been provided, but it has no associated frequency information and so will be ignored when e.g. forecasting.\n",
            "  self._init_dates(dates, freq)\n",
            "/usr/local/lib/python3.10/dist-packages/statsmodels/tsa/base/tsa_model.py:471: ValueWarning: A date index has been provided, but it has no associated frequency information and so will be ignored when e.g. forecasting.\n",
            "  self._init_dates(dates, freq)\n",
            "/usr/local/lib/python3.10/dist-packages/statsmodels/tsa/statespace/sarimax.py:966: UserWarning: Non-stationary starting autoregressive parameters found. Using zeros as starting parameters.\n",
            "  warn('Non-stationary starting autoregressive parameters'\n",
            "/usr/local/lib/python3.10/dist-packages/statsmodels/tsa/statespace/sarimax.py:978: UserWarning: Non-invertible starting MA parameters found. Using zeros as starting parameters.\n",
            "  warn('Non-invertible starting MA parameters found.'\n",
            "/usr/local/lib/python3.10/dist-packages/statsmodels/tsa/base/tsa_model.py:834: ValueWarning: No supported index is available. Prediction results will be given with an integer index beginning at `start`.\n",
            "  return get_prediction_index(\n"
          ]
        },
        {
          "output_type": "stream",
          "name": "stdout",
          "text": [
            "\r[*********************100%***********************]  1 of 1 completed\n"
          ]
        },
        {
          "output_type": "stream",
          "name": "stderr",
          "text": [
            "/usr/local/lib/python3.10/dist-packages/statsmodels/tsa/base/tsa_model.py:471: ValueWarning: A date index has been provided, but it has no associated frequency information and so will be ignored when e.g. forecasting.\n",
            "  self._init_dates(dates, freq)\n",
            "/usr/local/lib/python3.10/dist-packages/statsmodels/tsa/base/tsa_model.py:471: ValueWarning: A date index has been provided, but it has no associated frequency information and so will be ignored when e.g. forecasting.\n",
            "  self._init_dates(dates, freq)\n",
            "/usr/local/lib/python3.10/dist-packages/statsmodels/tsa/base/tsa_model.py:471: ValueWarning: A date index has been provided, but it has no associated frequency information and so will be ignored when e.g. forecasting.\n",
            "  self._init_dates(dates, freq)\n",
            "/usr/local/lib/python3.10/dist-packages/statsmodels/tsa/statespace/sarimax.py:966: UserWarning: Non-stationary starting autoregressive parameters found. Using zeros as starting parameters.\n",
            "  warn('Non-stationary starting autoregressive parameters'\n",
            "/usr/local/lib/python3.10/dist-packages/statsmodels/tsa/statespace/sarimax.py:978: UserWarning: Non-invertible starting MA parameters found. Using zeros as starting parameters.\n",
            "  warn('Non-invertible starting MA parameters found.'\n",
            "/usr/local/lib/python3.10/dist-packages/statsmodels/tsa/base/tsa_model.py:834: ValueWarning: No supported index is available. Prediction results will be given with an integer index beginning at `start`.\n",
            "  return get_prediction_index(\n"
          ]
        },
        {
          "output_type": "stream",
          "name": "stdout",
          "text": [
            "\r[*********************100%***********************]  1 of 1 completed\n"
          ]
        },
        {
          "output_type": "stream",
          "name": "stderr",
          "text": [
            "/usr/local/lib/python3.10/dist-packages/statsmodels/tsa/base/tsa_model.py:471: ValueWarning: A date index has been provided, but it has no associated frequency information and so will be ignored when e.g. forecasting.\n",
            "  self._init_dates(dates, freq)\n",
            "/usr/local/lib/python3.10/dist-packages/statsmodels/tsa/base/tsa_model.py:471: ValueWarning: A date index has been provided, but it has no associated frequency information and so will be ignored when e.g. forecasting.\n",
            "  self._init_dates(dates, freq)\n",
            "/usr/local/lib/python3.10/dist-packages/statsmodels/tsa/base/tsa_model.py:471: ValueWarning: A date index has been provided, but it has no associated frequency information and so will be ignored when e.g. forecasting.\n",
            "  self._init_dates(dates, freq)\n",
            "/usr/local/lib/python3.10/dist-packages/statsmodels/tsa/base/tsa_model.py:834: ValueWarning: No supported index is available. Prediction results will be given with an integer index beginning at `start`.\n",
            "  return get_prediction_index(\n"
          ]
        },
        {
          "output_type": "stream",
          "name": "stdout",
          "text": [
            "\r[*********************100%***********************]  1 of 1 completed\n"
          ]
        },
        {
          "output_type": "stream",
          "name": "stderr",
          "text": [
            "/usr/local/lib/python3.10/dist-packages/statsmodels/tsa/base/tsa_model.py:471: ValueWarning: A date index has been provided, but it has no associated frequency information and so will be ignored when e.g. forecasting.\n",
            "  self._init_dates(dates, freq)\n",
            "/usr/local/lib/python3.10/dist-packages/statsmodels/tsa/base/tsa_model.py:471: ValueWarning: A date index has been provided, but it has no associated frequency information and so will be ignored when e.g. forecasting.\n",
            "  self._init_dates(dates, freq)\n",
            "/usr/local/lib/python3.10/dist-packages/statsmodels/tsa/base/tsa_model.py:471: ValueWarning: A date index has been provided, but it has no associated frequency information and so will be ignored when e.g. forecasting.\n",
            "  self._init_dates(dates, freq)\n",
            "/usr/local/lib/python3.10/dist-packages/statsmodels/tsa/base/tsa_model.py:834: ValueWarning: No supported index is available. Prediction results will be given with an integer index beginning at `start`.\n",
            "  return get_prediction_index(\n"
          ]
        },
        {
          "output_type": "stream",
          "name": "stdout",
          "text": [
            "\r[*********************100%***********************]  1 of 1 completed\n"
          ]
        },
        {
          "output_type": "stream",
          "name": "stderr",
          "text": [
            "/usr/local/lib/python3.10/dist-packages/statsmodels/tsa/base/tsa_model.py:471: ValueWarning: A date index has been provided, but it has no associated frequency information and so will be ignored when e.g. forecasting.\n",
            "  self._init_dates(dates, freq)\n",
            "/usr/local/lib/python3.10/dist-packages/statsmodels/tsa/base/tsa_model.py:471: ValueWarning: A date index has been provided, but it has no associated frequency information and so will be ignored when e.g. forecasting.\n",
            "  self._init_dates(dates, freq)\n",
            "/usr/local/lib/python3.10/dist-packages/statsmodels/tsa/base/tsa_model.py:471: ValueWarning: A date index has been provided, but it has no associated frequency information and so will be ignored when e.g. forecasting.\n",
            "  self._init_dates(dates, freq)\n",
            "/usr/local/lib/python3.10/dist-packages/statsmodels/tsa/statespace/sarimax.py:966: UserWarning: Non-stationary starting autoregressive parameters found. Using zeros as starting parameters.\n",
            "  warn('Non-stationary starting autoregressive parameters'\n",
            "/usr/local/lib/python3.10/dist-packages/statsmodels/tsa/base/tsa_model.py:834: ValueWarning: No supported index is available. Prediction results will be given with an integer index beginning at `start`.\n",
            "  return get_prediction_index(\n"
          ]
        },
        {
          "output_type": "stream",
          "name": "stdout",
          "text": [
            "\r[*********************100%***********************]  1 of 1 completed\n"
          ]
        },
        {
          "output_type": "stream",
          "name": "stderr",
          "text": [
            "/usr/local/lib/python3.10/dist-packages/statsmodels/tsa/base/tsa_model.py:471: ValueWarning: A date index has been provided, but it has no associated frequency information and so will be ignored when e.g. forecasting.\n",
            "  self._init_dates(dates, freq)\n",
            "/usr/local/lib/python3.10/dist-packages/statsmodels/tsa/base/tsa_model.py:471: ValueWarning: A date index has been provided, but it has no associated frequency information and so will be ignored when e.g. forecasting.\n",
            "  self._init_dates(dates, freq)\n",
            "/usr/local/lib/python3.10/dist-packages/statsmodels/tsa/base/tsa_model.py:471: ValueWarning: A date index has been provided, but it has no associated frequency information and so will be ignored when e.g. forecasting.\n",
            "  self._init_dates(dates, freq)\n",
            "/usr/local/lib/python3.10/dist-packages/statsmodels/tsa/statespace/sarimax.py:966: UserWarning: Non-stationary starting autoregressive parameters found. Using zeros as starting parameters.\n",
            "  warn('Non-stationary starting autoregressive parameters'\n",
            "/usr/local/lib/python3.10/dist-packages/statsmodels/tsa/statespace/sarimax.py:978: UserWarning: Non-invertible starting MA parameters found. Using zeros as starting parameters.\n",
            "  warn('Non-invertible starting MA parameters found.'\n",
            "/usr/local/lib/python3.10/dist-packages/statsmodels/tsa/base/tsa_model.py:834: ValueWarning: No supported index is available. Prediction results will be given with an integer index beginning at `start`.\n",
            "  return get_prediction_index(\n"
          ]
        },
        {
          "output_type": "stream",
          "name": "stdout",
          "text": [
            "\r[*********************100%***********************]  1 of 1 completed\n"
          ]
        },
        {
          "output_type": "stream",
          "name": "stderr",
          "text": [
            "/usr/local/lib/python3.10/dist-packages/statsmodels/tsa/base/tsa_model.py:471: ValueWarning: A date index has been provided, but it has no associated frequency information and so will be ignored when e.g. forecasting.\n",
            "  self._init_dates(dates, freq)\n",
            "/usr/local/lib/python3.10/dist-packages/statsmodels/tsa/base/tsa_model.py:471: ValueWarning: A date index has been provided, but it has no associated frequency information and so will be ignored when e.g. forecasting.\n",
            "  self._init_dates(dates, freq)\n",
            "/usr/local/lib/python3.10/dist-packages/statsmodels/tsa/base/tsa_model.py:471: ValueWarning: A date index has been provided, but it has no associated frequency information and so will be ignored when e.g. forecasting.\n",
            "  self._init_dates(dates, freq)\n",
            "/usr/local/lib/python3.10/dist-packages/statsmodels/tsa/base/tsa_model.py:834: ValueWarning: No supported index is available. Prediction results will be given with an integer index beginning at `start`.\n",
            "  return get_prediction_index(\n"
          ]
        },
        {
          "output_type": "stream",
          "name": "stdout",
          "text": [
            "\r[*********************100%***********************]  1 of 1 completed\n"
          ]
        },
        {
          "output_type": "stream",
          "name": "stderr",
          "text": [
            "/usr/local/lib/python3.10/dist-packages/statsmodels/tsa/base/tsa_model.py:471: ValueWarning: A date index has been provided, but it has no associated frequency information and so will be ignored when e.g. forecasting.\n",
            "  self._init_dates(dates, freq)\n",
            "/usr/local/lib/python3.10/dist-packages/statsmodels/tsa/base/tsa_model.py:471: ValueWarning: A date index has been provided, but it has no associated frequency information and so will be ignored when e.g. forecasting.\n",
            "  self._init_dates(dates, freq)\n",
            "/usr/local/lib/python3.10/dist-packages/statsmodels/tsa/base/tsa_model.py:471: ValueWarning: A date index has been provided, but it has no associated frequency information and so will be ignored when e.g. forecasting.\n",
            "  self._init_dates(dates, freq)\n",
            "/usr/local/lib/python3.10/dist-packages/statsmodels/tsa/base/tsa_model.py:834: ValueWarning: No supported index is available. Prediction results will be given with an integer index beginning at `start`.\n",
            "  return get_prediction_index(\n"
          ]
        },
        {
          "output_type": "stream",
          "name": "stdout",
          "text": [
            "Mean squared error: 6.732518188867511e-08\n"
          ]
        }
      ]
    },
    {
      "cell_type": "code",
      "source": [
        "from sklearn.model_selection import TimeSeriesSplit\n",
        "tickers = ['AAPL', 'GOOGL', 'MSFT', 'AMZN', 'BRK-A', 'JPM', 'JNJ', 'V', 'PG']\n",
        "periods = 10\n",
        "order = (1, 1, 1)\n",
        "\n",
        "forecasts = []\n",
        "for ticker in tickers:\n",
        "    model_fit, forecast = run_arima(ticker, periods, order)\n",
        "    if model_fit is not None:\n",
        "        forecast_df = pd.DataFrame({'ds': pd.date_range(datetime.now(), periods=periods, freq='B'), 'yhat': forecast})\n",
        "        forecast_df = forecast_df.set_index('ds')\n",
        "        forecast_df.index.freq = 'B'\n",
        "        forecast_df['ticker'] = ticker\n",
        "        forecasts.append(forecast_df)\n",
        "\n",
        "df = pd.concat(forecasts)\n",
        "\n",
        "# Evaluate model performance using cross-validation\n",
        "from statsmodels.tsa.stattools import acf\n",
        "from statsmodels.graphics.tsaplots import plot_acf\n",
        "\n",
        "df_cv = TimeSeriesSplit(n_splits=10)\n",
        "errors = []\n",
        "for train_index, test_index in df_cv.split(df):\n",
        "    train = df.iloc[train_index]\n",
        "    test = df.iloc[test_index]\n",
        "    history = [x for x in train['yhat']]\n",
        "    predictions = []\n",
        "    for t in range(len(test)):\n",
        "        model = ARIMA(history, order=order)\n",
        "        model_fit = model.fit()\n",
        "        yhat = model_fit.forecast()[0]\n",
        "        predictions.append(yhat)\n",
        "        history.append(test.iloc[t]['yhat'])\n",
        "    error = mean_squared_error(test['yhat'], predictions)\n",
        "    errors.append(error)\n",
        "    print('MSE: %.3f' % error)\n",
        "    \n",
        "# Compute performance metrics\n",
        "print('Mean MSE: %.3f' % np.mean(errors))\n",
        "print('Standard deviation of MSE: %.3f' % np.std(errors))\n"
      ],
      "metadata": {
        "colab": {
          "base_uri": "https://localhost:8080/"
        },
        "id": "bWt83r67q3th",
        "outputId": "124ca9d8-9ea3-4521-a720-bf1175feea40"
      },
      "execution_count": 6,
      "outputs": [
        {
          "output_type": "stream",
          "name": "stdout",
          "text": [
            "\r[*********************100%***********************]  1 of 1 completed\n"
          ]
        },
        {
          "output_type": "stream",
          "name": "stderr",
          "text": [
            "/usr/local/lib/python3.10/dist-packages/statsmodels/tsa/base/tsa_model.py:471: ValueWarning: A date index has been provided, but it has no associated frequency information and so will be ignored when e.g. forecasting.\n",
            "  self._init_dates(dates, freq)\n",
            "/usr/local/lib/python3.10/dist-packages/statsmodels/tsa/base/tsa_model.py:471: ValueWarning: A date index has been provided, but it has no associated frequency information and so will be ignored when e.g. forecasting.\n",
            "  self._init_dates(dates, freq)\n",
            "/usr/local/lib/python3.10/dist-packages/statsmodels/tsa/base/tsa_model.py:471: ValueWarning: A date index has been provided, but it has no associated frequency information and so will be ignored when e.g. forecasting.\n",
            "  self._init_dates(dates, freq)\n",
            "/usr/local/lib/python3.10/dist-packages/statsmodels/tsa/base/tsa_model.py:834: ValueWarning: No supported index is available. Prediction results will be given with an integer index beginning at `start`.\n",
            "  return get_prediction_index(\n"
          ]
        },
        {
          "output_type": "stream",
          "name": "stdout",
          "text": [
            "\r[*********************100%***********************]  1 of 1 completed\n"
          ]
        },
        {
          "output_type": "stream",
          "name": "stderr",
          "text": [
            "/usr/local/lib/python3.10/dist-packages/statsmodels/tsa/base/tsa_model.py:471: ValueWarning: A date index has been provided, but it has no associated frequency information and so will be ignored when e.g. forecasting.\n",
            "  self._init_dates(dates, freq)\n",
            "/usr/local/lib/python3.10/dist-packages/statsmodels/tsa/base/tsa_model.py:471: ValueWarning: A date index has been provided, but it has no associated frequency information and so will be ignored when e.g. forecasting.\n",
            "  self._init_dates(dates, freq)\n",
            "/usr/local/lib/python3.10/dist-packages/statsmodels/tsa/base/tsa_model.py:471: ValueWarning: A date index has been provided, but it has no associated frequency information and so will be ignored when e.g. forecasting.\n",
            "  self._init_dates(dates, freq)\n",
            "/usr/local/lib/python3.10/dist-packages/statsmodels/tsa/statespace/sarimax.py:966: UserWarning: Non-stationary starting autoregressive parameters found. Using zeros as starting parameters.\n",
            "  warn('Non-stationary starting autoregressive parameters'\n",
            "/usr/local/lib/python3.10/dist-packages/statsmodels/tsa/statespace/sarimax.py:978: UserWarning: Non-invertible starting MA parameters found. Using zeros as starting parameters.\n",
            "  warn('Non-invertible starting MA parameters found.'\n",
            "/usr/local/lib/python3.10/dist-packages/statsmodels/tsa/base/tsa_model.py:834: ValueWarning: No supported index is available. Prediction results will be given with an integer index beginning at `start`.\n",
            "  return get_prediction_index(\n"
          ]
        },
        {
          "output_type": "stream",
          "name": "stdout",
          "text": [
            "\r[*********************100%***********************]  1 of 1 completed\n"
          ]
        },
        {
          "output_type": "stream",
          "name": "stderr",
          "text": [
            "/usr/local/lib/python3.10/dist-packages/statsmodels/tsa/base/tsa_model.py:471: ValueWarning: A date index has been provided, but it has no associated frequency information and so will be ignored when e.g. forecasting.\n",
            "  self._init_dates(dates, freq)\n",
            "/usr/local/lib/python3.10/dist-packages/statsmodels/tsa/base/tsa_model.py:471: ValueWarning: A date index has been provided, but it has no associated frequency information and so will be ignored when e.g. forecasting.\n",
            "  self._init_dates(dates, freq)\n",
            "/usr/local/lib/python3.10/dist-packages/statsmodels/tsa/base/tsa_model.py:471: ValueWarning: A date index has been provided, but it has no associated frequency information and so will be ignored when e.g. forecasting.\n",
            "  self._init_dates(dates, freq)\n",
            "/usr/local/lib/python3.10/dist-packages/statsmodels/tsa/statespace/sarimax.py:966: UserWarning: Non-stationary starting autoregressive parameters found. Using zeros as starting parameters.\n",
            "  warn('Non-stationary starting autoregressive parameters'\n",
            "/usr/local/lib/python3.10/dist-packages/statsmodels/tsa/statespace/sarimax.py:978: UserWarning: Non-invertible starting MA parameters found. Using zeros as starting parameters.\n",
            "  warn('Non-invertible starting MA parameters found.'\n",
            "/usr/local/lib/python3.10/dist-packages/statsmodels/tsa/base/tsa_model.py:834: ValueWarning: No supported index is available. Prediction results will be given with an integer index beginning at `start`.\n",
            "  return get_prediction_index(\n"
          ]
        },
        {
          "output_type": "stream",
          "name": "stdout",
          "text": [
            "\r[*********************100%***********************]  1 of 1 completed\n"
          ]
        },
        {
          "output_type": "stream",
          "name": "stderr",
          "text": [
            "/usr/local/lib/python3.10/dist-packages/statsmodels/tsa/base/tsa_model.py:471: ValueWarning: A date index has been provided, but it has no associated frequency information and so will be ignored when e.g. forecasting.\n",
            "  self._init_dates(dates, freq)\n",
            "/usr/local/lib/python3.10/dist-packages/statsmodels/tsa/base/tsa_model.py:471: ValueWarning: A date index has been provided, but it has no associated frequency information and so will be ignored when e.g. forecasting.\n",
            "  self._init_dates(dates, freq)\n",
            "/usr/local/lib/python3.10/dist-packages/statsmodels/tsa/base/tsa_model.py:471: ValueWarning: A date index has been provided, but it has no associated frequency information and so will be ignored when e.g. forecasting.\n",
            "  self._init_dates(dates, freq)\n",
            "/usr/local/lib/python3.10/dist-packages/statsmodels/tsa/statespace/sarimax.py:966: UserWarning: Non-stationary starting autoregressive parameters found. Using zeros as starting parameters.\n",
            "  warn('Non-stationary starting autoregressive parameters'\n",
            "/usr/local/lib/python3.10/dist-packages/statsmodels/tsa/statespace/sarimax.py:978: UserWarning: Non-invertible starting MA parameters found. Using zeros as starting parameters.\n",
            "  warn('Non-invertible starting MA parameters found.'\n",
            "/usr/local/lib/python3.10/dist-packages/statsmodels/tsa/base/tsa_model.py:834: ValueWarning: No supported index is available. Prediction results will be given with an integer index beginning at `start`.\n",
            "  return get_prediction_index(\n"
          ]
        },
        {
          "output_type": "stream",
          "name": "stdout",
          "text": [
            "\r[*********************100%***********************]  1 of 1 completed\n"
          ]
        },
        {
          "output_type": "stream",
          "name": "stderr",
          "text": [
            "/usr/local/lib/python3.10/dist-packages/statsmodels/tsa/base/tsa_model.py:471: ValueWarning: A date index has been provided, but it has no associated frequency information and so will be ignored when e.g. forecasting.\n",
            "  self._init_dates(dates, freq)\n",
            "/usr/local/lib/python3.10/dist-packages/statsmodels/tsa/base/tsa_model.py:471: ValueWarning: A date index has been provided, but it has no associated frequency information and so will be ignored when e.g. forecasting.\n",
            "  self._init_dates(dates, freq)\n",
            "/usr/local/lib/python3.10/dist-packages/statsmodels/tsa/base/tsa_model.py:471: ValueWarning: A date index has been provided, but it has no associated frequency information and so will be ignored when e.g. forecasting.\n",
            "  self._init_dates(dates, freq)\n",
            "/usr/local/lib/python3.10/dist-packages/statsmodels/tsa/base/tsa_model.py:834: ValueWarning: No supported index is available. Prediction results will be given with an integer index beginning at `start`.\n",
            "  return get_prediction_index(\n"
          ]
        },
        {
          "output_type": "stream",
          "name": "stdout",
          "text": [
            "\r[*********************100%***********************]  1 of 1 completed\n"
          ]
        },
        {
          "output_type": "stream",
          "name": "stderr",
          "text": [
            "/usr/local/lib/python3.10/dist-packages/statsmodels/tsa/base/tsa_model.py:471: ValueWarning: A date index has been provided, but it has no associated frequency information and so will be ignored when e.g. forecasting.\n",
            "  self._init_dates(dates, freq)\n",
            "/usr/local/lib/python3.10/dist-packages/statsmodels/tsa/base/tsa_model.py:471: ValueWarning: A date index has been provided, but it has no associated frequency information and so will be ignored when e.g. forecasting.\n",
            "  self._init_dates(dates, freq)\n",
            "/usr/local/lib/python3.10/dist-packages/statsmodels/tsa/base/tsa_model.py:471: ValueWarning: A date index has been provided, but it has no associated frequency information and so will be ignored when e.g. forecasting.\n",
            "  self._init_dates(dates, freq)\n",
            "/usr/local/lib/python3.10/dist-packages/statsmodels/tsa/base/tsa_model.py:834: ValueWarning: No supported index is available. Prediction results will be given with an integer index beginning at `start`.\n",
            "  return get_prediction_index(\n"
          ]
        },
        {
          "output_type": "stream",
          "name": "stdout",
          "text": [
            "\r[*********************100%***********************]  1 of 1 completed\n"
          ]
        },
        {
          "output_type": "stream",
          "name": "stderr",
          "text": [
            "/usr/local/lib/python3.10/dist-packages/statsmodels/tsa/base/tsa_model.py:471: ValueWarning: A date index has been provided, but it has no associated frequency information and so will be ignored when e.g. forecasting.\n",
            "  self._init_dates(dates, freq)\n",
            "/usr/local/lib/python3.10/dist-packages/statsmodels/tsa/base/tsa_model.py:471: ValueWarning: A date index has been provided, but it has no associated frequency information and so will be ignored when e.g. forecasting.\n",
            "  self._init_dates(dates, freq)\n",
            "/usr/local/lib/python3.10/dist-packages/statsmodels/tsa/base/tsa_model.py:471: ValueWarning: A date index has been provided, but it has no associated frequency information and so will be ignored when e.g. forecasting.\n",
            "  self._init_dates(dates, freq)\n",
            "/usr/local/lib/python3.10/dist-packages/statsmodels/tsa/statespace/sarimax.py:966: UserWarning: Non-stationary starting autoregressive parameters found. Using zeros as starting parameters.\n",
            "  warn('Non-stationary starting autoregressive parameters'\n",
            "/usr/local/lib/python3.10/dist-packages/statsmodels/tsa/base/tsa_model.py:834: ValueWarning: No supported index is available. Prediction results will be given with an integer index beginning at `start`.\n",
            "  return get_prediction_index(\n"
          ]
        },
        {
          "output_type": "stream",
          "name": "stdout",
          "text": [
            "\r[*********************100%***********************]  1 of 1 completed\n"
          ]
        },
        {
          "output_type": "stream",
          "name": "stderr",
          "text": [
            "/usr/local/lib/python3.10/dist-packages/statsmodels/tsa/base/tsa_model.py:471: ValueWarning: A date index has been provided, but it has no associated frequency information and so will be ignored when e.g. forecasting.\n",
            "  self._init_dates(dates, freq)\n",
            "/usr/local/lib/python3.10/dist-packages/statsmodels/tsa/base/tsa_model.py:471: ValueWarning: A date index has been provided, but it has no associated frequency information and so will be ignored when e.g. forecasting.\n",
            "  self._init_dates(dates, freq)\n",
            "/usr/local/lib/python3.10/dist-packages/statsmodels/tsa/base/tsa_model.py:471: ValueWarning: A date index has been provided, but it has no associated frequency information and so will be ignored when e.g. forecasting.\n",
            "  self._init_dates(dates, freq)\n",
            "/usr/local/lib/python3.10/dist-packages/statsmodels/tsa/statespace/sarimax.py:966: UserWarning: Non-stationary starting autoregressive parameters found. Using zeros as starting parameters.\n",
            "  warn('Non-stationary starting autoregressive parameters'\n",
            "/usr/local/lib/python3.10/dist-packages/statsmodels/tsa/statespace/sarimax.py:978: UserWarning: Non-invertible starting MA parameters found. Using zeros as starting parameters.\n",
            "  warn('Non-invertible starting MA parameters found.'\n",
            "/usr/local/lib/python3.10/dist-packages/statsmodels/tsa/base/tsa_model.py:834: ValueWarning: No supported index is available. Prediction results will be given with an integer index beginning at `start`.\n",
            "  return get_prediction_index(\n"
          ]
        },
        {
          "output_type": "stream",
          "name": "stdout",
          "text": [
            "\r[*********************100%***********************]  1 of 1 completed\n"
          ]
        },
        {
          "output_type": "stream",
          "name": "stderr",
          "text": [
            "/usr/local/lib/python3.10/dist-packages/statsmodels/tsa/base/tsa_model.py:471: ValueWarning: A date index has been provided, but it has no associated frequency information and so will be ignored when e.g. forecasting.\n",
            "  self._init_dates(dates, freq)\n",
            "/usr/local/lib/python3.10/dist-packages/statsmodels/tsa/base/tsa_model.py:471: ValueWarning: A date index has been provided, but it has no associated frequency information and so will be ignored when e.g. forecasting.\n",
            "  self._init_dates(dates, freq)\n",
            "/usr/local/lib/python3.10/dist-packages/statsmodels/tsa/base/tsa_model.py:471: ValueWarning: A date index has been provided, but it has no associated frequency information and so will be ignored when e.g. forecasting.\n",
            "  self._init_dates(dates, freq)\n",
            "/usr/local/lib/python3.10/dist-packages/statsmodels/tsa/base/tsa_model.py:834: ValueWarning: No supported index is available. Prediction results will be given with an integer index beginning at `start`.\n",
            "  return get_prediction_index(\n",
            "/usr/local/lib/python3.10/dist-packages/statsmodels/base/model.py:604: ConvergenceWarning: Maximum Likelihood optimization failed to converge. Check mle_retvals\n",
            "  warnings.warn(\"Maximum Likelihood optimization failed to \"\n",
            "/usr/local/lib/python3.10/dist-packages/statsmodels/tsa/statespace/sarimax.py:966: UserWarning: Non-stationary starting autoregressive parameters found. Using zeros as starting parameters.\n",
            "  warn('Non-stationary starting autoregressive parameters'\n",
            "/usr/local/lib/python3.10/dist-packages/statsmodels/tsa/statespace/sarimax.py:978: UserWarning: Non-invertible starting MA parameters found. Using zeros as starting parameters.\n",
            "  warn('Non-invertible starting MA parameters found.'\n"
          ]
        },
        {
          "output_type": "stream",
          "name": "stdout",
          "text": [
            "MSE: 386.077\n"
          ]
        },
        {
          "output_type": "stream",
          "name": "stderr",
          "text": [
            "/usr/local/lib/python3.10/dist-packages/statsmodels/tsa/statespace/sarimax.py:966: UserWarning: Non-stationary starting autoregressive parameters found. Using zeros as starting parameters.\n",
            "  warn('Non-stationary starting autoregressive parameters'\n",
            "/usr/local/lib/python3.10/dist-packages/statsmodels/tsa/statespace/sarimax.py:978: UserWarning: Non-invertible starting MA parameters found. Using zeros as starting parameters.\n",
            "  warn('Non-invertible starting MA parameters found.'\n",
            "/usr/local/lib/python3.10/dist-packages/statsmodels/tsa/statespace/sarimax.py:966: UserWarning: Non-stationary starting autoregressive parameters found. Using zeros as starting parameters.\n",
            "  warn('Non-stationary starting autoregressive parameters'\n",
            "/usr/local/lib/python3.10/dist-packages/statsmodels/tsa/statespace/sarimax.py:978: UserWarning: Non-invertible starting MA parameters found. Using zeros as starting parameters.\n",
            "  warn('Non-invertible starting MA parameters found.'\n"
          ]
        },
        {
          "output_type": "stream",
          "name": "stdout",
          "text": [
            "MSE: 4695.240\n",
            "MSE: 4893.870\n"
          ]
        },
        {
          "output_type": "stream",
          "name": "stderr",
          "text": [
            "/usr/local/lib/python3.10/dist-packages/statsmodels/tsa/statespace/sarimax.py:966: UserWarning: Non-stationary starting autoregressive parameters found. Using zeros as starting parameters.\n",
            "  warn('Non-stationary starting autoregressive parameters'\n",
            "/usr/local/lib/python3.10/dist-packages/statsmodels/tsa/statespace/sarimax.py:978: UserWarning: Non-invertible starting MA parameters found. Using zeros as starting parameters.\n",
            "  warn('Non-invertible starting MA parameters found.'\n",
            "/usr/local/lib/python3.10/dist-packages/statsmodels/tsa/statespace/sarimax.py:966: UserWarning: Non-stationary starting autoregressive parameters found. Using zeros as starting parameters.\n",
            "  warn('Non-stationary starting autoregressive parameters'\n",
            "/usr/local/lib/python3.10/dist-packages/statsmodels/tsa/statespace/sarimax.py:978: UserWarning: Non-invertible starting MA parameters found. Using zeros as starting parameters.\n",
            "  warn('Non-invertible starting MA parameters found.'\n"
          ]
        },
        {
          "output_type": "stream",
          "name": "stdout",
          "text": [
            "MSE: 30688667318.742\n",
            "MSE: 1065.465\n",
            "MSE: 30721314447.440\n",
            "MSE: 40569559.614\n",
            "MSE: 32180639.824\n",
            "MSE: 26689232.958\n",
            "MSE: 22465233.022\n",
            "Mean MSE: 6153189747.225\n",
            "Standard deviation of MSE: 12275911049.735\n"
          ]
        }
      ]
    },
    {
      "cell_type": "markdown",
      "source": [
        "As we can clearly see that prophet out performs ARIMA by many folds atleast for the expirement we are conducting, this can be because of following reasons\n",
        "1. Handling Seasonality: Prophet incorporates seasonality by modeling yearly, weekly, and daily seasonality patterns automatically. It can capture complex seasonal variations, including multiple seasonal components. ARIMA, on the other hand, requires manual identification and specification of seasonal components.\n",
        "\n",
        "2. Flexibility in Trend Modeling: Prophet can handle nonlinear trends and trend changes by using a piecewise linear or logistic growth model. It automatically detects and adapts to changes in the trend, allowing for more flexibility in capturing trend patterns. ARIMA assumes a linear trend and may struggle with capturing nonlinear trends or abrupt changes in the trend.\n",
        "\n",
        "3. Treatment of Outliers: Prophet provides robustness to outliers by utilizing a robust fitting algorithm. It can handle outliers and anomalies in the data more effectively, reducing their impact on the forecast. ARIMA is more sensitive to outliers and may be influenced by their presence.\n",
        "\n",
        "4. Incorporation of Domain Knowledge: Prophet allows for the inclusion of domain-specific knowledge and inputs through user-defined seasonalities, holidays, and changepoints. This feature enables the model to capture domain-specific patterns and events, which can enhance its forecasting accuracy. ARIMA does not have built-in mechanisms for incorporating domain knowledge.\n",
        "\n",
        "5. Model Training and Evaluation: Prophet automatically handles data preprocessing tasks, such as missing value imputation and outlier handling. It also provides useful diagnostics and visualization tools to evaluate the model's performance and assess its quality. ARIMA requires more manual intervention and tuning to achieve comparable results."
      ],
      "metadata": {
        "id": "Bg17ENouBZl4"
      }
    },
    {
      "cell_type": "code",
      "source": [],
      "metadata": {
        "id": "MUm86Puy8MBu"
      },
      "execution_count": 6,
      "outputs": []
    }
  ]
}