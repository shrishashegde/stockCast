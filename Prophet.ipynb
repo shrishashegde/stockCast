{
  "nbformat": 4,
  "nbformat_minor": 0,
  "metadata": {
    "colab": {
      "provenance": []
    },
    "kernelspec": {
      "name": "python3",
      "display_name": "Python 3"
    },
    "language_info": {
      "name": "python"
    }
  },
  "cells": [
    {
      "cell_type": "code",
      "source": [
        "!pip install yfinance\n",
        "!pip install prophet"
      ],
      "metadata": {
        "colab": {
          "base_uri": "https://localhost:8080/"
        },
        "id": "XYIHxRC9hs1d",
        "outputId": "f3241edb-2807-4706-8b09-abd584681d4a"
      },
      "execution_count": 7,
      "outputs": [
        {
          "output_type": "stream",
          "name": "stdout",
          "text": [
            "Looking in indexes: https://pypi.org/simple, https://us-python.pkg.dev/colab-wheels/public/simple/\n",
            "Requirement already satisfied: yfinance in /usr/local/lib/python3.10/dist-packages (0.2.18)\n",
            "Requirement already satisfied: pandas>=1.3.0 in /usr/local/lib/python3.10/dist-packages (from yfinance) (1.5.3)\n",
            "Requirement already satisfied: numpy>=1.16.5 in /usr/local/lib/python3.10/dist-packages (from yfinance) (1.22.4)\n",
            "Requirement already satisfied: requests>=2.26 in /usr/local/lib/python3.10/dist-packages (from yfinance) (2.27.1)\n",
            "Requirement already satisfied: multitasking>=0.0.7 in /usr/local/lib/python3.10/dist-packages (from yfinance) (0.0.11)\n",
            "Requirement already satisfied: lxml>=4.9.1 in /usr/local/lib/python3.10/dist-packages (from yfinance) (4.9.2)\n",
            "Requirement already satisfied: appdirs>=1.4.4 in /usr/local/lib/python3.10/dist-packages (from yfinance) (1.4.4)\n",
            "Requirement already satisfied: pytz>=2022.5 in /usr/local/lib/python3.10/dist-packages (from yfinance) (2022.7.1)\n",
            "Requirement already satisfied: frozendict>=2.3.4 in /usr/local/lib/python3.10/dist-packages (from yfinance) (2.3.7)\n",
            "Requirement already satisfied: cryptography>=3.3.2 in /usr/local/lib/python3.10/dist-packages (from yfinance) (40.0.2)\n",
            "Requirement already satisfied: beautifulsoup4>=4.11.1 in /usr/local/lib/python3.10/dist-packages (from yfinance) (4.11.2)\n",
            "Requirement already satisfied: html5lib>=1.1 in /usr/local/lib/python3.10/dist-packages (from yfinance) (1.1)\n",
            "Requirement already satisfied: soupsieve>1.2 in /usr/local/lib/python3.10/dist-packages (from beautifulsoup4>=4.11.1->yfinance) (2.4.1)\n",
            "Requirement already satisfied: cffi>=1.12 in /usr/local/lib/python3.10/dist-packages (from cryptography>=3.3.2->yfinance) (1.15.1)\n",
            "Requirement already satisfied: six>=1.9 in /usr/local/lib/python3.10/dist-packages (from html5lib>=1.1->yfinance) (1.16.0)\n",
            "Requirement already satisfied: webencodings in /usr/local/lib/python3.10/dist-packages (from html5lib>=1.1->yfinance) (0.5.1)\n",
            "Requirement already satisfied: python-dateutil>=2.8.1 in /usr/local/lib/python3.10/dist-packages (from pandas>=1.3.0->yfinance) (2.8.2)\n",
            "Requirement already satisfied: urllib3<1.27,>=1.21.1 in /usr/local/lib/python3.10/dist-packages (from requests>=2.26->yfinance) (1.26.15)\n",
            "Requirement already satisfied: certifi>=2017.4.17 in /usr/local/lib/python3.10/dist-packages (from requests>=2.26->yfinance) (2022.12.7)\n",
            "Requirement already satisfied: charset-normalizer~=2.0.0 in /usr/local/lib/python3.10/dist-packages (from requests>=2.26->yfinance) (2.0.12)\n",
            "Requirement already satisfied: idna<4,>=2.5 in /usr/local/lib/python3.10/dist-packages (from requests>=2.26->yfinance) (3.4)\n",
            "Requirement already satisfied: pycparser in /usr/local/lib/python3.10/dist-packages (from cffi>=1.12->cryptography>=3.3.2->yfinance) (2.21)\n",
            "\u001b[33mWARNING: Running pip as the 'root' user can result in broken permissions and conflicting behaviour with the system package manager. It is recommended to use a virtual environment instead: https://pip.pypa.io/warnings/venv\u001b[0m\u001b[33m\n",
            "\u001b[0mLooking in indexes: https://pypi.org/simple, https://us-python.pkg.dev/colab-wheels/public/simple/\n",
            "Requirement already satisfied: prophet in /usr/local/lib/python3.10/dist-packages (1.1.2)\n",
            "Requirement already satisfied: cmdstanpy>=1.0.4 in /usr/local/lib/python3.10/dist-packages (from prophet) (1.1.0)\n",
            "Requirement already satisfied: numpy>=1.15.4 in /usr/local/lib/python3.10/dist-packages (from prophet) (1.22.4)\n",
            "Requirement already satisfied: matplotlib>=2.0.0 in /usr/local/lib/python3.10/dist-packages (from prophet) (3.7.1)\n",
            "Requirement already satisfied: pandas>=1.0.4 in /usr/local/lib/python3.10/dist-packages (from prophet) (1.5.3)\n",
            "Requirement already satisfied: LunarCalendar>=0.0.9 in /usr/local/lib/python3.10/dist-packages (from prophet) (0.0.9)\n",
            "Requirement already satisfied: convertdate>=2.1.2 in /usr/local/lib/python3.10/dist-packages (from prophet) (2.4.0)\n",
            "Requirement already satisfied: holidays>=0.14.2 in /usr/local/lib/python3.10/dist-packages (from prophet) (0.23)\n",
            "Requirement already satisfied: python-dateutil>=2.8.0 in /usr/local/lib/python3.10/dist-packages (from prophet) (2.8.2)\n",
            "Requirement already satisfied: tqdm>=4.36.1 in /usr/local/lib/python3.10/dist-packages (from prophet) (4.65.0)\n",
            "Requirement already satisfied: pymeeus<=1,>=0.3.13 in /usr/local/lib/python3.10/dist-packages (from convertdate>=2.1.2->prophet) (0.5.12)\n",
            "Requirement already satisfied: hijri-converter in /usr/local/lib/python3.10/dist-packages (from holidays>=0.14.2->prophet) (2.3.1)\n",
            "Requirement already satisfied: korean-lunar-calendar in /usr/local/lib/python3.10/dist-packages (from holidays>=0.14.2->prophet) (0.3.1)\n",
            "Requirement already satisfied: ephem>=3.7.5.3 in /usr/local/lib/python3.10/dist-packages (from LunarCalendar>=0.0.9->prophet) (4.1.4)\n",
            "Requirement already satisfied: pytz in /usr/local/lib/python3.10/dist-packages (from LunarCalendar>=0.0.9->prophet) (2022.7.1)\n",
            "Requirement already satisfied: contourpy>=1.0.1 in /usr/local/lib/python3.10/dist-packages (from matplotlib>=2.0.0->prophet) (1.0.7)\n",
            "Requirement already satisfied: cycler>=0.10 in /usr/local/lib/python3.10/dist-packages (from matplotlib>=2.0.0->prophet) (0.11.0)\n",
            "Requirement already satisfied: fonttools>=4.22.0 in /usr/local/lib/python3.10/dist-packages (from matplotlib>=2.0.0->prophet) (4.39.3)\n",
            "Requirement already satisfied: kiwisolver>=1.0.1 in /usr/local/lib/python3.10/dist-packages (from matplotlib>=2.0.0->prophet) (1.4.4)\n",
            "Requirement already satisfied: packaging>=20.0 in /usr/local/lib/python3.10/dist-packages (from matplotlib>=2.0.0->prophet) (23.1)\n",
            "Requirement already satisfied: pillow>=6.2.0 in /usr/local/lib/python3.10/dist-packages (from matplotlib>=2.0.0->prophet) (8.4.0)\n",
            "Requirement already satisfied: pyparsing>=2.3.1 in /usr/local/lib/python3.10/dist-packages (from matplotlib>=2.0.0->prophet) (3.0.9)\n",
            "Requirement already satisfied: six>=1.5 in /usr/local/lib/python3.10/dist-packages (from python-dateutil>=2.8.0->prophet) (1.16.0)\n",
            "\u001b[33mWARNING: Running pip as the 'root' user can result in broken permissions and conflicting behaviour with the system package manager. It is recommended to use a virtual environment instead: https://pip.pypa.io/warnings/venv\u001b[0m\u001b[33m\n",
            "\u001b[0m"
          ]
        }
      ]
    },
    {
      "cell_type": "code",
      "execution_count": 8,
      "metadata": {
        "colab": {
          "base_uri": "https://localhost:8080/"
        },
        "id": "4DOfFCbGf3EY",
        "outputId": "76ab52d8-a7bd-4d9a-c8bf-5963028102e9"
      },
      "outputs": [
        {
          "output_type": "stream",
          "name": "stdout",
          "text": [
            "\r[*********************100%***********************]  1 of 1 completed"
          ]
        },
        {
          "output_type": "stream",
          "name": "stderr",
          "text": [
            "INFO:prophet:Disabling daily seasonality. Run prophet with daily_seasonality=True to override this.\n",
            "DEBUG:cmdstanpy:input tempfile: /tmp/tmpd14zsjuy/sk2h3glx.json\n"
          ]
        },
        {
          "output_type": "stream",
          "name": "stdout",
          "text": [
            "\n"
          ]
        },
        {
          "output_type": "stream",
          "name": "stderr",
          "text": [
            "DEBUG:cmdstanpy:input tempfile: /tmp/tmpd14zsjuy/xjw7pzkr.json\n",
            "DEBUG:cmdstanpy:idx 0\n",
            "DEBUG:cmdstanpy:running CmdStan, num_threads: None\n",
            "DEBUG:cmdstanpy:CmdStan args: ['/usr/local/lib/python3.10/dist-packages/prophet/stan_model/prophet_model.bin', 'random', 'seed=65491', 'data', 'file=/tmp/tmpd14zsjuy/sk2h3glx.json', 'init=/tmp/tmpd14zsjuy/xjw7pzkr.json', 'output', 'file=/tmp/tmpd14zsjuy/prophet_model__ayig9r/prophet_model-20230504091029.csv', 'method=optimize', 'algorithm=lbfgs', 'iter=10000']\n",
            "09:10:29 - cmdstanpy - INFO - Chain [1] start processing\n",
            "INFO:cmdstanpy:Chain [1] start processing\n",
            "09:10:30 - cmdstanpy - INFO - Chain [1] done processing\n",
            "INFO:cmdstanpy:Chain [1] done processing\n"
          ]
        },
        {
          "output_type": "stream",
          "name": "stdout",
          "text": [
            "\r[*********************100%***********************]  1 of 1 completed"
          ]
        },
        {
          "output_type": "stream",
          "name": "stderr",
          "text": [
            "INFO:prophet:Disabling daily seasonality. Run prophet with daily_seasonality=True to override this.\n",
            "DEBUG:cmdstanpy:input tempfile: /tmp/tmpd14zsjuy/75qewf78.json\n",
            "DEBUG:cmdstanpy:input tempfile: /tmp/tmpd14zsjuy/89_zcuqt.json\n",
            "DEBUG:cmdstanpy:idx 0\n",
            "DEBUG:cmdstanpy:running CmdStan, num_threads: None\n",
            "DEBUG:cmdstanpy:CmdStan args: ['/usr/local/lib/python3.10/dist-packages/prophet/stan_model/prophet_model.bin', 'random', 'seed=95753', 'data', 'file=/tmp/tmpd14zsjuy/75qewf78.json', 'init=/tmp/tmpd14zsjuy/89_zcuqt.json', 'output', 'file=/tmp/tmpd14zsjuy/prophet_modelsyes_qxt/prophet_model-20230504091031.csv', 'method=optimize', 'algorithm=lbfgs', 'iter=10000']\n",
            "09:10:31 - cmdstanpy - INFO - Chain [1] start processing\n",
            "INFO:cmdstanpy:Chain [1] start processing\n"
          ]
        },
        {
          "output_type": "stream",
          "name": "stdout",
          "text": [
            "\n"
          ]
        },
        {
          "output_type": "stream",
          "name": "stderr",
          "text": [
            "09:10:32 - cmdstanpy - INFO - Chain [1] done processing\n",
            "INFO:cmdstanpy:Chain [1] done processing\n"
          ]
        },
        {
          "output_type": "stream",
          "name": "stdout",
          "text": [
            "\r[*********************100%***********************]  1 of 1 completed"
          ]
        },
        {
          "output_type": "stream",
          "name": "stderr",
          "text": [
            "INFO:prophet:Disabling daily seasonality. Run prophet with daily_seasonality=True to override this.\n",
            "DEBUG:cmdstanpy:input tempfile: /tmp/tmpd14zsjuy/dyz3y2f5.json\n"
          ]
        },
        {
          "output_type": "stream",
          "name": "stdout",
          "text": [
            "\n"
          ]
        },
        {
          "output_type": "stream",
          "name": "stderr",
          "text": [
            "DEBUG:cmdstanpy:input tempfile: /tmp/tmpd14zsjuy/sw5dfprq.json\n",
            "DEBUG:cmdstanpy:idx 0\n",
            "DEBUG:cmdstanpy:running CmdStan, num_threads: None\n",
            "DEBUG:cmdstanpy:CmdStan args: ['/usr/local/lib/python3.10/dist-packages/prophet/stan_model/prophet_model.bin', 'random', 'seed=72764', 'data', 'file=/tmp/tmpd14zsjuy/dyz3y2f5.json', 'init=/tmp/tmpd14zsjuy/sw5dfprq.json', 'output', 'file=/tmp/tmpd14zsjuy/prophet_model9900xr_p/prophet_model-20230504091034.csv', 'method=optimize', 'algorithm=lbfgs', 'iter=10000']\n",
            "09:10:34 - cmdstanpy - INFO - Chain [1] start processing\n",
            "INFO:cmdstanpy:Chain [1] start processing\n",
            "09:10:35 - cmdstanpy - INFO - Chain [1] done processing\n",
            "INFO:cmdstanpy:Chain [1] done processing\n"
          ]
        },
        {
          "output_type": "stream",
          "name": "stdout",
          "text": [
            "\r[*********************100%***********************]  1 of 1 completed"
          ]
        },
        {
          "output_type": "stream",
          "name": "stderr",
          "text": [
            "INFO:prophet:Disabling daily seasonality. Run prophet with daily_seasonality=True to override this.\n",
            "DEBUG:cmdstanpy:input tempfile: /tmp/tmpd14zsjuy/47gidaav.json\n"
          ]
        },
        {
          "output_type": "stream",
          "name": "stdout",
          "text": [
            "\n"
          ]
        },
        {
          "output_type": "stream",
          "name": "stderr",
          "text": [
            "DEBUG:cmdstanpy:input tempfile: /tmp/tmpd14zsjuy/y8rjgfm8.json\n",
            "DEBUG:cmdstanpy:idx 0\n",
            "DEBUG:cmdstanpy:running CmdStan, num_threads: None\n",
            "DEBUG:cmdstanpy:CmdStan args: ['/usr/local/lib/python3.10/dist-packages/prophet/stan_model/prophet_model.bin', 'random', 'seed=97510', 'data', 'file=/tmp/tmpd14zsjuy/47gidaav.json', 'init=/tmp/tmpd14zsjuy/y8rjgfm8.json', 'output', 'file=/tmp/tmpd14zsjuy/prophet_modellh4d3qo4/prophet_model-20230504091036.csv', 'method=optimize', 'algorithm=lbfgs', 'iter=10000']\n",
            "09:10:36 - cmdstanpy - INFO - Chain [1] start processing\n",
            "INFO:cmdstanpy:Chain [1] start processing\n",
            "09:10:36 - cmdstanpy - INFO - Chain [1] done processing\n",
            "INFO:cmdstanpy:Chain [1] done processing\n"
          ]
        },
        {
          "output_type": "stream",
          "name": "stdout",
          "text": [
            "\r[*********************100%***********************]  1 of 1 completed"
          ]
        },
        {
          "output_type": "stream",
          "name": "stderr",
          "text": [
            "INFO:prophet:Disabling daily seasonality. Run prophet with daily_seasonality=True to override this.\n",
            "DEBUG:cmdstanpy:input tempfile: /tmp/tmpd14zsjuy/jezcxgah.json\n",
            "DEBUG:cmdstanpy:input tempfile: /tmp/tmpd14zsjuy/usc3wy1n.json\n"
          ]
        },
        {
          "output_type": "stream",
          "name": "stdout",
          "text": [
            "\n"
          ]
        },
        {
          "output_type": "stream",
          "name": "stderr",
          "text": [
            "DEBUG:cmdstanpy:idx 0\n",
            "DEBUG:cmdstanpy:running CmdStan, num_threads: None\n",
            "DEBUG:cmdstanpy:CmdStan args: ['/usr/local/lib/python3.10/dist-packages/prophet/stan_model/prophet_model.bin', 'random', 'seed=33302', 'data', 'file=/tmp/tmpd14zsjuy/jezcxgah.json', 'init=/tmp/tmpd14zsjuy/usc3wy1n.json', 'output', 'file=/tmp/tmpd14zsjuy/prophet_model_f24ujw8/prophet_model-20230504091037.csv', 'method=optimize', 'algorithm=lbfgs', 'iter=10000']\n",
            "09:10:37 - cmdstanpy - INFO - Chain [1] start processing\n",
            "INFO:cmdstanpy:Chain [1] start processing\n",
            "09:10:38 - cmdstanpy - INFO - Chain [1] done processing\n",
            "INFO:cmdstanpy:Chain [1] done processing\n"
          ]
        },
        {
          "output_type": "stream",
          "name": "stdout",
          "text": [
            "\r[*********************100%***********************]  1 of 1 completed"
          ]
        },
        {
          "output_type": "stream",
          "name": "stderr",
          "text": [
            "INFO:prophet:Disabling daily seasonality. Run prophet with daily_seasonality=True to override this.\n",
            "DEBUG:cmdstanpy:input tempfile: /tmp/tmpd14zsjuy/ma89dc6n.json\n",
            "DEBUG:cmdstanpy:input tempfile: /tmp/tmpd14zsjuy/3rnba0oq.json\n",
            "DEBUG:cmdstanpy:idx 0\n",
            "DEBUG:cmdstanpy:running CmdStan, num_threads: None\n"
          ]
        },
        {
          "output_type": "stream",
          "name": "stdout",
          "text": [
            "\n"
          ]
        },
        {
          "output_type": "stream",
          "name": "stderr",
          "text": [
            "DEBUG:cmdstanpy:CmdStan args: ['/usr/local/lib/python3.10/dist-packages/prophet/stan_model/prophet_model.bin', 'random', 'seed=71463', 'data', 'file=/tmp/tmpd14zsjuy/ma89dc6n.json', 'init=/tmp/tmpd14zsjuy/3rnba0oq.json', 'output', 'file=/tmp/tmpd14zsjuy/prophet_modelilnmy9z4/prophet_model-20230504091039.csv', 'method=optimize', 'algorithm=lbfgs', 'iter=10000']\n",
            "09:10:39 - cmdstanpy - INFO - Chain [1] start processing\n",
            "INFO:cmdstanpy:Chain [1] start processing\n",
            "09:10:40 - cmdstanpy - INFO - Chain [1] done processing\n",
            "INFO:cmdstanpy:Chain [1] done processing\n"
          ]
        },
        {
          "output_type": "stream",
          "name": "stdout",
          "text": [
            "\r[*********************100%***********************]  1 of 1 completed"
          ]
        },
        {
          "output_type": "stream",
          "name": "stderr",
          "text": [
            "INFO:prophet:Disabling daily seasonality. Run prophet with daily_seasonality=True to override this.\n",
            "DEBUG:cmdstanpy:input tempfile: /tmp/tmpd14zsjuy/zwp0488v.json\n",
            "DEBUG:cmdstanpy:input tempfile: /tmp/tmpd14zsjuy/j9mg2a8h.json\n",
            "DEBUG:cmdstanpy:idx 0\n",
            "DEBUG:cmdstanpy:running CmdStan, num_threads: None\n",
            "DEBUG:cmdstanpy:CmdStan args: ['/usr/local/lib/python3.10/dist-packages/prophet/stan_model/prophet_model.bin', 'random', 'seed=33841', 'data', 'file=/tmp/tmpd14zsjuy/zwp0488v.json', 'init=/tmp/tmpd14zsjuy/j9mg2a8h.json', 'output', 'file=/tmp/tmpd14zsjuy/prophet_modelol7nmj03/prophet_model-20230504091041.csv', 'method=optimize', 'algorithm=lbfgs', 'iter=10000']\n",
            "09:10:41 - cmdstanpy - INFO - Chain [1] start processing\n",
            "INFO:cmdstanpy:Chain [1] start processing\n"
          ]
        },
        {
          "output_type": "stream",
          "name": "stdout",
          "text": [
            "\n"
          ]
        },
        {
          "output_type": "stream",
          "name": "stderr",
          "text": [
            "09:10:41 - cmdstanpy - INFO - Chain [1] done processing\n",
            "INFO:cmdstanpy:Chain [1] done processing\n"
          ]
        },
        {
          "output_type": "stream",
          "name": "stdout",
          "text": [
            "\r[*********************100%***********************]  1 of 1 completed"
          ]
        },
        {
          "output_type": "stream",
          "name": "stderr",
          "text": [
            "INFO:prophet:Disabling daily seasonality. Run prophet with daily_seasonality=True to override this.\n",
            "DEBUG:cmdstanpy:input tempfile: /tmp/tmpd14zsjuy/uaih2egk.json\n",
            "DEBUG:cmdstanpy:input tempfile: /tmp/tmpd14zsjuy/p6zte35a.json\n",
            "DEBUG:cmdstanpy:idx 0\n",
            "DEBUG:cmdstanpy:running CmdStan, num_threads: None\n",
            "DEBUG:cmdstanpy:CmdStan args: ['/usr/local/lib/python3.10/dist-packages/prophet/stan_model/prophet_model.bin', 'random', 'seed=13974', 'data', 'file=/tmp/tmpd14zsjuy/uaih2egk.json', 'init=/tmp/tmpd14zsjuy/p6zte35a.json', 'output', 'file=/tmp/tmpd14zsjuy/prophet_model7o8mae6j/prophet_model-20230504091042.csv', 'method=optimize', 'algorithm=lbfgs', 'iter=10000']\n",
            "09:10:42 - cmdstanpy - INFO - Chain [1] start processing\n",
            "INFO:cmdstanpy:Chain [1] start processing\n"
          ]
        },
        {
          "output_type": "stream",
          "name": "stdout",
          "text": [
            "\n"
          ]
        },
        {
          "output_type": "stream",
          "name": "stderr",
          "text": [
            "09:10:43 - cmdstanpy - INFO - Chain [1] done processing\n",
            "INFO:cmdstanpy:Chain [1] done processing\n"
          ]
        },
        {
          "output_type": "stream",
          "name": "stdout",
          "text": [
            "\r[*********************100%***********************]  1 of 1 completed"
          ]
        },
        {
          "output_type": "stream",
          "name": "stderr",
          "text": [
            "INFO:prophet:Disabling daily seasonality. Run prophet with daily_seasonality=True to override this.\n",
            "DEBUG:cmdstanpy:input tempfile: /tmp/tmpd14zsjuy/s1m7z2jm.json\n",
            "DEBUG:cmdstanpy:input tempfile: /tmp/tmpd14zsjuy/xuci6z82.json\n",
            "DEBUG:cmdstanpy:idx 0\n",
            "DEBUG:cmdstanpy:running CmdStan, num_threads: None\n"
          ]
        },
        {
          "output_type": "stream",
          "name": "stdout",
          "text": [
            "\n"
          ]
        },
        {
          "output_type": "stream",
          "name": "stderr",
          "text": [
            "DEBUG:cmdstanpy:CmdStan args: ['/usr/local/lib/python3.10/dist-packages/prophet/stan_model/prophet_model.bin', 'random', 'seed=71590', 'data', 'file=/tmp/tmpd14zsjuy/s1m7z2jm.json', 'init=/tmp/tmpd14zsjuy/xuci6z82.json', 'output', 'file=/tmp/tmpd14zsjuy/prophet_modelwqfecz9y/prophet_model-20230504091044.csv', 'method=optimize', 'algorithm=lbfgs', 'iter=10000']\n",
            "09:10:44 - cmdstanpy - INFO - Chain [1] start processing\n",
            "INFO:cmdstanpy:Chain [1] start processing\n",
            "09:10:44 - cmdstanpy - INFO - Chain [1] done processing\n",
            "INFO:cmdstanpy:Chain [1] done processing\n"
          ]
        },
        {
          "output_type": "stream",
          "name": "stdout",
          "text": [
            "[            ds        yhat  yhat_lower  yhat_upper\n",
            "756 2023-05-04  155.259452  148.601557  162.791241\n",
            "757 2023-05-05  154.390530  147.493507  161.892728\n",
            "758 2023-05-08  152.530057  144.994736  159.633705\n",
            "759 2023-05-09  151.686416  144.121608  158.706994\n",
            "760 2023-05-10  151.035769  143.608558  158.347502\n",
            "761 2023-05-11  150.146862  142.972326  157.493523\n",
            "762 2023-05-12  149.490358  142.043565  156.291975\n",
            "763 2023-05-15  148.579846  141.385234  156.277355\n",
            "764 2023-05-16  148.135200  140.648185  155.381663\n",
            "765 2023-05-17  147.911589  140.820980  154.897870,             ds       yhat  yhat_lower  yhat_upper\n",
            "756 2023-05-04  97.355141   92.834143  102.210186\n",
            "757 2023-05-05  96.857025   92.341606  101.743685\n",
            "758 2023-05-08  95.623715   90.846380  100.293814\n",
            "759 2023-05-09  95.184620   90.265428   99.760639\n",
            "760 2023-05-10  95.142434   90.880620   99.506256\n",
            "761 2023-05-11  94.908429   90.120123   99.427405\n",
            "762 2023-05-12  94.632116   90.167181   99.203712\n",
            "763 2023-05-15  94.184411   89.759293   98.696246\n",
            "764 2023-05-16  94.031955   89.345907   98.963315\n",
            "765 2023-05-17  94.280447   89.532357   98.865425,             ds        yhat  yhat_lower  yhat_upper\n",
            "756 2023-05-04  280.652158  270.535339  291.413227\n",
            "757 2023-05-05  279.960144  269.371716  290.315104\n",
            "758 2023-05-08  277.698246  267.066772  288.009721\n",
            "759 2023-05-09  276.638235  266.115078  286.307457\n",
            "760 2023-05-10  276.713249  266.036390  287.035607\n",
            "761 2023-05-11  276.043422  266.618400  286.352431\n",
            "762 2023-05-12  275.620944  265.106321  285.451535\n",
            "763 2023-05-15  274.526697  263.356154  284.756032\n",
            "764 2023-05-16  273.947357  263.841135  284.573984\n",
            "765 2023-05-17  274.532330  264.382983  285.317300,             ds       yhat  yhat_lower  yhat_upper\n",
            "756 2023-05-04  86.609457   77.197161   96.265114\n",
            "757 2023-05-05  84.863795   75.117257   95.116275\n",
            "758 2023-05-08  81.305702   71.506191   91.723629\n",
            "759 2023-05-09  80.132099   71.004994   90.315642\n",
            "760 2023-05-10  79.305883   70.181191   89.294072\n",
            "761 2023-05-11  78.188791   68.124717   87.888813\n",
            "762 2023-05-12  76.970755   67.020199   86.696779\n",
            "763 2023-05-15  75.429349   65.500349   85.103186\n",
            "764 2023-05-16  75.031894   64.687115   84.110788\n",
            "765 2023-05-17  75.010919   65.747336   84.609230,             ds           yhat     yhat_lower     yhat_upper\n",
            "756 2023-05-04  483822.741521  471774.277798  495999.651989\n",
            "757 2023-05-05  483688.989624  472167.237165  495226.562199\n",
            "758 2023-05-08  480854.213252  468564.080823  492975.823847\n",
            "759 2023-05-09  480360.500432  468566.967368  492799.386446\n",
            "760 2023-05-10  479641.056388  469455.479464  491398.643904\n",
            "761 2023-05-11  478899.910496  467353.020646  489843.844373\n",
            "762 2023-05-12  479620.526009  468010.354125  492352.443651\n",
            "763 2023-05-15  479886.695662  467672.895360  491046.921547\n",
            "764 2023-05-16  480522.155195  469098.834761  492159.496061\n",
            "765 2023-05-17  480933.802147  468900.084349  492210.784156,             ds        yhat  yhat_lower  yhat_upper\n",
            "756 2023-05-04  134.129164  128.701854  138.977158\n",
            "757 2023-05-05  134.138913  128.803783  139.201163\n",
            "758 2023-05-08  133.677087  127.754125  138.935076\n",
            "759 2023-05-09  133.613831  128.298301  139.014107\n",
            "760 2023-05-10  133.466352  128.383283  138.924108\n",
            "761 2023-05-11  133.407059  127.938024  138.349469\n",
            "762 2023-05-12  133.692330  128.192102  138.912940\n",
            "763 2023-05-15  134.317680  129.058131  139.487688\n",
            "764 2023-05-16  134.679967  129.231437  139.724180\n",
            "765 2023-05-17  134.974633  129.548193  140.317341,             ds        yhat  yhat_lower  yhat_upper\n",
            "756 2023-05-04  161.227065  157.128124  165.223335\n",
            "757 2023-05-05  161.314959  157.344160  165.146361\n",
            "758 2023-05-08  160.990234  156.857767  164.788368\n",
            "759 2023-05-09  161.015670  157.064287  164.973424\n",
            "760 2023-05-10  161.138326  157.096989  164.938101\n",
            "761 2023-05-11  161.082044  156.956925  164.911231\n",
            "762 2023-05-12  161.265108  157.147460  165.119559\n",
            "763 2023-05-15  161.206087  157.147538  165.075676\n",
            "764 2023-05-16  161.302348  157.483473  165.333004\n",
            "765 2023-05-17  161.481727  157.188798  165.653300,             ds        yhat  yhat_lower  yhat_upper\n",
            "756 2023-05-04  230.290220  221.597916  239.738343\n",
            "757 2023-05-05  230.107190  220.593560  239.102320\n",
            "758 2023-05-08  229.083632  219.870465  237.609320\n",
            "759 2023-05-09  228.529969  219.986153  237.394219\n",
            "760 2023-05-10  228.371891  220.112189  237.149292\n",
            "761 2023-05-11  228.296513  219.977545  237.434314\n",
            "762 2023-05-12  228.498717  220.291701  237.447736\n",
            "763 2023-05-15  228.912867  220.185749  237.890354\n",
            "764 2023-05-16  228.901648  220.450341  237.502045\n",
            "765 2023-05-17  229.299960  220.281151  238.146359,             ds        yhat  yhat_lower  yhat_upper\n",
            "756 2023-05-04  152.446251  148.731664  155.920584\n",
            "757 2023-05-05  152.510162  148.911773  156.047345\n",
            "758 2023-05-08  151.900858  148.486949  155.214130\n",
            "759 2023-05-09  151.481647  148.125149  155.010589\n",
            "760 2023-05-10  151.272020  147.794655  154.741686\n",
            "761 2023-05-11  151.005829  147.773310  154.544402\n",
            "762 2023-05-12  151.107005  147.406184  154.498701\n",
            "763 2023-05-15  150.706556  147.424715  154.373470\n",
            "764 2023-05-16  150.380512  147.023621  154.047441\n",
            "765 2023-05-17  150.270670  146.965908  153.706349]\n"
          ]
        }
      ],
      "source": [
        "import yfinance as yf\n",
        "from datetime import datetime, timedelta\n",
        "import pandas as pd\n",
        "from prophet import Prophet\n",
        "from prophet.plot import plot_plotly, plot_components_plotly\n",
        "\n",
        "def get_historical_data(ticker, start_date, end_date):\n",
        "    stock_data = yf.download(ticker, start=start_date, end=end_date)\n",
        "    return stock_data\n",
        "\n",
        "def train_prophet_model(data):\n",
        "    data = data.reset_index()[['Date', 'Close']].rename({'Date': 'ds', 'Close': 'y'}, axis=1)\n",
        "    model = Prophet()\n",
        "    model.fit(data)\n",
        "    future = model.make_future_dataframe(periods=10, freq='B')\n",
        "    forecast = model.predict(future)\n",
        "    return forecast[['ds', 'yhat', 'yhat_lower', 'yhat_upper']].tail(10)\n",
        "\n",
        "def run_prophet(ticker):\n",
        "    try:\n",
        "        data = get_historical_data(ticker, datetime.now() - timedelta(days=365*3), datetime.now())\n",
        "        forecast = train_prophet_model(data)\n",
        "        return forecast\n",
        "    except Exception as e:\n",
        "        print(f\"Error occurred while fetching data for {ticker}: {str(e)}\")\n",
        "        return None\n",
        "\n",
        "tickers = ['AAPL', 'GOOGL', 'MSFT', 'AMZN', 'BRK-A', 'JPM', 'JNJ', 'V', 'PG']\n",
        "\n",
        "forecasts = []\n",
        "for ticker in tickers:\n",
        "    forecasts.append(run_prophet(ticker))\n",
        "\n",
        "df = pd.concat(forecasts)\n",
        "df['ticker'] = tickers * 10\n",
        "\n",
        "# visualization code\n",
        "#fig = plot_plotly(df, xaxis='ds', yaxis='yhat', color='ticker')\n",
        "print(forecasts)"
      ]
    },
    {
      "cell_type": "code",
      "source": [
        "!pip install yfinance\n",
        "!pip install prophet"
      ],
      "metadata": {
        "colab": {
          "base_uri": "https://localhost:8080/"
        },
        "id": "C6xB1enZyNEN",
        "outputId": "88bbcde8-29c8-4bec-bc8c-f4eadb6f7eab"
      },
      "execution_count": null,
      "outputs": [
        {
          "output_type": "stream",
          "name": "stdout",
          "text": [
            "Looking in indexes: https://pypi.org/simple, https://us-python.pkg.dev/colab-wheels/public/simple/\n",
            "Collecting yfinance\n",
            "  Downloading yfinance-0.2.12-py2.py3-none-any.whl (59 kB)\n",
            "\u001b[2K     \u001b[90m━━━━━━━━━━━━━━━━━━━━━━━━━━━━━━━━━━━━━━━━\u001b[0m \u001b[32m59.2/59.2 KB\u001b[0m \u001b[31m2.0 MB/s\u001b[0m eta \u001b[36m0:00:00\u001b[0m\n",
            "\u001b[?25hCollecting requests>=2.26\n",
            "  Downloading requests-2.28.2-py3-none-any.whl (62 kB)\n",
            "\u001b[2K     \u001b[90m━━━━━━━━━━━━━━━━━━━━━━━━━━━━━━━━━━━━━━━━\u001b[0m \u001b[32m62.8/62.8 KB\u001b[0m \u001b[31m5.4 MB/s\u001b[0m eta \u001b[36m0:00:00\u001b[0m\n",
            "\u001b[?25hCollecting appdirs>=1.4.4\n",
            "  Downloading appdirs-1.4.4-py2.py3-none-any.whl (9.6 kB)\n",
            "Collecting html5lib>=1.1\n",
            "  Downloading html5lib-1.1-py2.py3-none-any.whl (112 kB)\n",
            "\u001b[2K     \u001b[90m━━━━━━━━━━━━━━━━━━━━━━━━━━━━━━━━━━━━━━\u001b[0m \u001b[32m112.2/112.2 KB\u001b[0m \u001b[31m10.6 MB/s\u001b[0m eta \u001b[36m0:00:00\u001b[0m\n",
            "\u001b[?25hRequirement already satisfied: numpy>=1.16.5 in /usr/local/lib/python3.9/dist-packages (from yfinance) (1.22.4)\n",
            "Collecting cryptography>=3.3.2\n",
            "  Downloading cryptography-39.0.2-cp36-abi3-manylinux_2_28_x86_64.whl (4.2 MB)\n",
            "\u001b[2K     \u001b[90m━━━━━━━━━━━━━━━━━━━━━━━━━━━━━━━━━━━━━━━━\u001b[0m \u001b[32m4.2/4.2 MB\u001b[0m \u001b[31m28.8 MB/s\u001b[0m eta \u001b[36m0:00:00\u001b[0m\n",
            "\u001b[?25hCollecting frozendict>=2.3.4\n",
            "  Downloading frozendict-2.3.5-cp39-cp39-manylinux_2_17_x86_64.manylinux2014_x86_64.whl (112 kB)\n",
            "\u001b[2K     \u001b[90m━━━━━━━━━━━━━━━━━━━━━━━━━━━━━━━━━━━━━━\u001b[0m \u001b[32m112.8/112.8 KB\u001b[0m \u001b[31m11.9 MB/s\u001b[0m eta \u001b[36m0:00:00\u001b[0m\n",
            "\u001b[?25hRequirement already satisfied: multitasking>=0.0.7 in /usr/local/lib/python3.9/dist-packages (from yfinance) (0.0.11)\n",
            "Collecting beautifulsoup4>=4.11.1\n",
            "  Downloading beautifulsoup4-4.11.2-py3-none-any.whl (129 kB)\n",
            "\u001b[2K     \u001b[90m━━━━━━━━━━━━━━━━━━━━━━━━━━━━━━━━━━━━━━━\u001b[0m \u001b[32m129.4/129.4 KB\u001b[0m \u001b[31m9.1 MB/s\u001b[0m eta \u001b[36m0:00:00\u001b[0m\n",
            "\u001b[?25hRequirement already satisfied: pandas>=1.3.0 in /usr/local/lib/python3.9/dist-packages (from yfinance) (1.3.5)\n",
            "Requirement already satisfied: pytz>=2022.5 in /usr/local/lib/python3.9/dist-packages (from yfinance) (2022.7.1)\n",
            "Requirement already satisfied: lxml>=4.9.1 in /usr/local/lib/python3.9/dist-packages (from yfinance) (4.9.2)\n",
            "Collecting soupsieve>1.2\n",
            "  Downloading soupsieve-2.4-py3-none-any.whl (37 kB)\n",
            "Requirement already satisfied: cffi>=1.12 in /usr/local/lib/python3.9/dist-packages (from cryptography>=3.3.2->yfinance) (1.15.1)\n",
            "Requirement already satisfied: webencodings in /usr/local/lib/python3.9/dist-packages (from html5lib>=1.1->yfinance) (0.5.1)\n",
            "Requirement already satisfied: six>=1.9 in /usr/local/lib/python3.9/dist-packages (from html5lib>=1.1->yfinance) (1.15.0)\n",
            "Requirement already satisfied: python-dateutil>=2.7.3 in /usr/local/lib/python3.9/dist-packages (from pandas>=1.3.0->yfinance) (2.8.2)\n",
            "Requirement already satisfied: certifi>=2017.4.17 in /usr/local/lib/python3.9/dist-packages (from requests>=2.26->yfinance) (2022.12.7)\n",
            "Requirement already satisfied: idna<4,>=2.5 in /usr/local/lib/python3.9/dist-packages (from requests>=2.26->yfinance) (2.10)\n",
            "Requirement already satisfied: urllib3<1.27,>=1.21.1 in /usr/local/lib/python3.9/dist-packages (from requests>=2.26->yfinance) (1.26.14)\n",
            "Collecting charset-normalizer<4,>=2\n",
            "  Downloading charset_normalizer-3.1.0-cp39-cp39-manylinux_2_17_x86_64.manylinux2014_x86_64.whl (199 kB)\n",
            "\u001b[2K     \u001b[90m━━━━━━━━━━━━━━━━━━━━━━━━━━━━━━━━━━━━━━\u001b[0m \u001b[32m199.2/199.2 KB\u001b[0m \u001b[31m17.4 MB/s\u001b[0m eta \u001b[36m0:00:00\u001b[0m\n",
            "\u001b[?25hRequirement already satisfied: pycparser in /usr/local/lib/python3.9/dist-packages (from cffi>=1.12->cryptography>=3.3.2->yfinance) (2.21)\n",
            "Installing collected packages: appdirs, soupsieve, html5lib, frozendict, charset-normalizer, requests, cryptography, beautifulsoup4, yfinance\n",
            "  Attempting uninstall: html5lib\n",
            "    Found existing installation: html5lib 1.0.1\n",
            "    Uninstalling html5lib-1.0.1:\n",
            "      Successfully uninstalled html5lib-1.0.1\n",
            "  Attempting uninstall: requests\n",
            "    Found existing installation: requests 2.25.1\n",
            "    Uninstalling requests-2.25.1:\n",
            "      Successfully uninstalled requests-2.25.1\n",
            "  Attempting uninstall: beautifulsoup4\n",
            "    Found existing installation: beautifulsoup4 4.6.3\n",
            "    Uninstalling beautifulsoup4-4.6.3:\n",
            "      Successfully uninstalled beautifulsoup4-4.6.3\n",
            "Successfully installed appdirs-1.4.4 beautifulsoup4-4.11.2 charset-normalizer-3.1.0 cryptography-39.0.2 frozendict-2.3.5 html5lib-1.1 requests-2.28.2 soupsieve-2.4 yfinance-0.2.12\n",
            "Looking in indexes: https://pypi.org/simple, https://us-python.pkg.dev/colab-wheels/public/simple/\n",
            "Requirement already satisfied: prophet in /usr/local/lib/python3.9/dist-packages (1.1.2)\n",
            "Requirement already satisfied: LunarCalendar>=0.0.9 in /usr/local/lib/python3.9/dist-packages (from prophet) (0.0.9)\n",
            "Requirement already satisfied: pandas>=1.0.4 in /usr/local/lib/python3.9/dist-packages (from prophet) (1.3.5)\n",
            "Requirement already satisfied: python-dateutil>=2.8.0 in /usr/local/lib/python3.9/dist-packages (from prophet) (2.8.2)\n",
            "Requirement already satisfied: tqdm>=4.36.1 in /usr/local/lib/python3.9/dist-packages (from prophet) (4.65.0)\n",
            "Requirement already satisfied: holidays>=0.14.2 in /usr/local/lib/python3.9/dist-packages (from prophet) (0.21)\n",
            "Requirement already satisfied: matplotlib>=2.0.0 in /usr/local/lib/python3.9/dist-packages (from prophet) (3.5.3)\n",
            "Requirement already satisfied: cmdstanpy>=1.0.4 in /usr/local/lib/python3.9/dist-packages (from prophet) (1.1.0)\n",
            "Requirement already satisfied: numpy>=1.15.4 in /usr/local/lib/python3.9/dist-packages (from prophet) (1.22.4)\n",
            "Requirement already satisfied: convertdate>=2.1.2 in /usr/local/lib/python3.9/dist-packages (from prophet) (2.4.0)\n",
            "Requirement already satisfied: pymeeus<=1,>=0.3.13 in /usr/local/lib/python3.9/dist-packages (from convertdate>=2.1.2->prophet) (0.5.12)\n",
            "Requirement already satisfied: korean-lunar-calendar in /usr/local/lib/python3.9/dist-packages (from holidays>=0.14.2->prophet) (0.3.1)\n",
            "Requirement already satisfied: hijri-converter in /usr/local/lib/python3.9/dist-packages (from holidays>=0.14.2->prophet) (2.2.4)\n",
            "Requirement already satisfied: ephem>=3.7.5.3 in /usr/local/lib/python3.9/dist-packages (from LunarCalendar>=0.0.9->prophet) (4.1.4)\n",
            "Requirement already satisfied: pytz in /usr/local/lib/python3.9/dist-packages (from LunarCalendar>=0.0.9->prophet) (2022.7.1)\n",
            "Requirement already satisfied: cycler>=0.10 in /usr/local/lib/python3.9/dist-packages (from matplotlib>=2.0.0->prophet) (0.11.0)\n",
            "Requirement already satisfied: pyparsing>=2.2.1 in /usr/local/lib/python3.9/dist-packages (from matplotlib>=2.0.0->prophet) (3.0.9)\n",
            "Requirement already satisfied: pillow>=6.2.0 in /usr/local/lib/python3.9/dist-packages (from matplotlib>=2.0.0->prophet) (8.4.0)\n",
            "Requirement already satisfied: kiwisolver>=1.0.1 in /usr/local/lib/python3.9/dist-packages (from matplotlib>=2.0.0->prophet) (1.4.4)\n",
            "Requirement already satisfied: packaging>=20.0 in /usr/local/lib/python3.9/dist-packages (from matplotlib>=2.0.0->prophet) (23.0)\n",
            "Requirement already satisfied: fonttools>=4.22.0 in /usr/local/lib/python3.9/dist-packages (from matplotlib>=2.0.0->prophet) (4.39.0)\n",
            "Requirement already satisfied: six>=1.5 in /usr/local/lib/python3.9/dist-packages (from python-dateutil>=2.8.0->prophet) (1.15.0)\n"
          ]
        }
      ]
    },
    {
      "cell_type": "code",
      "source": [
        "import pandas as pd\n",
        "import yfinance as yf\n",
        "from prophet import Prophet\n",
        "\n",
        "# Set the start and end dates for the data you want to retrieve\n",
        "start_date = '2018-01-01'\n",
        "end_date = '2023-03-11'\n",
        "\n",
        "# Retrieve the historical stock price data from Yahoo Finance for AAPL\n",
        "data = yf.download('AAPL', start=start_date, end=end_date)\n",
        "\n",
        "# Create a dataframe with the date and closing price columns, as required by Prophet\n",
        "df = pd.DataFrame({'ds': data.index, 'y': data['Close']})\n",
        "\n",
        "# Create and train a Prophet model on the historical data\n",
        "model = Prophet()\n",
        "model.fit(df)\n",
        "\n",
        "# Create a dataframe with the next 10 days of dates for which we want to forecast stock prices\n",
        "future = model.make_future_dataframe(periods=10, freq='D')\n",
        "\n",
        "# Generate a forecast for the next 10 days\n",
        "forecast = model.predict(future.tail(10))\n",
        "\n",
        "# Print the forecast\n",
        "print(forecast[['ds', 'yhat', 'yhat_lower', 'yhat_upper']].tail(10))\n"
      ],
      "metadata": {
        "colab": {
          "base_uri": "https://localhost:8080/"
        },
        "id": "YqJLqU1KyL_l",
        "outputId": "d053ff6b-982a-4d02-9912-e32771a89059"
      },
      "execution_count": 9,
      "outputs": [
        {
          "output_type": "stream",
          "name": "stdout",
          "text": [
            "\r[*********************100%***********************]  1 of 1 completed"
          ]
        },
        {
          "output_type": "stream",
          "name": "stderr",
          "text": [
            "INFO:prophet:Disabling daily seasonality. Run prophet with daily_seasonality=True to override this.\n",
            "DEBUG:cmdstanpy:input tempfile: /tmp/tmpd14zsjuy/ni05m1_6.json\n",
            "DEBUG:cmdstanpy:input tempfile: /tmp/tmpd14zsjuy/he9xl4o_.json\n",
            "DEBUG:cmdstanpy:idx 0\n",
            "DEBUG:cmdstanpy:running CmdStan, num_threads: None\n",
            "DEBUG:cmdstanpy:CmdStan args: ['/usr/local/lib/python3.10/dist-packages/prophet/stan_model/prophet_model.bin', 'random', 'seed=83509', 'data', 'file=/tmp/tmpd14zsjuy/ni05m1_6.json', 'init=/tmp/tmpd14zsjuy/he9xl4o_.json', 'output', 'file=/tmp/tmpd14zsjuy/prophet_model5nidcme_/prophet_model-20230504091157.csv', 'method=optimize', 'algorithm=lbfgs', 'iter=10000']\n",
            "09:11:57 - cmdstanpy - INFO - Chain [1] start processing\n",
            "INFO:cmdstanpy:Chain [1] start processing\n"
          ]
        },
        {
          "output_type": "stream",
          "name": "stdout",
          "text": [
            "\n"
          ]
        },
        {
          "output_type": "stream",
          "name": "stderr",
          "text": [
            "09:11:57 - cmdstanpy - INFO - Chain [1] done processing\n",
            "INFO:cmdstanpy:Chain [1] done processing\n"
          ]
        },
        {
          "output_type": "stream",
          "name": "stdout",
          "text": [
            "          ds        yhat  yhat_lower  yhat_upper\n",
            "0 2023-03-11  135.110650  127.423283  143.305365\n",
            "1 2023-03-12  134.853419  126.754876  142.949671\n",
            "2 2023-03-13  133.138867  125.221608  141.011443\n",
            "3 2023-03-14  132.931333  125.301206  140.860930\n",
            "4 2023-03-15  132.784658  125.416944  141.247579\n",
            "5 2023-03-16  132.453985  124.503445  140.393595\n",
            "6 2023-03-17  132.191852  124.464179  139.953231\n",
            "7 2023-03-18  133.825305  125.781711  141.967417\n",
            "8 2023-03-19  133.732065  126.217672  141.811640\n",
            "9 2023-03-20  132.175378  124.430170  139.862908\n"
          ]
        }
      ]
    },
    {
      "cell_type": "code",
      "source": [
        "import pandas as pd\n",
        "import yfinance as yf\n",
        "from prophet import Prophet\n",
        "from concurrent.futures import ThreadPoolExecutor\n",
        "\n",
        "# Define a function to retrieve data, train a Prophet model, and generate a forecast for a single company\n",
        "def process_company(ticker):\n",
        "    try:\n",
        "        # Set the start and end dates for the data you want to retrieve\n",
        "        start_date = '2018-01-01'\n",
        "        end_date = '2023-03-11'\n",
        "\n",
        "        # Retrieve the historical stock price data from Yahoo Finance for the current company\n",
        "        data = yf.download(ticker, start=start_date, end=end_date)\n",
        "\n",
        "        # Create a dataframe with the date and closing price columns, as required by Prophet\n",
        "        df = pd.DataFrame({'ds': data.index, 'y': data['Close']})\n",
        "\n",
        "        # Create and train a Prophet model on the historical data\n",
        "        model = Prophet()\n",
        "        model.fit(df)\n",
        "\n",
        "        # Create a dataframe with the next 10 days of dates for which we want to forecast stock prices\n",
        "        future = model.make_future_dataframe(periods=10, freq='D')\n",
        "\n",
        "        # Generate a forecast for the next 10 days\n",
        "        forecast = model.predict(future.tail(10))\n",
        "\n",
        "        # Return a tuple containing the ticker symbol and the forecast dataframe\n",
        "        return (ticker, forecast[['ds', 'yhat', 'yhat_lower', 'yhat_upper']].tail(10))\n",
        "    except Exception as e:\n",
        "        print(f\"Error processing {ticker}: {e}\")\n",
        "        return None\n",
        "\n",
        "# Define a list of 10 company ticker symbols to analyze\n",
        "tickers = ['AAPL', 'GOOGL', 'AMZN', 'META', 'NFLX', 'TSLA', 'MSFT', 'JPM', 'V', 'PYPL']\n",
        "\n",
        "# Create a thread pool executor with 10 worker threads\n",
        "executor = ThreadPoolExecutor(max_workers=10)\n",
        "\n",
        "# Submit a task to the executor for each company, passing in the company ticker symbol as a parameter\n",
        "future_results = [executor.submit(process_company, ticker) for ticker in tickers]\n",
        "\n",
        "# Wait for all tasks to complete and retrieve the results\n",
        "results = [f.result() for f in future_results if f.result() is not None]\n",
        "\n",
        "# Print the forecast for each company\n",
        "for result in results:\n",
        "    ticker = result[0]\n",
        "    forecast = result[1]\n",
        "    print(f\"Forecast for {ticker}:\\n{forecast}\\n\")\n"
      ],
      "metadata": {
        "colab": {
          "base_uri": "https://localhost:8080/"
        },
        "id": "MnYEZJL4zd_i",
        "outputId": "3a6d261c-2e9c-40e0-a124-212756e4c1a2"
      },
      "execution_count": 11,
      "outputs": [
        {
          "output_type": "stream",
          "name": "stdout",
          "text": [
            "[*********************100%***********************]  1 of 1 completed\n",
            "\n",
            "Error processing GOOGL: 'GOOGL'\n",
            "Error processing META: 'META'\n",
            "[*********************100%***********************]  1 of 1 completed\n",
            "Error processing TSLA: 'TSLA'\n",
            "[*********************100%***********************]  1 of 1 completed"
          ]
        },
        {
          "output_type": "stream",
          "name": "stderr",
          "text": [
            "INFO:prophet:Disabling daily seasonality. Run prophet with daily_seasonality=True to override this.\n",
            "DEBUG:cmdstanpy:input tempfile: /tmp/tmpd14zsjuy/tzbeyvyw.json\n"
          ]
        },
        {
          "output_type": "stream",
          "name": "stdout",
          "text": [
            "\n",
            "Error processing NFLX: 'NFLX'\n",
            "\n",
            "\n",
            "Error processing AMZN: 'AMZN'\n",
            "\n",
            "Error processing V: 'V'\n",
            "\n",
            "Error processing PYPL: 'PYPL'\n",
            "\n",
            "Error processing MSFT: 'MSFT'\n",
            "\n",
            "Error processing JPM: 'JPM'\n"
          ]
        },
        {
          "output_type": "stream",
          "name": "stderr",
          "text": [
            "DEBUG:cmdstanpy:input tempfile: /tmp/tmpd14zsjuy/qfljrdeu.json\n",
            "DEBUG:cmdstanpy:idx 0\n",
            "DEBUG:cmdstanpy:running CmdStan, num_threads: None\n",
            "DEBUG:cmdstanpy:CmdStan args: ['/usr/local/lib/python3.10/dist-packages/prophet/stan_model/prophet_model.bin', 'random', 'seed=26514', 'data', 'file=/tmp/tmpd14zsjuy/tzbeyvyw.json', 'init=/tmp/tmpd14zsjuy/qfljrdeu.json', 'output', 'file=/tmp/tmpd14zsjuy/prophet_modeldzmov81_/prophet_model-20230504091258.csv', 'method=optimize', 'algorithm=lbfgs', 'iter=10000']\n",
            "09:12:58 - cmdstanpy - INFO - Chain [1] start processing\n",
            "INFO:cmdstanpy:Chain [1] start processing\n",
            "09:12:59 - cmdstanpy - INFO - Chain [1] done processing\n",
            "INFO:cmdstanpy:Chain [1] done processing\n"
          ]
        },
        {
          "output_type": "stream",
          "name": "stdout",
          "text": [
            "Forecast for AAPL:\n",
            "          ds        yhat  yhat_lower  yhat_upper\n",
            "0 2023-03-11  135.110650  127.023662  142.711787\n",
            "1 2023-03-12  134.853419  126.739807  142.273374\n",
            "2 2023-03-13  133.138867  125.482571  141.139298\n",
            "3 2023-03-14  132.931333  125.278437  141.447734\n",
            "4 2023-03-15  132.784658  124.336511  140.622135\n",
            "5 2023-03-16  132.453985  124.393783  140.142229\n",
            "6 2023-03-17  132.191852  124.024746  140.681135\n",
            "7 2023-03-18  133.825305  126.090650  141.796104\n",
            "8 2023-03-19  133.732065  125.119653  141.567046\n",
            "9 2023-03-20  132.175378  125.234890  140.090389\n",
            "\n"
          ]
        }
      ]
    },
    {
      "cell_type": "code",
      "source": [
        "import yfinance as yf\n",
        "\n",
        "data = yf.download('GOOGL', start='2018-01-01', end='2023-03-11')\n",
        "print(data)\n"
      ],
      "metadata": {
        "colab": {
          "base_uri": "https://localhost:8080/"
        },
        "id": "zyeHkid-0OBg",
        "outputId": "d2f8f530-17d9-47a2-eeba-e23a916fee27"
      },
      "execution_count": null,
      "outputs": [
        {
          "output_type": "stream",
          "name": "stdout",
          "text": [
            "\r[*********************100%***********************]  1 of 1 completed\n",
            "                 Open       High        Low      Close  Adj Close    Volume\n",
            "Date                                                                       \n",
            "2018-01-02  52.651001  53.799000  52.651001  53.660500  53.660500  31766000\n",
            "2018-01-03  53.696499  54.805000  53.671501  54.576000  54.576000  31318000\n",
            "2018-01-04  54.854500  55.203999  54.713001  54.787998  54.787998  26052000\n",
            "2018-01-05  55.172501  55.679001  55.090000  55.514500  55.514500  30250000\n",
            "2018-01-08  55.549999  55.958000  55.500000  55.710499  55.710499  24644000\n",
            "...               ...        ...        ...        ...        ...       ...\n",
            "2023-03-06  94.019997  95.970001  94.000000  95.129997  95.129997  32639300\n",
            "2023-03-07  94.980003  95.669998  93.529999  93.860001  93.860001  27835500\n",
            "2023-03-08  94.120003  95.959999  94.000000  94.250000  94.250000  34103300\n",
            "2023-03-09  94.050003  95.529999  91.900002  92.320000  92.320000  28813500\n",
            "2023-03-10  92.169998  92.790001  90.400002  90.629997  90.629997  35927000\n",
            "\n",
            "[1306 rows x 6 columns]\n"
          ]
        }
      ]
    },
    {
      "cell_type": "markdown",
      "source": [
        "# STARTS HERE"
      ],
      "metadata": {
        "id": "WXPJMA0QwVLY"
      }
    },
    {
      "cell_type": "code",
      "source": [
        "!pip install --upgrade pip"
      ],
      "metadata": {
        "colab": {
          "base_uri": "https://localhost:8080/"
        },
        "id": "zyZa94y8x4w9",
        "outputId": "c12b4e0e-1d62-4283-d283-4bd82f497c3c"
      },
      "execution_count": 3,
      "outputs": [
        {
          "output_type": "stream",
          "name": "stdout",
          "text": [
            "Looking in indexes: https://pypi.org/simple, https://us-python.pkg.dev/colab-wheels/public/simple/\n",
            "Requirement already satisfied: pip in /usr/local/lib/python3.10/dist-packages (23.0.1)\n",
            "Collecting pip\n",
            "  Downloading pip-23.1.2-py3-none-any.whl (2.1 MB)\n",
            "\u001b[2K     \u001b[90m━━━━━━━━━━━━━━━━━━━━━━━━━━━━━━━━━━━━━━━━\u001b[0m \u001b[32m2.1/2.1 MB\u001b[0m \u001b[31m27.1 MB/s\u001b[0m eta \u001b[36m0:00:00\u001b[0m\n",
            "\u001b[?25hInstalling collected packages: pip\n",
            "  Attempting uninstall: pip\n",
            "    Found existing installation: pip 23.0.1\n",
            "    Uninstalling pip-23.0.1:\n",
            "      Successfully uninstalled pip-23.0.1\n",
            "Successfully installed pip-23.1.2\n"
          ]
        }
      ]
    },
    {
      "cell_type": "code",
      "source": [
        "!pip install yfinance\n",
        "!pip install prophet"
      ],
      "metadata": {
        "colab": {
          "base_uri": "https://localhost:8080/"
        },
        "id": "uBXVBQxpw6XT",
        "outputId": "c6af7db2-0811-46e2-997b-5927d64e4c10"
      },
      "execution_count": 5,
      "outputs": [
        {
          "output_type": "stream",
          "name": "stdout",
          "text": [
            "Looking in indexes: https://pypi.org/simple, https://us-python.pkg.dev/colab-wheels/public/simple/\n",
            "Requirement already satisfied: yfinance in /usr/local/lib/python3.10/dist-packages (0.2.18)\n",
            "Requirement already satisfied: pandas>=1.3.0 in /usr/local/lib/python3.10/dist-packages (from yfinance) (1.5.3)\n",
            "Requirement already satisfied: numpy>=1.16.5 in /usr/local/lib/python3.10/dist-packages (from yfinance) (1.22.4)\n",
            "Requirement already satisfied: requests>=2.26 in /usr/local/lib/python3.10/dist-packages (from yfinance) (2.27.1)\n",
            "Requirement already satisfied: multitasking>=0.0.7 in /usr/local/lib/python3.10/dist-packages (from yfinance) (0.0.11)\n",
            "Requirement already satisfied: lxml>=4.9.1 in /usr/local/lib/python3.10/dist-packages (from yfinance) (4.9.2)\n",
            "Requirement already satisfied: appdirs>=1.4.4 in /usr/local/lib/python3.10/dist-packages (from yfinance) (1.4.4)\n",
            "Requirement already satisfied: pytz>=2022.5 in /usr/local/lib/python3.10/dist-packages (from yfinance) (2022.7.1)\n",
            "Requirement already satisfied: frozendict>=2.3.4 in /usr/local/lib/python3.10/dist-packages (from yfinance) (2.3.7)\n",
            "Requirement already satisfied: cryptography>=3.3.2 in /usr/local/lib/python3.10/dist-packages (from yfinance) (40.0.2)\n",
            "Requirement already satisfied: beautifulsoup4>=4.11.1 in /usr/local/lib/python3.10/dist-packages (from yfinance) (4.11.2)\n",
            "Requirement already satisfied: html5lib>=1.1 in /usr/local/lib/python3.10/dist-packages (from yfinance) (1.1)\n",
            "Requirement already satisfied: soupsieve>1.2 in /usr/local/lib/python3.10/dist-packages (from beautifulsoup4>=4.11.1->yfinance) (2.4.1)\n",
            "Requirement already satisfied: cffi>=1.12 in /usr/local/lib/python3.10/dist-packages (from cryptography>=3.3.2->yfinance) (1.15.1)\n",
            "Requirement already satisfied: six>=1.9 in /usr/local/lib/python3.10/dist-packages (from html5lib>=1.1->yfinance) (1.16.0)\n",
            "Requirement already satisfied: webencodings in /usr/local/lib/python3.10/dist-packages (from html5lib>=1.1->yfinance) (0.5.1)\n",
            "Requirement already satisfied: python-dateutil>=2.8.1 in /usr/local/lib/python3.10/dist-packages (from pandas>=1.3.0->yfinance) (2.8.2)\n",
            "Requirement already satisfied: urllib3<1.27,>=1.21.1 in /usr/local/lib/python3.10/dist-packages (from requests>=2.26->yfinance) (1.26.15)\n",
            "Requirement already satisfied: certifi>=2017.4.17 in /usr/local/lib/python3.10/dist-packages (from requests>=2.26->yfinance) (2022.12.7)\n",
            "Requirement already satisfied: charset-normalizer~=2.0.0 in /usr/local/lib/python3.10/dist-packages (from requests>=2.26->yfinance) (2.0.12)\n",
            "Requirement already satisfied: idna<4,>=2.5 in /usr/local/lib/python3.10/dist-packages (from requests>=2.26->yfinance) (3.4)\n",
            "Requirement already satisfied: pycparser in /usr/local/lib/python3.10/dist-packages (from cffi>=1.12->cryptography>=3.3.2->yfinance) (2.21)\n",
            "\u001b[33mWARNING: Running pip as the 'root' user can result in broken permissions and conflicting behaviour with the system package manager. It is recommended to use a virtual environment instead: https://pip.pypa.io/warnings/venv\u001b[0m\u001b[33m\n",
            "\u001b[0mLooking in indexes: https://pypi.org/simple, https://us-python.pkg.dev/colab-wheels/public/simple/\n",
            "Requirement already satisfied: prophet in /usr/local/lib/python3.10/dist-packages (1.1.2)\n",
            "Collecting cmdstanpy>=1.0.4 (from prophet)\n",
            "  Downloading cmdstanpy-1.1.0-py3-none-any.whl (83 kB)\n",
            "\u001b[2K     \u001b[90m━━━━━━━━━━━━━━━━━━━━━━━━━━━━━━━━━━━━━━━━\u001b[0m \u001b[32m83.2/83.2 kB\u001b[0m \u001b[31m3.6 MB/s\u001b[0m eta \u001b[36m0:00:00\u001b[0m\n",
            "\u001b[?25hRequirement already satisfied: numpy>=1.15.4 in /usr/local/lib/python3.10/dist-packages (from prophet) (1.22.4)\n",
            "Requirement already satisfied: matplotlib>=2.0.0 in /usr/local/lib/python3.10/dist-packages (from prophet) (3.7.1)\n",
            "Requirement already satisfied: pandas>=1.0.4 in /usr/local/lib/python3.10/dist-packages (from prophet) (1.5.3)\n",
            "Requirement already satisfied: LunarCalendar>=0.0.9 in /usr/local/lib/python3.10/dist-packages (from prophet) (0.0.9)\n",
            "Requirement already satisfied: convertdate>=2.1.2 in /usr/local/lib/python3.10/dist-packages (from prophet) (2.4.0)\n",
            "Requirement already satisfied: holidays>=0.14.2 in /usr/local/lib/python3.10/dist-packages (from prophet) (0.23)\n",
            "Requirement already satisfied: python-dateutil>=2.8.0 in /usr/local/lib/python3.10/dist-packages (from prophet) (2.8.2)\n",
            "Requirement already satisfied: tqdm>=4.36.1 in /usr/local/lib/python3.10/dist-packages (from prophet) (4.65.0)\n",
            "Requirement already satisfied: pymeeus<=1,>=0.3.13 in /usr/local/lib/python3.10/dist-packages (from convertdate>=2.1.2->prophet) (0.5.12)\n",
            "Requirement already satisfied: hijri-converter in /usr/local/lib/python3.10/dist-packages (from holidays>=0.14.2->prophet) (2.3.1)\n",
            "Requirement already satisfied: korean-lunar-calendar in /usr/local/lib/python3.10/dist-packages (from holidays>=0.14.2->prophet) (0.3.1)\n",
            "Requirement already satisfied: ephem>=3.7.5.3 in /usr/local/lib/python3.10/dist-packages (from LunarCalendar>=0.0.9->prophet) (4.1.4)\n",
            "Requirement already satisfied: pytz in /usr/local/lib/python3.10/dist-packages (from LunarCalendar>=0.0.9->prophet) (2022.7.1)\n",
            "Requirement already satisfied: contourpy>=1.0.1 in /usr/local/lib/python3.10/dist-packages (from matplotlib>=2.0.0->prophet) (1.0.7)\n",
            "Requirement already satisfied: cycler>=0.10 in /usr/local/lib/python3.10/dist-packages (from matplotlib>=2.0.0->prophet) (0.11.0)\n",
            "Requirement already satisfied: fonttools>=4.22.0 in /usr/local/lib/python3.10/dist-packages (from matplotlib>=2.0.0->prophet) (4.39.3)\n",
            "Requirement already satisfied: kiwisolver>=1.0.1 in /usr/local/lib/python3.10/dist-packages (from matplotlib>=2.0.0->prophet) (1.4.4)\n",
            "Requirement already satisfied: packaging>=20.0 in /usr/local/lib/python3.10/dist-packages (from matplotlib>=2.0.0->prophet) (23.1)\n",
            "Requirement already satisfied: pillow>=6.2.0 in /usr/local/lib/python3.10/dist-packages (from matplotlib>=2.0.0->prophet) (8.4.0)\n",
            "Requirement already satisfied: pyparsing>=2.3.1 in /usr/local/lib/python3.10/dist-packages (from matplotlib>=2.0.0->prophet) (3.0.9)\n",
            "Requirement already satisfied: six>=1.5 in /usr/local/lib/python3.10/dist-packages (from python-dateutil>=2.8.0->prophet) (1.16.0)\n",
            "Installing collected packages: cmdstanpy\n",
            "  Attempting uninstall: cmdstanpy\n",
            "    Found existing installation: cmdstanpy 0.9.5\n",
            "    Uninstalling cmdstanpy-0.9.5:\n",
            "      Successfully uninstalled cmdstanpy-0.9.5\n",
            "Successfully installed cmdstanpy-1.1.0\n",
            "\u001b[33mWARNING: Running pip as the 'root' user can result in broken permissions and conflicting behaviour with the system package manager. It is recommended to use a virtual environment instead: https://pip.pypa.io/warnings/venv\u001b[0m\u001b[33m\n",
            "\u001b[0m"
          ]
        }
      ]
    },
    {
      "cell_type": "code",
      "source": [
        "import yfinance as yf\n",
        "from prophet import Prophet\n",
        "import pandas as pd\n",
        "from datetime import datetime\n",
        "from threading import Thread, Lock\n",
        "import plotly.graph_objs as go\n",
        "from plotly.subplots import make_subplots\n",
        "\n",
        "# List of companies to analyze\n",
        "companies = ['AAPL', 'GOOG', 'TSLA', 'MSFT', 'AMZN', 'FB', 'JNJ', 'JPM', 'V', 'PG']\n",
        "\n",
        "# Download historical data for each company\n",
        "def download_data(company):\n",
        "    data = yf.download(company, period='max')\n",
        "    data = data.reset_index()[['Date', 'Close']]\n",
        "    data = data.rename(columns={'Date': 'ds', 'Close': 'y'})\n",
        "    return data\n",
        "\n",
        "# Run the download_data function in parallel\n",
        "threads = []\n",
        "lock = Lock()\n",
        "results = {}\n",
        "\n",
        "for company in companies:\n",
        "    thread = Thread(target=lambda c: results.update({c: download_data(c)}), args=(company,))\n",
        "    threads.append(thread)\n",
        "    thread.start()\n",
        "\n",
        "for thread in threads:\n",
        "    thread.join()\n",
        "\n",
        "# Combine all data into one DataFrame\n",
        "df = pd.concat(results)\n",
        "\n",
        "# Create a Prophet model for each company\n",
        "models = {}\n",
        "\n",
        "for company in companies:\n",
        "    model = Prophet(daily_seasonality=True)\n",
        "    model.fit(results[company])\n",
        "    models[company] = model\n",
        "\n",
        "# Predict future prices for each company\n",
        "future_prices = {}\n",
        "\n",
        "for company in companies:\n",
        "    future_prices[company] = models[company].make_future_dataframe(periods=365, freq='D')\n",
        "    future_prices[company] = models[company].predict(future_prices[company])\n",
        "\n",
        "# Plot predicted prices for each company\n",
        "fig = make_subplots(rows=len(companies), cols=1, shared_xaxes=True, vertical_spacing=0.03)\n",
        "\n",
        "for i, company in enumerate(companies):\n",
        "    trace1 = go.Scatter(x=df.loc[company]['ds'], y=df.loc[company]['y'], name='Actual')\n",
        "    trace2 = go.Scatter(x=future_prices[company]['ds'], y=future_prices[company]['yhat'], name='Predicted')\n",
        "    fig.add_trace(trace1, row=i+1, col=1)\n",
        "    fig.add_trace(trace2, row=i+1, col=1)\n",
        "\n",
        "fig.update_layout(height=len(companies)*300, title_text='Predicted Closing Prices for Select Companies')\n",
        "fig.show()\n"
      ],
      "metadata": {
        "id": "hmqoR7WQ0Osr",
        "colab": {
          "base_uri": "https://localhost:8080/",
          "height": 1000
        },
        "outputId": "e8966919-cb7e-4c3a-dbbe-6b3a5b629174"
      },
      "execution_count": 6,
      "outputs": [
        {
          "output_type": "stream",
          "name": "stdout",
          "text": [
            "[*********************100%***********************]  1 of 1 completed"
          ]
        },
        {
          "output_type": "stream",
          "name": "stderr",
          "text": [
            "Exception in thread Thread-10 (<lambda>):\n",
            "Traceback (most recent call last):\n",
            "  File \"/usr/lib/python3.10/threading.py\", line 1016, in _bootstrap_inner\n",
            "    self.run()\n",
            "  File \"/usr/lib/python3.10/threading.py\", line 953, in run\n",
            "    self._target(*self._args, **self._kwargs)\n",
            "  File \"<ipython-input-6-215afabfd2db>\", line 25, in <lambda>\n",
            "  File \"<ipython-input-6-215afabfd2db>\", line 14, in download_data\n",
            "  File \"/usr/local/lib/python3.10/dist-packages/yfinance/multi.py\", line 163, in download\n",
            "    return shared._DFS[shared._ISINS.get(ticker, ticker)]\n",
            "KeyError: 'AAPL'\n",
            "Exception in thread Thread-26 (<lambda>):\n",
            "Traceback (most recent call last):\n",
            "  File \"/usr/lib/python3.10/threading.py\", line 1016, in _bootstrap_inner\n",
            "    self.run()\n",
            "  File \"/usr/lib/python3.10/threading.py\", line 953, in run\n",
            "    self._target(*self._args, **self._kwargs)\n",
            "  File \"<ipython-input-6-215afabfd2db>\", line 25, in <lambda>\n",
            "  File \"<ipython-input-6-215afabfd2db>\", line 14, in download_data\n",
            "  File \"/usr/local/lib/python3.10/dist-packages/yfinance/multi.py\", line 163, in download\n",
            "    return shared._DFS[shared._ISINS.get(ticker, ticker)]\n",
            "KeyError: 'V'\n",
            "Exception in thread Thread-20 (<lambda>):\n",
            "Traceback (most recent call last):\n",
            "  File \"/usr/lib/python3.10/threading.py\", line 1016, in _bootstrap_inner\n",
            "    self.run()\n",
            "  File \"/usr/lib/python3.10/threading.py\", line 953, in run\n",
            "    self._target(*self._args, **self._kwargs)\n",
            "  File \"<ipython-input-6-215afabfd2db>\", line 25, in <lambda>\n",
            "  File \"<ipython-input-6-215afabfd2db>\", line 14, in download_data\n",
            "  File \"/usr/local/lib/python3.10/dist-packages/yfinance/multi.py\", line 163, in download\n",
            "    return shared._DFS[shared._ISINS.get(ticker, ticker)]\n",
            "KeyError: 'FB'\n",
            "Exception in thread Thread-22 (<lambda>):\n",
            "Traceback (most recent call last):\n",
            "  File \"/usr/lib/python3.10/threading.py\", line 1016, in _bootstrap_inner\n",
            "    self.run()\n",
            "  File \"/usr/lib/python3.10/threading.py\", line 953, in run\n",
            "    self._target(*self._args, **self._kwargs)\n",
            "  File \"<ipython-input-6-215afabfd2db>\", line 25, in <lambda>\n",
            "  File \"<ipython-input-6-215afabfd2db>\", line 14, in download_data\n",
            "  File \"/usr/local/lib/python3.10/dist-packages/yfinance/multi.py\", line 163, in download\n",
            "    return shared._DFS[shared._ISINS.get(ticker, ticker)]\n",
            "KeyError: 'JNJ'\n",
            "Exception in thread Thread-24 (<lambda>):\n",
            "Traceback (most recent call last):\n",
            "  File \"/usr/lib/python3.10/threading.py\", line 1016, in _bootstrap_inner\n",
            "    self.run()\n",
            "  File \"/usr/lib/python3.10/threading.py\", line 953, in run\n",
            "    self._target(*self._args, **self._kwargs)\n",
            "  File \"<ipython-input-6-215afabfd2db>\", line 25, in <lambda>\n",
            "  File \"<ipython-input-6-215afabfd2db>\", line 14, in download_data\n",
            "  File \"/usr/local/lib/python3.10/dist-packages/yfinance/multi.py\", line 163, in download\n",
            "    return shared._DFS[shared._ISINS.get(ticker, ticker)]\n",
            "KeyError: 'JPM'\n",
            "Exception in thread Thread-28 (<lambda>):\n",
            "Traceback (most recent call last):\n",
            "  File \"/usr/lib/python3.10/threading.py\", line 1016, in _bootstrap_inner\n",
            "    self.run()\n",
            "  File \"/usr/lib/python3.10/threading.py\", line 953, in run\n",
            "    self._target(*self._args, **self._kwargs)\n",
            "  File \"<ipython-input-6-215afabfd2db>\", line 25, in <lambda>\n",
            "  File \"<ipython-input-6-215afabfd2db>\", line 14, in download_data\n",
            "  File \"/usr/local/lib/python3.10/dist-packages/yfinance/multi.py\", line 163, in download\n",
            "    return shared._DFS[shared._ISINS.get(ticker, ticker)]\n",
            "KeyError: 'PG'\n",
            "Exception in thread Thread-14 (<lambda>):\n",
            "Traceback (most recent call last):\n",
            "  File \"/usr/lib/python3.10/threading.py\", line 1016, in _bootstrap_inner\n",
            "    self.run()\n",
            "  File \"/usr/lib/python3.10/threading.py\", line 953, in run\n",
            "    self._target(*self._args, **self._kwargs)\n",
            "  File \"<ipython-input-6-215afabfd2db>\", line 25, in <lambda>\n",
            "  File \"<ipython-input-6-215afabfd2db>\", line 14, in download_data\n",
            "  File \"/usr/local/lib/python3.10/dist-packages/yfinance/multi.py\", line 163, in download\n",
            "Exception in thread Thread-16 (<lambda>):\n",
            "Traceback (most recent call last):\n",
            "  File \"/usr/lib/python3.10/threading.py\", line 1016, in _bootstrap_inner\n",
            "    self.run()\n",
            "  File \"/usr/lib/python3.10/threading.py\", line 953, in run\n",
            "    self._target(*self._args, **self._kwargs)\n",
            "  File \"<ipython-input-6-215afabfd2db>\", line 25, in <lambda>\n",
            "  File \"<ipython-input-6-215afabfd2db>\", line 14, in download_data\n",
            "  File \"/usr/local/lib/python3.10/dist-packages/yfinance/multi.py\", line 163, in download\n",
            "    return shared._DFS[shared._ISINS.get(ticker, ticker)]\n",
            "KeyError: 'MSFT'\n",
            "    return shared._DFS[shared._ISINS.get(ticker, ticker)]\n",
            "KeyError: 'TSLA'\n",
            "Exception in thread Thread-18 (<lambda>):\n",
            "Traceback (most recent call last):\n",
            "  File \"/usr/lib/python3.10/threading.py\", line 1016, in _bootstrap_inner\n",
            "    self.run()\n",
            "  File \"/usr/lib/python3.10/threading.py\", line 953, in run\n",
            "    self._target(*self._args, **self._kwargs)\n",
            "  File \"<ipython-input-6-215afabfd2db>\", line 25, in <lambda>\n",
            "  File \"<ipython-input-6-215afabfd2db>\", line 14, in download_data\n",
            "  File \"/usr/local/lib/python3.10/dist-packages/yfinance/multi.py\", line 163, in download\n",
            "    return shared._DFS[shared._ISINS.get(ticker, ticker)]\n",
            "KeyError: 'AMZN'\n"
          ]
        },
        {
          "output_type": "stream",
          "name": "stdout",
          "text": [
            "\n",
            "\n",
            "\n",
            "\n",
            "\n",
            "\n",
            "\n",
            "\n",
            "\n",
            "\n"
          ]
        },
        {
          "output_type": "error",
          "ename": "KeyError",
          "evalue": "ignored",
          "traceback": [
            "\u001b[0;31m---------------------------------------------------------------------------\u001b[0m",
            "\u001b[0;31mKeyError\u001b[0m                                  Traceback (most recent call last)",
            "\u001b[0;32m<ipython-input-6-215afabfd2db>\u001b[0m in \u001b[0;36m<cell line: 38>\u001b[0;34m()\u001b[0m\n\u001b[1;32m     38\u001b[0m \u001b[0;32mfor\u001b[0m \u001b[0mcompany\u001b[0m \u001b[0;32min\u001b[0m \u001b[0mcompanies\u001b[0m\u001b[0;34m:\u001b[0m\u001b[0;34m\u001b[0m\u001b[0;34m\u001b[0m\u001b[0m\n\u001b[1;32m     39\u001b[0m     \u001b[0mmodel\u001b[0m \u001b[0;34m=\u001b[0m \u001b[0mProphet\u001b[0m\u001b[0;34m(\u001b[0m\u001b[0mdaily_seasonality\u001b[0m\u001b[0;34m=\u001b[0m\u001b[0;32mTrue\u001b[0m\u001b[0;34m)\u001b[0m\u001b[0;34m\u001b[0m\u001b[0;34m\u001b[0m\u001b[0m\n\u001b[0;32m---> 40\u001b[0;31m     \u001b[0mmodel\u001b[0m\u001b[0;34m.\u001b[0m\u001b[0mfit\u001b[0m\u001b[0;34m(\u001b[0m\u001b[0mresults\u001b[0m\u001b[0;34m[\u001b[0m\u001b[0mcompany\u001b[0m\u001b[0;34m]\u001b[0m\u001b[0;34m)\u001b[0m\u001b[0;34m\u001b[0m\u001b[0;34m\u001b[0m\u001b[0m\n\u001b[0m\u001b[1;32m     41\u001b[0m     \u001b[0mmodels\u001b[0m\u001b[0;34m[\u001b[0m\u001b[0mcompany\u001b[0m\u001b[0;34m]\u001b[0m \u001b[0;34m=\u001b[0m \u001b[0mmodel\u001b[0m\u001b[0;34m\u001b[0m\u001b[0;34m\u001b[0m\u001b[0m\n\u001b[1;32m     42\u001b[0m \u001b[0;34m\u001b[0m\u001b[0m\n",
            "\u001b[0;31mKeyError\u001b[0m: 'AAPL'"
          ]
        }
      ]
    }
  ]
}